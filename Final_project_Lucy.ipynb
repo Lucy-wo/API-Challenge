{
  "nbformat": 4,
  "nbformat_minor": 0,
  "metadata": {
    "kernelspec": {
      "display_name": "Python 3",
      "language": "python",
      "name": "python3"
    },
    "language_info": {
      "codemirror_mode": {
        "name": "ipython",
        "version": 3
      },
      "file_extension": ".py",
      "mimetype": "text/x-python",
      "name": "python",
      "nbconvert_exporter": "python",
      "pygments_lexer": "ipython3",
      "version": "3.8.1"
    },
    "colab": {
      "name": "Final project Lucy.ipynb",
      "provenance": [],
      "toc_visible": true,
      "include_colab_link": true
    }
  },
  "cells": [
    {
      "cell_type": "markdown",
      "metadata": {
        "id": "view-in-github",
        "colab_type": "text"
      },
      "source": [
        "<a href=\"https://colab.research.google.com/github/Lucy-wo/API-Challenge/blob/master/Final_project_Lucy.ipynb\" target=\"_parent\"><img src=\"https://colab.research.google.com/assets/colab-badge.svg\" alt=\"Open In Colab\"/></a>"
      ]
    },
    {
      "cell_type": "markdown",
      "metadata": {
        "id": "kYC-KDm0mxV4"
      },
      "source": [
        "# MMA831 Final Project: Instacart Market Basket Analysis"
      ]
    },
    {
      "cell_type": "markdown",
      "metadata": {
        "id": "dB1UQM7RmxV4"
      },
      "source": [
        "## Goal: \n",
        " - This is a classification problem because we need to predict whether each pair of user and product is a reorder or not\n",
        " - To predict which products will be in a user's next order. i.e. reordered=1 or reordered=0\n",
        " - We will do so by analysing the prior orders of the dataset. We will then use the train users to create a predictive model and the test users to make our actual prediction\n",
        " - PCA to reduction variables and clustering customer"
      ]
    },
    {
      "cell_type": "markdown",
      "metadata": {
        "id": "NJWf2OqSmxV5"
      },
      "source": [
        "## Datasets:\n",
        "\n",
        "Instacart is an American company that operates as a same-day grocery delivery service. Customers select groceries through a web application from various retailers and delivered by a personal shopper. Instacart's service is mainly provided through a smartphone app, available on iOS and Android platforms, apart from its website.\n",
        "\n",
        "To predict which previously purchased products (prior orders) will be in a user’s next order (train and test orders).\n",
        "\n",
        "For the train orders Instacart reveals the results (i.e., the ordered products) while for the test orders we do not have this piece of information.\n",
        "\n",
        "1. orders: All orders, namely prior, train, and test. It has single primary key (order_id).\n",
        "\n",
        "2. order_products_train: This table includes training orders. It has a composite primary key (order_id and product_id) and indicates whether a product in an order is a reorder or not (through the reordered variable).\n",
        "\n",
        "3. order_products_prior : This table includes prior orders. It has a composite primary key (order_id and product_id) and indicates whether a product in an order is a reorder or not (through the reordered variable).\n",
        "\n",
        "4. products: This table includes all products. It has a single primary key (product_id)\n",
        "\n",
        "5. aisles: This table includes all aisles. It has a single primary key (aisle_id)\n",
        "\n",
        "6. departments: This table includes all departments. It has a single primary key (department_id)"
      ]
    },
    {
      "cell_type": "markdown",
      "metadata": {
        "id": "c32p7WKbmxV5"
      },
      "source": [
        "## Dataset relationship\n",
        "- users are identified by user_id in the orders csv file. Each row of the orders csv fil represents an order made by a user. Order are identified by order_id;\n",
        "\n",
        "- Each order of a user is characterized by an order_number which specifies when it has been made with respect to the others of the same user;\n",
        "\n",
        "- each order consists of a set of product each characterized by an add_to_cart_order feature representing the sequence in which they have been added to the cart in that order;\n",
        "\n",
        "- for each user we may have n-1 prior orders and 1 train order OR n-1 prior orders and 1 test order in which we have to state what products have been reordered."
      ]
    },
    {
      "cell_type": "markdown",
      "metadata": {
        "id": "ux-T6tREmxV6"
      },
      "source": [
        "# Steps\n",
        "## One: Build Model \n",
        "1. Merge all tables together based on primary keys\n",
        "2. Data cleasing(missing, colinarity, correlated.....)\n",
        "3. Feature engineering,Transactional data (such as credit card purchases) \n",
        "  - needs to be aggregated in some way to give a concise summary for each user (e.g., average transactions per month, average spend per month, highest spend, most popular store, etc.)\n",
        "  - Scale data\n",
        "4. Split train and test datasets\n",
        "5. Models (KNN need to scale) and apply prediction\n",
        "\n",
        "## Two: PCA and segment customer\n"
      ]
    },
    {
      "cell_type": "markdown",
      "metadata": {
        "id": "ENdINC8gmxV7"
      },
      "source": [
        "# <font color='blue'>Load Data</font> "
      ]
    },
    {
      "cell_type": "code",
      "metadata": {
        "id": "LKd5AD5tmxV7"
      },
      "source": [
        "import numpy as np \n",
        "import pandas as pd \n",
        "import matplotlib.pyplot as plt\n",
        "import seaborn as sns\n",
        "import os"
      ],
      "execution_count": 1,
      "outputs": []
    },
    {
      "cell_type": "code",
      "metadata": {
        "id": "66tq-357mxV7"
      },
      "source": [
        "aisles_df = pd.read_csv(\"aisles.csv\")\n",
        "departments_df = pd.read_csv(\"departments.csv\")\n",
        "order_products_prior_df = pd.read_csv(\"order_products__prior.csv\")\n",
        "order_products_train_df = pd.read_csv(\"order_products__train.csv\")\n",
        "orders_df = pd.read_csv(\"orders.csv\")\n",
        "products_df = pd.read_csv(\"products.csv\")"
      ],
      "execution_count": 3,
      "outputs": []
    },
    {
      "cell_type": "code",
      "metadata": {
        "id": "MCuJMmiCmxV8"
      },
      "source": [
        "aisles_df['aisle'] = aisles_df['aisle'].astype('category')\n",
        "departments_df['department'] = departments_df['department'].astype('category')\n",
        "orders_df['eval_set'] = orders_df['eval_set'].astype('category')\n",
        "products_df['product_name'] = products_df['product_name'].astype('category')"
      ],
      "execution_count": 4,
      "outputs": []
    },
    {
      "cell_type": "markdown",
      "metadata": {
        "id": "JgvQadRRmxV8"
      },
      "source": [
        "# <font color='blue'>Check tables information</font> "
      ]
    },
    {
      "cell_type": "code",
      "metadata": {
        "colab": {
          "base_uri": "https://localhost:8080/",
          "height": 391
        },
        "id": "DwnmHQFwmxV8",
        "outputId": "113ad338-796b-4264-ac71-ac9c0f0cb8d1"
      },
      "source": [
        "products_df.info()\n",
        "products_df.head()"
      ],
      "execution_count": 5,
      "outputs": [
        {
          "output_type": "stream",
          "text": [
            "<class 'pandas.core.frame.DataFrame'>\n",
            "RangeIndex: 49688 entries, 0 to 49687\n",
            "Data columns (total 4 columns):\n",
            " #   Column         Non-Null Count  Dtype   \n",
            "---  ------         --------------  -----   \n",
            " 0   product_id     49688 non-null  int64   \n",
            " 1   product_name   49688 non-null  category\n",
            " 2   aisle_id       49688 non-null  int64   \n",
            " 3   department_id  49688 non-null  int64   \n",
            "dtypes: category(1), int64(3)\n",
            "memory usage: 3.0 MB\n"
          ],
          "name": "stdout"
        },
        {
          "output_type": "execute_result",
          "data": {
            "text/html": [
              "<div>\n",
              "<style scoped>\n",
              "    .dataframe tbody tr th:only-of-type {\n",
              "        vertical-align: middle;\n",
              "    }\n",
              "\n",
              "    .dataframe tbody tr th {\n",
              "        vertical-align: top;\n",
              "    }\n",
              "\n",
              "    .dataframe thead th {\n",
              "        text-align: right;\n",
              "    }\n",
              "</style>\n",
              "<table border=\"1\" class=\"dataframe\">\n",
              "  <thead>\n",
              "    <tr style=\"text-align: right;\">\n",
              "      <th></th>\n",
              "      <th>product_id</th>\n",
              "      <th>product_name</th>\n",
              "      <th>aisle_id</th>\n",
              "      <th>department_id</th>\n",
              "    </tr>\n",
              "  </thead>\n",
              "  <tbody>\n",
              "    <tr>\n",
              "      <th>0</th>\n",
              "      <td>1</td>\n",
              "      <td>Chocolate Sandwich Cookies</td>\n",
              "      <td>61</td>\n",
              "      <td>19</td>\n",
              "    </tr>\n",
              "    <tr>\n",
              "      <th>1</th>\n",
              "      <td>2</td>\n",
              "      <td>All-Seasons Salt</td>\n",
              "      <td>104</td>\n",
              "      <td>13</td>\n",
              "    </tr>\n",
              "    <tr>\n",
              "      <th>2</th>\n",
              "      <td>3</td>\n",
              "      <td>Robust Golden Unsweetened Oolong Tea</td>\n",
              "      <td>94</td>\n",
              "      <td>7</td>\n",
              "    </tr>\n",
              "    <tr>\n",
              "      <th>3</th>\n",
              "      <td>4</td>\n",
              "      <td>Smart Ones Classic Favorites Mini Rigatoni Wit...</td>\n",
              "      <td>38</td>\n",
              "      <td>1</td>\n",
              "    </tr>\n",
              "    <tr>\n",
              "      <th>4</th>\n",
              "      <td>5</td>\n",
              "      <td>Green Chile Anytime Sauce</td>\n",
              "      <td>5</td>\n",
              "      <td>13</td>\n",
              "    </tr>\n",
              "  </tbody>\n",
              "</table>\n",
              "</div>"
            ],
            "text/plain": [
              "   product_id  ... department_id\n",
              "0           1  ...            19\n",
              "1           2  ...            13\n",
              "2           3  ...             7\n",
              "3           4  ...             1\n",
              "4           5  ...            13\n",
              "\n",
              "[5 rows x 4 columns]"
            ]
          },
          "metadata": {
            "tags": []
          },
          "execution_count": 5
        }
      ]
    },
    {
      "cell_type": "code",
      "metadata": {
        "colab": {
          "base_uri": "https://localhost:8080/"
        },
        "id": "n1WanZk4mxV9",
        "outputId": "005e0470-3cb2-4c06-8540-21f37bc52b5c"
      },
      "source": [
        "len(products_df)"
      ],
      "execution_count": 6,
      "outputs": [
        {
          "output_type": "execute_result",
          "data": {
            "text/plain": [
              "49688"
            ]
          },
          "metadata": {
            "tags": []
          },
          "execution_count": 6
        }
      ]
    },
    {
      "cell_type": "code",
      "metadata": {
        "colab": {
          "base_uri": "https://localhost:8080/",
          "height": 357
        },
        "id": "raHMh_CvmxV-",
        "outputId": "66bf9576-4a79-4a06-f095-62b7f1218e6f"
      },
      "source": [
        "aisles_df.info()\n",
        "aisles_df.head()"
      ],
      "execution_count": 7,
      "outputs": [
        {
          "output_type": "stream",
          "text": [
            "<class 'pandas.core.frame.DataFrame'>\n",
            "RangeIndex: 134 entries, 0 to 133\n",
            "Data columns (total 2 columns):\n",
            " #   Column    Non-Null Count  Dtype   \n",
            "---  ------    --------------  -----   \n",
            " 0   aisle_id  134 non-null    int64   \n",
            " 1   aisle     134 non-null    category\n",
            "dtypes: category(1), int64(1)\n",
            "memory usage: 7.5 KB\n"
          ],
          "name": "stdout"
        },
        {
          "output_type": "execute_result",
          "data": {
            "text/html": [
              "<div>\n",
              "<style scoped>\n",
              "    .dataframe tbody tr th:only-of-type {\n",
              "        vertical-align: middle;\n",
              "    }\n",
              "\n",
              "    .dataframe tbody tr th {\n",
              "        vertical-align: top;\n",
              "    }\n",
              "\n",
              "    .dataframe thead th {\n",
              "        text-align: right;\n",
              "    }\n",
              "</style>\n",
              "<table border=\"1\" class=\"dataframe\">\n",
              "  <thead>\n",
              "    <tr style=\"text-align: right;\">\n",
              "      <th></th>\n",
              "      <th>aisle_id</th>\n",
              "      <th>aisle</th>\n",
              "    </tr>\n",
              "  </thead>\n",
              "  <tbody>\n",
              "    <tr>\n",
              "      <th>0</th>\n",
              "      <td>1</td>\n",
              "      <td>prepared soups salads</td>\n",
              "    </tr>\n",
              "    <tr>\n",
              "      <th>1</th>\n",
              "      <td>2</td>\n",
              "      <td>specialty cheeses</td>\n",
              "    </tr>\n",
              "    <tr>\n",
              "      <th>2</th>\n",
              "      <td>3</td>\n",
              "      <td>energy granola bars</td>\n",
              "    </tr>\n",
              "    <tr>\n",
              "      <th>3</th>\n",
              "      <td>4</td>\n",
              "      <td>instant foods</td>\n",
              "    </tr>\n",
              "    <tr>\n",
              "      <th>4</th>\n",
              "      <td>5</td>\n",
              "      <td>marinades meat preparation</td>\n",
              "    </tr>\n",
              "  </tbody>\n",
              "</table>\n",
              "</div>"
            ],
            "text/plain": [
              "   aisle_id                       aisle\n",
              "0         1       prepared soups salads\n",
              "1         2           specialty cheeses\n",
              "2         3         energy granola bars\n",
              "3         4               instant foods\n",
              "4         5  marinades meat preparation"
            ]
          },
          "metadata": {
            "tags": []
          },
          "execution_count": 7
        }
      ]
    },
    {
      "cell_type": "code",
      "metadata": {
        "colab": {
          "base_uri": "https://localhost:8080/",
          "height": 357
        },
        "id": "qVoLdJrwmxV-",
        "outputId": "01a7b56b-0c66-4db6-bcd4-5bd3badeaf92"
      },
      "source": [
        "departments_df.info()\n",
        "departments_df.head()"
      ],
      "execution_count": 8,
      "outputs": [
        {
          "output_type": "stream",
          "text": [
            "<class 'pandas.core.frame.DataFrame'>\n",
            "RangeIndex: 21 entries, 0 to 20\n",
            "Data columns (total 2 columns):\n",
            " #   Column         Non-Null Count  Dtype   \n",
            "---  ------         --------------  -----   \n",
            " 0   department_id  21 non-null     int64   \n",
            " 1   department     21 non-null     category\n",
            "dtypes: category(1), int64(1)\n",
            "memory usage: 1.1 KB\n"
          ],
          "name": "stdout"
        },
        {
          "output_type": "execute_result",
          "data": {
            "text/html": [
              "<div>\n",
              "<style scoped>\n",
              "    .dataframe tbody tr th:only-of-type {\n",
              "        vertical-align: middle;\n",
              "    }\n",
              "\n",
              "    .dataframe tbody tr th {\n",
              "        vertical-align: top;\n",
              "    }\n",
              "\n",
              "    .dataframe thead th {\n",
              "        text-align: right;\n",
              "    }\n",
              "</style>\n",
              "<table border=\"1\" class=\"dataframe\">\n",
              "  <thead>\n",
              "    <tr style=\"text-align: right;\">\n",
              "      <th></th>\n",
              "      <th>department_id</th>\n",
              "      <th>department</th>\n",
              "    </tr>\n",
              "  </thead>\n",
              "  <tbody>\n",
              "    <tr>\n",
              "      <th>0</th>\n",
              "      <td>1</td>\n",
              "      <td>frozen</td>\n",
              "    </tr>\n",
              "    <tr>\n",
              "      <th>1</th>\n",
              "      <td>2</td>\n",
              "      <td>other</td>\n",
              "    </tr>\n",
              "    <tr>\n",
              "      <th>2</th>\n",
              "      <td>3</td>\n",
              "      <td>bakery</td>\n",
              "    </tr>\n",
              "    <tr>\n",
              "      <th>3</th>\n",
              "      <td>4</td>\n",
              "      <td>produce</td>\n",
              "    </tr>\n",
              "    <tr>\n",
              "      <th>4</th>\n",
              "      <td>5</td>\n",
              "      <td>alcohol</td>\n",
              "    </tr>\n",
              "  </tbody>\n",
              "</table>\n",
              "</div>"
            ],
            "text/plain": [
              "   department_id department\n",
              "0              1     frozen\n",
              "1              2      other\n",
              "2              3     bakery\n",
              "3              4    produce\n",
              "4              5    alcohol"
            ]
          },
          "metadata": {
            "tags": []
          },
          "execution_count": 8
        }
      ]
    },
    {
      "cell_type": "code",
      "metadata": {
        "colab": {
          "base_uri": "https://localhost:8080/",
          "height": 391
        },
        "id": "bhH2zo2ymxV_",
        "outputId": "76950523-ca05-4ffb-80eb-4bf3c7590999"
      },
      "source": [
        "order_products_train_df.info()\n",
        "order_products_train_df.head()"
      ],
      "execution_count": 9,
      "outputs": [
        {
          "output_type": "stream",
          "text": [
            "<class 'pandas.core.frame.DataFrame'>\n",
            "RangeIndex: 602693 entries, 0 to 602692\n",
            "Data columns (total 4 columns):\n",
            " #   Column             Non-Null Count   Dtype  \n",
            "---  ------             --------------   -----  \n",
            " 0   order_id           602693 non-null  int64  \n",
            " 1   product_id         602692 non-null  float64\n",
            " 2   add_to_cart_order  602692 non-null  float64\n",
            " 3   reordered          602692 non-null  float64\n",
            "dtypes: float64(3), int64(1)\n",
            "memory usage: 18.4 MB\n"
          ],
          "name": "stdout"
        },
        {
          "output_type": "execute_result",
          "data": {
            "text/html": [
              "<div>\n",
              "<style scoped>\n",
              "    .dataframe tbody tr th:only-of-type {\n",
              "        vertical-align: middle;\n",
              "    }\n",
              "\n",
              "    .dataframe tbody tr th {\n",
              "        vertical-align: top;\n",
              "    }\n",
              "\n",
              "    .dataframe thead th {\n",
              "        text-align: right;\n",
              "    }\n",
              "</style>\n",
              "<table border=\"1\" class=\"dataframe\">\n",
              "  <thead>\n",
              "    <tr style=\"text-align: right;\">\n",
              "      <th></th>\n",
              "      <th>order_id</th>\n",
              "      <th>product_id</th>\n",
              "      <th>add_to_cart_order</th>\n",
              "      <th>reordered</th>\n",
              "    </tr>\n",
              "  </thead>\n",
              "  <tbody>\n",
              "    <tr>\n",
              "      <th>0</th>\n",
              "      <td>1</td>\n",
              "      <td>49302.0</td>\n",
              "      <td>1.0</td>\n",
              "      <td>1.0</td>\n",
              "    </tr>\n",
              "    <tr>\n",
              "      <th>1</th>\n",
              "      <td>1</td>\n",
              "      <td>11109.0</td>\n",
              "      <td>2.0</td>\n",
              "      <td>1.0</td>\n",
              "    </tr>\n",
              "    <tr>\n",
              "      <th>2</th>\n",
              "      <td>1</td>\n",
              "      <td>10246.0</td>\n",
              "      <td>3.0</td>\n",
              "      <td>0.0</td>\n",
              "    </tr>\n",
              "    <tr>\n",
              "      <th>3</th>\n",
              "      <td>1</td>\n",
              "      <td>49683.0</td>\n",
              "      <td>4.0</td>\n",
              "      <td>0.0</td>\n",
              "    </tr>\n",
              "    <tr>\n",
              "      <th>4</th>\n",
              "      <td>1</td>\n",
              "      <td>43633.0</td>\n",
              "      <td>5.0</td>\n",
              "      <td>1.0</td>\n",
              "    </tr>\n",
              "  </tbody>\n",
              "</table>\n",
              "</div>"
            ],
            "text/plain": [
              "   order_id  product_id  add_to_cart_order  reordered\n",
              "0         1     49302.0                1.0        1.0\n",
              "1         1     11109.0                2.0        1.0\n",
              "2         1     10246.0                3.0        0.0\n",
              "3         1     49683.0                4.0        0.0\n",
              "4         1     43633.0                5.0        1.0"
            ]
          },
          "metadata": {
            "tags": []
          },
          "execution_count": 9
        }
      ]
    },
    {
      "cell_type": "code",
      "metadata": {
        "colab": {
          "base_uri": "https://localhost:8080/",
          "height": 391
        },
        "id": "XA0xpgQvmxV_",
        "outputId": "158f4574-e1d0-47a6-c346-b0439dff7891"
      },
      "source": [
        "order_products_prior_df.info()\n",
        "order_products_prior_df.head()"
      ],
      "execution_count": 10,
      "outputs": [
        {
          "output_type": "stream",
          "text": [
            "<class 'pandas.core.frame.DataFrame'>\n",
            "RangeIndex: 591557 entries, 0 to 591556\n",
            "Data columns (total 4 columns):\n",
            " #   Column             Non-Null Count   Dtype  \n",
            "---  ------             --------------   -----  \n",
            " 0   order_id           591557 non-null  int64  \n",
            " 1   product_id         591556 non-null  float64\n",
            " 2   add_to_cart_order  591556 non-null  float64\n",
            " 3   reordered          591556 non-null  float64\n",
            "dtypes: float64(3), int64(1)\n",
            "memory usage: 18.1 MB\n"
          ],
          "name": "stdout"
        },
        {
          "output_type": "execute_result",
          "data": {
            "text/html": [
              "<div>\n",
              "<style scoped>\n",
              "    .dataframe tbody tr th:only-of-type {\n",
              "        vertical-align: middle;\n",
              "    }\n",
              "\n",
              "    .dataframe tbody tr th {\n",
              "        vertical-align: top;\n",
              "    }\n",
              "\n",
              "    .dataframe thead th {\n",
              "        text-align: right;\n",
              "    }\n",
              "</style>\n",
              "<table border=\"1\" class=\"dataframe\">\n",
              "  <thead>\n",
              "    <tr style=\"text-align: right;\">\n",
              "      <th></th>\n",
              "      <th>order_id</th>\n",
              "      <th>product_id</th>\n",
              "      <th>add_to_cart_order</th>\n",
              "      <th>reordered</th>\n",
              "    </tr>\n",
              "  </thead>\n",
              "  <tbody>\n",
              "    <tr>\n",
              "      <th>0</th>\n",
              "      <td>2</td>\n",
              "      <td>33120.0</td>\n",
              "      <td>1.0</td>\n",
              "      <td>1.0</td>\n",
              "    </tr>\n",
              "    <tr>\n",
              "      <th>1</th>\n",
              "      <td>2</td>\n",
              "      <td>28985.0</td>\n",
              "      <td>2.0</td>\n",
              "      <td>1.0</td>\n",
              "    </tr>\n",
              "    <tr>\n",
              "      <th>2</th>\n",
              "      <td>2</td>\n",
              "      <td>9327.0</td>\n",
              "      <td>3.0</td>\n",
              "      <td>0.0</td>\n",
              "    </tr>\n",
              "    <tr>\n",
              "      <th>3</th>\n",
              "      <td>2</td>\n",
              "      <td>45918.0</td>\n",
              "      <td>4.0</td>\n",
              "      <td>1.0</td>\n",
              "    </tr>\n",
              "    <tr>\n",
              "      <th>4</th>\n",
              "      <td>2</td>\n",
              "      <td>30035.0</td>\n",
              "      <td>5.0</td>\n",
              "      <td>0.0</td>\n",
              "    </tr>\n",
              "  </tbody>\n",
              "</table>\n",
              "</div>"
            ],
            "text/plain": [
              "   order_id  product_id  add_to_cart_order  reordered\n",
              "0         2     33120.0                1.0        1.0\n",
              "1         2     28985.0                2.0        1.0\n",
              "2         2      9327.0                3.0        0.0\n",
              "3         2     45918.0                4.0        1.0\n",
              "4         2     30035.0                5.0        0.0"
            ]
          },
          "metadata": {
            "tags": []
          },
          "execution_count": 10
        }
      ]
    },
    {
      "cell_type": "code",
      "metadata": {
        "colab": {
          "base_uri": "https://localhost:8080/",
          "height": 442
        },
        "id": "CvI1xCOkmxWA",
        "outputId": "54458d0b-d99e-4c41-d485-8ae74180580d"
      },
      "source": [
        "orders_df.info()\n",
        "orders_df.head()"
      ],
      "execution_count": 11,
      "outputs": [
        {
          "output_type": "stream",
          "text": [
            "<class 'pandas.core.frame.DataFrame'>\n",
            "RangeIndex: 339872 entries, 0 to 339871\n",
            "Data columns (total 7 columns):\n",
            " #   Column                  Non-Null Count   Dtype   \n",
            "---  ------                  --------------   -----   \n",
            " 0   order_id                339872 non-null  int64   \n",
            " 1   user_id                 339872 non-null  int64   \n",
            " 2   eval_set                339872 non-null  category\n",
            " 3   order_number            339871 non-null  float64 \n",
            " 4   order_dow               339871 non-null  float64 \n",
            " 5   order_hour_of_day       339871 non-null  float64 \n",
            " 6   days_since_prior_order  319289 non-null  float64 \n",
            "dtypes: category(1), float64(4), int64(2)\n",
            "memory usage: 15.9 MB\n"
          ],
          "name": "stdout"
        },
        {
          "output_type": "execute_result",
          "data": {
            "text/html": [
              "<div>\n",
              "<style scoped>\n",
              "    .dataframe tbody tr th:only-of-type {\n",
              "        vertical-align: middle;\n",
              "    }\n",
              "\n",
              "    .dataframe tbody tr th {\n",
              "        vertical-align: top;\n",
              "    }\n",
              "\n",
              "    .dataframe thead th {\n",
              "        text-align: right;\n",
              "    }\n",
              "</style>\n",
              "<table border=\"1\" class=\"dataframe\">\n",
              "  <thead>\n",
              "    <tr style=\"text-align: right;\">\n",
              "      <th></th>\n",
              "      <th>order_id</th>\n",
              "      <th>user_id</th>\n",
              "      <th>eval_set</th>\n",
              "      <th>order_number</th>\n",
              "      <th>order_dow</th>\n",
              "      <th>order_hour_of_day</th>\n",
              "      <th>days_since_prior_order</th>\n",
              "    </tr>\n",
              "  </thead>\n",
              "  <tbody>\n",
              "    <tr>\n",
              "      <th>0</th>\n",
              "      <td>2539329</td>\n",
              "      <td>1</td>\n",
              "      <td>prior</td>\n",
              "      <td>1.0</td>\n",
              "      <td>2.0</td>\n",
              "      <td>8.0</td>\n",
              "      <td>NaN</td>\n",
              "    </tr>\n",
              "    <tr>\n",
              "      <th>1</th>\n",
              "      <td>2398795</td>\n",
              "      <td>1</td>\n",
              "      <td>prior</td>\n",
              "      <td>2.0</td>\n",
              "      <td>3.0</td>\n",
              "      <td>7.0</td>\n",
              "      <td>15.0</td>\n",
              "    </tr>\n",
              "    <tr>\n",
              "      <th>2</th>\n",
              "      <td>473747</td>\n",
              "      <td>1</td>\n",
              "      <td>prior</td>\n",
              "      <td>3.0</td>\n",
              "      <td>3.0</td>\n",
              "      <td>12.0</td>\n",
              "      <td>21.0</td>\n",
              "    </tr>\n",
              "    <tr>\n",
              "      <th>3</th>\n",
              "      <td>2254736</td>\n",
              "      <td>1</td>\n",
              "      <td>prior</td>\n",
              "      <td>4.0</td>\n",
              "      <td>4.0</td>\n",
              "      <td>7.0</td>\n",
              "      <td>29.0</td>\n",
              "    </tr>\n",
              "    <tr>\n",
              "      <th>4</th>\n",
              "      <td>431534</td>\n",
              "      <td>1</td>\n",
              "      <td>prior</td>\n",
              "      <td>5.0</td>\n",
              "      <td>4.0</td>\n",
              "      <td>15.0</td>\n",
              "      <td>28.0</td>\n",
              "    </tr>\n",
              "  </tbody>\n",
              "</table>\n",
              "</div>"
            ],
            "text/plain": [
              "   order_id  user_id  ... order_hour_of_day  days_since_prior_order\n",
              "0   2539329        1  ...               8.0                     NaN\n",
              "1   2398795        1  ...               7.0                    15.0\n",
              "2    473747        1  ...              12.0                    21.0\n",
              "3   2254736        1  ...               7.0                    29.0\n",
              "4    431534        1  ...              15.0                    28.0\n",
              "\n",
              "[5 rows x 7 columns]"
            ]
          },
          "metadata": {
            "tags": []
          },
          "execution_count": 11
        }
      ]
    },
    {
      "cell_type": "code",
      "metadata": {
        "colab": {
          "base_uri": "https://localhost:8080/",
          "height": 204
        },
        "id": "lDKJsiOumxWA",
        "outputId": "629663ab-ae22-43b9-9191-7b8449d79cca"
      },
      "source": [
        "orders_df.groupby('eval_set').nunique()"
      ],
      "execution_count": 12,
      "outputs": [
        {
          "output_type": "execute_result",
          "data": {
            "text/html": [
              "<div>\n",
              "<style scoped>\n",
              "    .dataframe tbody tr th:only-of-type {\n",
              "        vertical-align: middle;\n",
              "    }\n",
              "\n",
              "    .dataframe tbody tr th {\n",
              "        vertical-align: top;\n",
              "    }\n",
              "\n",
              "    .dataframe thead th {\n",
              "        text-align: right;\n",
              "    }\n",
              "</style>\n",
              "<table border=\"1\" class=\"dataframe\">\n",
              "  <thead>\n",
              "    <tr style=\"text-align: right;\">\n",
              "      <th></th>\n",
              "      <th>order_id</th>\n",
              "      <th>user_id</th>\n",
              "      <th>order_number</th>\n",
              "      <th>order_dow</th>\n",
              "      <th>order_hour_of_day</th>\n",
              "      <th>days_since_prior_order</th>\n",
              "    </tr>\n",
              "    <tr>\n",
              "      <th>eval_set</th>\n",
              "      <th></th>\n",
              "      <th></th>\n",
              "      <th></th>\n",
              "      <th></th>\n",
              "      <th></th>\n",
              "      <th></th>\n",
              "    </tr>\n",
              "  </thead>\n",
              "  <tbody>\n",
              "    <tr>\n",
              "      <th>prior</th>\n",
              "      <td>319290</td>\n",
              "      <td>20582</td>\n",
              "      <td>99</td>\n",
              "      <td>7</td>\n",
              "      <td>24</td>\n",
              "      <td>31</td>\n",
              "    </tr>\n",
              "    <tr>\n",
              "      <th>te</th>\n",
              "      <td>1</td>\n",
              "      <td>1</td>\n",
              "      <td>0</td>\n",
              "      <td>0</td>\n",
              "      <td>0</td>\n",
              "      <td>0</td>\n",
              "    </tr>\n",
              "    <tr>\n",
              "      <th>test</th>\n",
              "      <td>7418</td>\n",
              "      <td>7418</td>\n",
              "      <td>94</td>\n",
              "      <td>7</td>\n",
              "      <td>24</td>\n",
              "      <td>31</td>\n",
              "    </tr>\n",
              "    <tr>\n",
              "      <th>train</th>\n",
              "      <td>13163</td>\n",
              "      <td>13163</td>\n",
              "      <td>96</td>\n",
              "      <td>7</td>\n",
              "      <td>24</td>\n",
              "      <td>31</td>\n",
              "    </tr>\n",
              "  </tbody>\n",
              "</table>\n",
              "</div>"
            ],
            "text/plain": [
              "          order_id  user_id  ...  order_hour_of_day  days_since_prior_order\n",
              "eval_set                     ...                                           \n",
              "prior       319290    20582  ...                 24                      31\n",
              "te               1        1  ...                  0                       0\n",
              "test          7418     7418  ...                 24                      31\n",
              "train        13163    13163  ...                 24                      31\n",
              "\n",
              "[4 rows x 6 columns]"
            ]
          },
          "metadata": {
            "tags": []
          },
          "execution_count": 12
        }
      ]
    },
    {
      "cell_type": "code",
      "metadata": {
        "colab": {
          "base_uri": "https://localhost:8080/"
        },
        "id": "B2rWWlLnmxWB",
        "outputId": "80297088-465c-4840-9c3a-0d31e15ab0a3"
      },
      "source": [
        "orders_df.user_id.nunique()"
      ],
      "execution_count": 13,
      "outputs": [
        {
          "output_type": "execute_result",
          "data": {
            "text/plain": [
              "20582"
            ]
          },
          "metadata": {
            "tags": []
          },
          "execution_count": 13
        }
      ]
    },
    {
      "cell_type": "markdown",
      "metadata": {
        "id": "4nv2aWlxmxWB"
      },
      "source": [
        "# <font color='blue'>Merge all prior info into one table </font> "
      ]
    },
    {
      "cell_type": "code",
      "metadata": {
        "colab": {
          "base_uri": "https://localhost:8080/",
          "height": 309
        },
        "id": "OjptxoeymxWB",
        "outputId": "bb9698f6-6696-482a-b25d-3c98329e4d35"
      },
      "source": [
        "order_products_prior_df = pd.merge(order_products_prior_df, products_df, on='product_id', how='left')\n",
        "\n",
        "order_products_prior_df = pd.merge(order_products_prior_df, aisles_df, on='aisle_id', how='left')\n",
        "\n",
        "order_products_prior_df = pd.merge(order_products_prior_df, departments_df, on='department_id', how='left')\n",
        "\n",
        "order_products_prior_df = pd.merge(order_products_prior_df, orders_df, on='order_id', how='left')\n",
        "\n",
        "order_products_prior_df.head()"
      ],
      "execution_count": 14,
      "outputs": [
        {
          "output_type": "execute_result",
          "data": {
            "text/html": [
              "<div>\n",
              "<style scoped>\n",
              "    .dataframe tbody tr th:only-of-type {\n",
              "        vertical-align: middle;\n",
              "    }\n",
              "\n",
              "    .dataframe tbody tr th {\n",
              "        vertical-align: top;\n",
              "    }\n",
              "\n",
              "    .dataframe thead th {\n",
              "        text-align: right;\n",
              "    }\n",
              "</style>\n",
              "<table border=\"1\" class=\"dataframe\">\n",
              "  <thead>\n",
              "    <tr style=\"text-align: right;\">\n",
              "      <th></th>\n",
              "      <th>order_id</th>\n",
              "      <th>product_id</th>\n",
              "      <th>add_to_cart_order</th>\n",
              "      <th>reordered</th>\n",
              "      <th>product_name</th>\n",
              "      <th>aisle_id</th>\n",
              "      <th>department_id</th>\n",
              "      <th>aisle</th>\n",
              "      <th>department</th>\n",
              "      <th>user_id</th>\n",
              "      <th>eval_set</th>\n",
              "      <th>order_number</th>\n",
              "      <th>order_dow</th>\n",
              "      <th>order_hour_of_day</th>\n",
              "      <th>days_since_prior_order</th>\n",
              "    </tr>\n",
              "  </thead>\n",
              "  <tbody>\n",
              "    <tr>\n",
              "      <th>0</th>\n",
              "      <td>2</td>\n",
              "      <td>33120.0</td>\n",
              "      <td>1.0</td>\n",
              "      <td>1.0</td>\n",
              "      <td>Organic Egg Whites</td>\n",
              "      <td>86.0</td>\n",
              "      <td>16.0</td>\n",
              "      <td>eggs</td>\n",
              "      <td>dairy eggs</td>\n",
              "      <td>NaN</td>\n",
              "      <td>NaN</td>\n",
              "      <td>NaN</td>\n",
              "      <td>NaN</td>\n",
              "      <td>NaN</td>\n",
              "      <td>NaN</td>\n",
              "    </tr>\n",
              "    <tr>\n",
              "      <th>1</th>\n",
              "      <td>2</td>\n",
              "      <td>28985.0</td>\n",
              "      <td>2.0</td>\n",
              "      <td>1.0</td>\n",
              "      <td>Michigan Organic Kale</td>\n",
              "      <td>83.0</td>\n",
              "      <td>4.0</td>\n",
              "      <td>fresh vegetables</td>\n",
              "      <td>produce</td>\n",
              "      <td>NaN</td>\n",
              "      <td>NaN</td>\n",
              "      <td>NaN</td>\n",
              "      <td>NaN</td>\n",
              "      <td>NaN</td>\n",
              "      <td>NaN</td>\n",
              "    </tr>\n",
              "    <tr>\n",
              "      <th>2</th>\n",
              "      <td>2</td>\n",
              "      <td>9327.0</td>\n",
              "      <td>3.0</td>\n",
              "      <td>0.0</td>\n",
              "      <td>Garlic Powder</td>\n",
              "      <td>104.0</td>\n",
              "      <td>13.0</td>\n",
              "      <td>spices seasonings</td>\n",
              "      <td>pantry</td>\n",
              "      <td>NaN</td>\n",
              "      <td>NaN</td>\n",
              "      <td>NaN</td>\n",
              "      <td>NaN</td>\n",
              "      <td>NaN</td>\n",
              "      <td>NaN</td>\n",
              "    </tr>\n",
              "    <tr>\n",
              "      <th>3</th>\n",
              "      <td>2</td>\n",
              "      <td>45918.0</td>\n",
              "      <td>4.0</td>\n",
              "      <td>1.0</td>\n",
              "      <td>Coconut Butter</td>\n",
              "      <td>19.0</td>\n",
              "      <td>13.0</td>\n",
              "      <td>oils vinegars</td>\n",
              "      <td>pantry</td>\n",
              "      <td>NaN</td>\n",
              "      <td>NaN</td>\n",
              "      <td>NaN</td>\n",
              "      <td>NaN</td>\n",
              "      <td>NaN</td>\n",
              "      <td>NaN</td>\n",
              "    </tr>\n",
              "    <tr>\n",
              "      <th>4</th>\n",
              "      <td>2</td>\n",
              "      <td>30035.0</td>\n",
              "      <td>5.0</td>\n",
              "      <td>0.0</td>\n",
              "      <td>Natural Sweetener</td>\n",
              "      <td>17.0</td>\n",
              "      <td>13.0</td>\n",
              "      <td>baking ingredients</td>\n",
              "      <td>pantry</td>\n",
              "      <td>NaN</td>\n",
              "      <td>NaN</td>\n",
              "      <td>NaN</td>\n",
              "      <td>NaN</td>\n",
              "      <td>NaN</td>\n",
              "      <td>NaN</td>\n",
              "    </tr>\n",
              "  </tbody>\n",
              "</table>\n",
              "</div>"
            ],
            "text/plain": [
              "   order_id  product_id  ...  order_hour_of_day  days_since_prior_order\n",
              "0         2     33120.0  ...                NaN                     NaN\n",
              "1         2     28985.0  ...                NaN                     NaN\n",
              "2         2      9327.0  ...                NaN                     NaN\n",
              "3         2     45918.0  ...                NaN                     NaN\n",
              "4         2     30035.0  ...                NaN                     NaN\n",
              "\n",
              "[5 rows x 15 columns]"
            ]
          },
          "metadata": {
            "tags": []
          },
          "execution_count": 14
        }
      ]
    },
    {
      "cell_type": "markdown",
      "metadata": {
        "id": "1uxDhTBzmxWC"
      },
      "source": [
        "# <font color='blue'>Feature Engineering</font> "
      ]
    },
    {
      "cell_type": "markdown",
      "metadata": {
        "id": "xeTgZkbimxWC"
      },
      "source": [
        "1. Get each user's total number of orders"
      ]
    },
    {
      "cell_type": "code",
      "metadata": {
        "colab": {
          "base_uri": "https://localhost:8080/",
          "height": 204
        },
        "id": "jWQFk4O_mxWC",
        "outputId": "f50e9efd-dcea-4222-80e5-94fdd3109a5e"
      },
      "source": [
        "user = order_products_prior_df.groupby('user_id')['order_number'].max().to_frame('user_total_orders')\n",
        "user = user.reset_index()\n",
        "user.head()"
      ],
      "execution_count": 15,
      "outputs": [
        {
          "output_type": "execute_result",
          "data": {
            "text/html": [
              "<div>\n",
              "<style scoped>\n",
              "    .dataframe tbody tr th:only-of-type {\n",
              "        vertical-align: middle;\n",
              "    }\n",
              "\n",
              "    .dataframe tbody tr th {\n",
              "        vertical-align: top;\n",
              "    }\n",
              "\n",
              "    .dataframe thead th {\n",
              "        text-align: right;\n",
              "    }\n",
              "</style>\n",
              "<table border=\"1\" class=\"dataframe\">\n",
              "  <thead>\n",
              "    <tr style=\"text-align: right;\">\n",
              "      <th></th>\n",
              "      <th>user_id</th>\n",
              "      <th>user_total_orders</th>\n",
              "    </tr>\n",
              "  </thead>\n",
              "  <tbody>\n",
              "    <tr>\n",
              "      <th>0</th>\n",
              "      <td>7.0</td>\n",
              "      <td>17.0</td>\n",
              "    </tr>\n",
              "    <tr>\n",
              "      <th>1</th>\n",
              "      <td>13.0</td>\n",
              "      <td>4.0</td>\n",
              "    </tr>\n",
              "    <tr>\n",
              "      <th>2</th>\n",
              "      <td>21.0</td>\n",
              "      <td>5.0</td>\n",
              "    </tr>\n",
              "    <tr>\n",
              "      <th>3</th>\n",
              "      <td>23.0</td>\n",
              "      <td>2.0</td>\n",
              "    </tr>\n",
              "    <tr>\n",
              "      <th>4</th>\n",
              "      <td>27.0</td>\n",
              "      <td>63.0</td>\n",
              "    </tr>\n",
              "  </tbody>\n",
              "</table>\n",
              "</div>"
            ],
            "text/plain": [
              "   user_id  user_total_orders\n",
              "0      7.0               17.0\n",
              "1     13.0                4.0\n",
              "2     21.0                5.0\n",
              "3     23.0                2.0\n",
              "4     27.0               63.0"
            ]
          },
          "metadata": {
            "tags": []
          },
          "execution_count": 15
        }
      ]
    },
    {
      "cell_type": "markdown",
      "metadata": {
        "id": "SRBdHAlBmxWC"
      },
      "source": [
        "2. Get the frequent a customer has reordered products"
      ]
    },
    {
      "cell_type": "code",
      "metadata": {
        "colab": {
          "base_uri": "https://localhost:8080/",
          "height": 204
        },
        "id": "K5YxsTkqmxWD",
        "outputId": "d9bb4d31-af86-45ed-bb8c-04ec61c43104"
      },
      "source": [
        "u_reorder = order_products_prior_df.groupby('user_id')['reordered'].mean().to_frame('user_reordered_ratio')\n",
        "u_reorder = u_reorder.reset_index()\n",
        "u_reorder.head()"
      ],
      "execution_count": 16,
      "outputs": [
        {
          "output_type": "execute_result",
          "data": {
            "text/html": [
              "<div>\n",
              "<style scoped>\n",
              "    .dataframe tbody tr th:only-of-type {\n",
              "        vertical-align: middle;\n",
              "    }\n",
              "\n",
              "    .dataframe tbody tr th {\n",
              "        vertical-align: top;\n",
              "    }\n",
              "\n",
              "    .dataframe thead th {\n",
              "        text-align: right;\n",
              "    }\n",
              "</style>\n",
              "<table border=\"1\" class=\"dataframe\">\n",
              "  <thead>\n",
              "    <tr style=\"text-align: right;\">\n",
              "      <th></th>\n",
              "      <th>user_id</th>\n",
              "      <th>user_reordered_ratio</th>\n",
              "    </tr>\n",
              "  </thead>\n",
              "  <tbody>\n",
              "    <tr>\n",
              "      <th>0</th>\n",
              "      <td>7.0</td>\n",
              "      <td>0.818182</td>\n",
              "    </tr>\n",
              "    <tr>\n",
              "      <th>1</th>\n",
              "      <td>13.0</td>\n",
              "      <td>0.600000</td>\n",
              "    </tr>\n",
              "    <tr>\n",
              "      <th>2</th>\n",
              "      <td>21.0</td>\n",
              "      <td>0.428571</td>\n",
              "    </tr>\n",
              "    <tr>\n",
              "      <th>3</th>\n",
              "      <td>23.0</td>\n",
              "      <td>0.000000</td>\n",
              "    </tr>\n",
              "    <tr>\n",
              "      <th>4</th>\n",
              "      <td>27.0</td>\n",
              "      <td>0.461538</td>\n",
              "    </tr>\n",
              "  </tbody>\n",
              "</table>\n",
              "</div>"
            ],
            "text/plain": [
              "   user_id  user_reordered_ratio\n",
              "0      7.0              0.818182\n",
              "1     13.0              0.600000\n",
              "2     21.0              0.428571\n",
              "3     23.0              0.000000\n",
              "4     27.0              0.461538"
            ]
          },
          "metadata": {
            "tags": []
          },
          "execution_count": 16
        }
      ]
    },
    {
      "cell_type": "code",
      "metadata": {
        "colab": {
          "base_uri": "https://localhost:8080/",
          "height": 204
        },
        "id": "n6MhWAcCmxWD",
        "outputId": "ccb8243d-5cd6-41d6-894f-acd1bd2d36d2"
      },
      "source": [
        "user_info = user.merge(u_reorder, on='user_id', how='left')\n",
        "del u_reorder\n",
        "user_info.head()"
      ],
      "execution_count": 17,
      "outputs": [
        {
          "output_type": "execute_result",
          "data": {
            "text/html": [
              "<div>\n",
              "<style scoped>\n",
              "    .dataframe tbody tr th:only-of-type {\n",
              "        vertical-align: middle;\n",
              "    }\n",
              "\n",
              "    .dataframe tbody tr th {\n",
              "        vertical-align: top;\n",
              "    }\n",
              "\n",
              "    .dataframe thead th {\n",
              "        text-align: right;\n",
              "    }\n",
              "</style>\n",
              "<table border=\"1\" class=\"dataframe\">\n",
              "  <thead>\n",
              "    <tr style=\"text-align: right;\">\n",
              "      <th></th>\n",
              "      <th>user_id</th>\n",
              "      <th>user_total_orders</th>\n",
              "      <th>user_reordered_ratio</th>\n",
              "    </tr>\n",
              "  </thead>\n",
              "  <tbody>\n",
              "    <tr>\n",
              "      <th>0</th>\n",
              "      <td>7.0</td>\n",
              "      <td>17.0</td>\n",
              "      <td>0.818182</td>\n",
              "    </tr>\n",
              "    <tr>\n",
              "      <th>1</th>\n",
              "      <td>13.0</td>\n",
              "      <td>4.0</td>\n",
              "      <td>0.600000</td>\n",
              "    </tr>\n",
              "    <tr>\n",
              "      <th>2</th>\n",
              "      <td>21.0</td>\n",
              "      <td>5.0</td>\n",
              "      <td>0.428571</td>\n",
              "    </tr>\n",
              "    <tr>\n",
              "      <th>3</th>\n",
              "      <td>23.0</td>\n",
              "      <td>2.0</td>\n",
              "      <td>0.000000</td>\n",
              "    </tr>\n",
              "    <tr>\n",
              "      <th>4</th>\n",
              "      <td>27.0</td>\n",
              "      <td>63.0</td>\n",
              "      <td>0.461538</td>\n",
              "    </tr>\n",
              "  </tbody>\n",
              "</table>\n",
              "</div>"
            ],
            "text/plain": [
              "   user_id  user_total_orders  user_reordered_ratio\n",
              "0      7.0               17.0              0.818182\n",
              "1     13.0                4.0              0.600000\n",
              "2     21.0                5.0              0.428571\n",
              "3     23.0                2.0              0.000000\n",
              "4     27.0               63.0              0.461538"
            ]
          },
          "metadata": {
            "tags": []
          },
          "execution_count": 17
        }
      ]
    },
    {
      "cell_type": "markdown",
      "metadata": {
        "id": "RKsOp6damxWD"
      },
      "source": [
        "3. get the number of purchases for each product"
      ]
    },
    {
      "cell_type": "code",
      "metadata": {
        "colab": {
          "base_uri": "https://localhost:8080/",
          "height": 204
        },
        "id": "IehpPbxfmxWE",
        "outputId": "2b449552-ba7c-48d5-dc4a-c4930e41832d"
      },
      "source": [
        "prd = order_products_prior_df.groupby('product_id')['order_id'].count().to_frame('p_total_purchases')\n",
        "prd = prd.reset_index()\n",
        "prd.head()"
      ],
      "execution_count": 18,
      "outputs": [
        {
          "output_type": "execute_result",
          "data": {
            "text/html": [
              "<div>\n",
              "<style scoped>\n",
              "    .dataframe tbody tr th:only-of-type {\n",
              "        vertical-align: middle;\n",
              "    }\n",
              "\n",
              "    .dataframe tbody tr th {\n",
              "        vertical-align: top;\n",
              "    }\n",
              "\n",
              "    .dataframe thead th {\n",
              "        text-align: right;\n",
              "    }\n",
              "</style>\n",
              "<table border=\"1\" class=\"dataframe\">\n",
              "  <thead>\n",
              "    <tr style=\"text-align: right;\">\n",
              "      <th></th>\n",
              "      <th>product_id</th>\n",
              "      <th>p_total_purchases</th>\n",
              "    </tr>\n",
              "  </thead>\n",
              "  <tbody>\n",
              "    <tr>\n",
              "      <th>0</th>\n",
              "      <td>1.0</td>\n",
              "      <td>42</td>\n",
              "    </tr>\n",
              "    <tr>\n",
              "      <th>1</th>\n",
              "      <td>2.0</td>\n",
              "      <td>2</td>\n",
              "    </tr>\n",
              "    <tr>\n",
              "      <th>2</th>\n",
              "      <td>3.0</td>\n",
              "      <td>3</td>\n",
              "    </tr>\n",
              "    <tr>\n",
              "      <th>3</th>\n",
              "      <td>4.0</td>\n",
              "      <td>5</td>\n",
              "    </tr>\n",
              "    <tr>\n",
              "      <th>4</th>\n",
              "      <td>9.0</td>\n",
              "      <td>1</td>\n",
              "    </tr>\n",
              "  </tbody>\n",
              "</table>\n",
              "</div>"
            ],
            "text/plain": [
              "   product_id  p_total_purchases\n",
              "0         1.0                 42\n",
              "1         2.0                  2\n",
              "2         3.0                  3\n",
              "3         4.0                  5\n",
              "4         9.0                  1"
            ]
          },
          "metadata": {
            "tags": []
          },
          "execution_count": 18
        }
      ]
    },
    {
      "cell_type": "markdown",
      "metadata": {
        "id": "j25j0C7_mxWE"
      },
      "source": [
        "4. The probability for a product to be reordered(Remove products with less than 40 purchases)"
      ]
    },
    {
      "cell_type": "code",
      "metadata": {
        "colab": {
          "base_uri": "https://localhost:8080/",
          "height": 204
        },
        "id": "_p_W8IL7mxWE",
        "outputId": "66c9c974-d7b4-45e7-a46b-91698499c1b7"
      },
      "source": [
        "p_reorder = order_products_prior_df.groupby('product_id').filter(lambda x: x.shape[0] >40)\n",
        "\n",
        "p_reorder = p_reorder.groupby('product_id')['reordered'].mean().to_frame('p_reorder_ratio')\n",
        "p_reorder = p_reorder.reset_index()\n",
        "p_reorder.head()"
      ],
      "execution_count": 19,
      "outputs": [
        {
          "output_type": "execute_result",
          "data": {
            "text/html": [
              "<div>\n",
              "<style scoped>\n",
              "    .dataframe tbody tr th:only-of-type {\n",
              "        vertical-align: middle;\n",
              "    }\n",
              "\n",
              "    .dataframe tbody tr th {\n",
              "        vertical-align: top;\n",
              "    }\n",
              "\n",
              "    .dataframe thead th {\n",
              "        text-align: right;\n",
              "    }\n",
              "</style>\n",
              "<table border=\"1\" class=\"dataframe\">\n",
              "  <thead>\n",
              "    <tr style=\"text-align: right;\">\n",
              "      <th></th>\n",
              "      <th>product_id</th>\n",
              "      <th>p_reorder_ratio</th>\n",
              "    </tr>\n",
              "  </thead>\n",
              "  <tbody>\n",
              "    <tr>\n",
              "      <th>0</th>\n",
              "      <td>1.0</td>\n",
              "      <td>0.690476</td>\n",
              "    </tr>\n",
              "    <tr>\n",
              "      <th>1</th>\n",
              "      <td>34.0</td>\n",
              "      <td>0.540323</td>\n",
              "    </tr>\n",
              "    <tr>\n",
              "      <th>2</th>\n",
              "      <td>45.0</td>\n",
              "      <td>0.662011</td>\n",
              "    </tr>\n",
              "    <tr>\n",
              "      <th>3</th>\n",
              "      <td>79.0</td>\n",
              "      <td>0.560976</td>\n",
              "    </tr>\n",
              "    <tr>\n",
              "      <th>4</th>\n",
              "      <td>95.0</td>\n",
              "      <td>0.196429</td>\n",
              "    </tr>\n",
              "  </tbody>\n",
              "</table>\n",
              "</div>"
            ],
            "text/plain": [
              "   product_id  p_reorder_ratio\n",
              "0         1.0         0.690476\n",
              "1        34.0         0.540323\n",
              "2        45.0         0.662011\n",
              "3        79.0         0.560976\n",
              "4        95.0         0.196429"
            ]
          },
          "metadata": {
            "tags": []
          },
          "execution_count": 19
        }
      ]
    },
    {
      "cell_type": "code",
      "metadata": {
        "colab": {
          "base_uri": "https://localhost:8080/",
          "height": 204
        },
        "id": "2E0FdZ9UmxWF",
        "outputId": "5f279c06-d92c-4bc4-e78d-f406fd03a099"
      },
      "source": [
        "prd = prd.merge(p_reorder, on='product_id', how='left')\n",
        "#deal with NA\n",
        "prd['p_reorder_ratio'] = prd['p_reorder_ratio'].fillna(value=0)\n",
        "prd.head()"
      ],
      "execution_count": 20,
      "outputs": [
        {
          "output_type": "execute_result",
          "data": {
            "text/html": [
              "<div>\n",
              "<style scoped>\n",
              "    .dataframe tbody tr th:only-of-type {\n",
              "        vertical-align: middle;\n",
              "    }\n",
              "\n",
              "    .dataframe tbody tr th {\n",
              "        vertical-align: top;\n",
              "    }\n",
              "\n",
              "    .dataframe thead th {\n",
              "        text-align: right;\n",
              "    }\n",
              "</style>\n",
              "<table border=\"1\" class=\"dataframe\">\n",
              "  <thead>\n",
              "    <tr style=\"text-align: right;\">\n",
              "      <th></th>\n",
              "      <th>product_id</th>\n",
              "      <th>p_total_purchases</th>\n",
              "      <th>p_reorder_ratio</th>\n",
              "    </tr>\n",
              "  </thead>\n",
              "  <tbody>\n",
              "    <tr>\n",
              "      <th>0</th>\n",
              "      <td>1.0</td>\n",
              "      <td>42</td>\n",
              "      <td>0.690476</td>\n",
              "    </tr>\n",
              "    <tr>\n",
              "      <th>1</th>\n",
              "      <td>2.0</td>\n",
              "      <td>2</td>\n",
              "      <td>0.000000</td>\n",
              "    </tr>\n",
              "    <tr>\n",
              "      <th>2</th>\n",
              "      <td>3.0</td>\n",
              "      <td>3</td>\n",
              "      <td>0.000000</td>\n",
              "    </tr>\n",
              "    <tr>\n",
              "      <th>3</th>\n",
              "      <td>4.0</td>\n",
              "      <td>5</td>\n",
              "      <td>0.000000</td>\n",
              "    </tr>\n",
              "    <tr>\n",
              "      <th>4</th>\n",
              "      <td>9.0</td>\n",
              "      <td>1</td>\n",
              "      <td>0.000000</td>\n",
              "    </tr>\n",
              "  </tbody>\n",
              "</table>\n",
              "</div>"
            ],
            "text/plain": [
              "   product_id  p_total_purchases  p_reorder_ratio\n",
              "0         1.0                 42         0.690476\n",
              "1         2.0                  2         0.000000\n",
              "2         3.0                  3         0.000000\n",
              "3         4.0                  5         0.000000\n",
              "4         9.0                  1         0.000000"
            ]
          },
          "metadata": {
            "tags": []
          },
          "execution_count": 20
        }
      ]
    },
    {
      "cell_type": "markdown",
      "metadata": {
        "id": "X2h8300YmxWG"
      },
      "source": [
        "5. How many times a user bought a product"
      ]
    },
    {
      "cell_type": "code",
      "metadata": {
        "colab": {
          "base_uri": "https://localhost:8080/",
          "height": 419
        },
        "id": "2EI63QQ4mxWH",
        "outputId": "35b8cc57-0981-4525-b0a6-eb3967fff827"
      },
      "source": [
        "uxp = order_products_prior_df.groupby(['user_id', 'product_id'])['order_id'].count().to_frame('uxp_total_bought')\n",
        "uxp = uxp.reset_index()\n",
        "uxp"
      ],
      "execution_count": 21,
      "outputs": [
        {
          "output_type": "execute_result",
          "data": {
            "text/html": [
              "<div>\n",
              "<style scoped>\n",
              "    .dataframe tbody tr th:only-of-type {\n",
              "        vertical-align: middle;\n",
              "    }\n",
              "\n",
              "    .dataframe tbody tr th {\n",
              "        vertical-align: top;\n",
              "    }\n",
              "\n",
              "    .dataframe thead th {\n",
              "        text-align: right;\n",
              "    }\n",
              "</style>\n",
              "<table border=\"1\" class=\"dataframe\">\n",
              "  <thead>\n",
              "    <tr style=\"text-align: right;\">\n",
              "      <th></th>\n",
              "      <th>user_id</th>\n",
              "      <th>product_id</th>\n",
              "      <th>uxp_total_bought</th>\n",
              "    </tr>\n",
              "  </thead>\n",
              "  <tbody>\n",
              "    <tr>\n",
              "      <th>0</th>\n",
              "      <td>7.0</td>\n",
              "      <td>4920.0</td>\n",
              "      <td>1</td>\n",
              "    </tr>\n",
              "    <tr>\n",
              "      <th>1</th>\n",
              "      <td>7.0</td>\n",
              "      <td>4945.0</td>\n",
              "      <td>1</td>\n",
              "    </tr>\n",
              "    <tr>\n",
              "      <th>2</th>\n",
              "      <td>7.0</td>\n",
              "      <td>8277.0</td>\n",
              "      <td>1</td>\n",
              "    </tr>\n",
              "    <tr>\n",
              "      <th>3</th>\n",
              "      <td>7.0</td>\n",
              "      <td>11520.0</td>\n",
              "      <td>1</td>\n",
              "    </tr>\n",
              "    <tr>\n",
              "      <th>4</th>\n",
              "      <td>7.0</td>\n",
              "      <td>13198.0</td>\n",
              "      <td>1</td>\n",
              "    </tr>\n",
              "    <tr>\n",
              "      <th>...</th>\n",
              "      <td>...</td>\n",
              "      <td>...</td>\n",
              "      <td>...</td>\n",
              "    </tr>\n",
              "    <tr>\n",
              "      <th>55523</th>\n",
              "      <td>20576.0</td>\n",
              "      <td>24532.0</td>\n",
              "      <td>1</td>\n",
              "    </tr>\n",
              "    <tr>\n",
              "      <th>55524</th>\n",
              "      <td>20576.0</td>\n",
              "      <td>26604.0</td>\n",
              "      <td>1</td>\n",
              "    </tr>\n",
              "    <tr>\n",
              "      <th>55525</th>\n",
              "      <td>20576.0</td>\n",
              "      <td>27966.0</td>\n",
              "      <td>1</td>\n",
              "    </tr>\n",
              "    <tr>\n",
              "      <th>55526</th>\n",
              "      <td>20576.0</td>\n",
              "      <td>39275.0</td>\n",
              "      <td>1</td>\n",
              "    </tr>\n",
              "    <tr>\n",
              "      <th>55527</th>\n",
              "      <td>20576.0</td>\n",
              "      <td>48812.0</td>\n",
              "      <td>1</td>\n",
              "    </tr>\n",
              "  </tbody>\n",
              "</table>\n",
              "<p>55528 rows × 3 columns</p>\n",
              "</div>"
            ],
            "text/plain": [
              "       user_id  product_id  uxp_total_bought\n",
              "0          7.0      4920.0                 1\n",
              "1          7.0      4945.0                 1\n",
              "2          7.0      8277.0                 1\n",
              "3          7.0     11520.0                 1\n",
              "4          7.0     13198.0                 1\n",
              "...        ...         ...               ...\n",
              "55523  20576.0     24532.0                 1\n",
              "55524  20576.0     26604.0                 1\n",
              "55525  20576.0     27966.0                 1\n",
              "55526  20576.0     39275.0                 1\n",
              "55527  20576.0     48812.0                 1\n",
              "\n",
              "[55528 rows x 3 columns]"
            ]
          },
          "metadata": {
            "tags": []
          },
          "execution_count": 21
        }
      ]
    },
    {
      "cell_type": "markdown",
      "metadata": {
        "id": "QjGr4g8JmxWI"
      },
      "source": [
        "6. frequently a customer bought a product after its first purchase"
      ]
    },
    {
      "cell_type": "code",
      "metadata": {
        "colab": {
          "base_uri": "https://localhost:8080/",
          "height": 450
        },
        "id": "ORqO2AR5mxWJ",
        "outputId": "0aeac561-eff3-493d-8e9a-3266e4e81feb"
      },
      "source": [
        "#each user each product order time\n",
        "times = order_products_prior_df.groupby(['user_id', 'product_id'])[['order_id']].count()\n",
        "times.columns = ['Times_Bought_N']\n",
        "times"
      ],
      "execution_count": 22,
      "outputs": [
        {
          "output_type": "execute_result",
          "data": {
            "text/html": [
              "<div>\n",
              "<style scoped>\n",
              "    .dataframe tbody tr th:only-of-type {\n",
              "        vertical-align: middle;\n",
              "    }\n",
              "\n",
              "    .dataframe tbody tr th {\n",
              "        vertical-align: top;\n",
              "    }\n",
              "\n",
              "    .dataframe thead th {\n",
              "        text-align: right;\n",
              "    }\n",
              "</style>\n",
              "<table border=\"1\" class=\"dataframe\">\n",
              "  <thead>\n",
              "    <tr style=\"text-align: right;\">\n",
              "      <th></th>\n",
              "      <th></th>\n",
              "      <th>Times_Bought_N</th>\n",
              "    </tr>\n",
              "    <tr>\n",
              "      <th>user_id</th>\n",
              "      <th>product_id</th>\n",
              "      <th></th>\n",
              "    </tr>\n",
              "  </thead>\n",
              "  <tbody>\n",
              "    <tr>\n",
              "      <th rowspan=\"5\" valign=\"top\">7.0</th>\n",
              "      <th>4920.0</th>\n",
              "      <td>1</td>\n",
              "    </tr>\n",
              "    <tr>\n",
              "      <th>4945.0</th>\n",
              "      <td>1</td>\n",
              "    </tr>\n",
              "    <tr>\n",
              "      <th>8277.0</th>\n",
              "      <td>1</td>\n",
              "    </tr>\n",
              "    <tr>\n",
              "      <th>11520.0</th>\n",
              "      <td>1</td>\n",
              "    </tr>\n",
              "    <tr>\n",
              "      <th>13198.0</th>\n",
              "      <td>1</td>\n",
              "    </tr>\n",
              "    <tr>\n",
              "      <th>...</th>\n",
              "      <th>...</th>\n",
              "      <td>...</td>\n",
              "    </tr>\n",
              "    <tr>\n",
              "      <th rowspan=\"5\" valign=\"top\">20576.0</th>\n",
              "      <th>24532.0</th>\n",
              "      <td>1</td>\n",
              "    </tr>\n",
              "    <tr>\n",
              "      <th>26604.0</th>\n",
              "      <td>1</td>\n",
              "    </tr>\n",
              "    <tr>\n",
              "      <th>27966.0</th>\n",
              "      <td>1</td>\n",
              "    </tr>\n",
              "    <tr>\n",
              "      <th>39275.0</th>\n",
              "      <td>1</td>\n",
              "    </tr>\n",
              "    <tr>\n",
              "      <th>48812.0</th>\n",
              "      <td>1</td>\n",
              "    </tr>\n",
              "  </tbody>\n",
              "</table>\n",
              "<p>55528 rows × 1 columns</p>\n",
              "</div>"
            ],
            "text/plain": [
              "                    Times_Bought_N\n",
              "user_id product_id                \n",
              "7.0     4920.0                   1\n",
              "        4945.0                   1\n",
              "        8277.0                   1\n",
              "        11520.0                  1\n",
              "        13198.0                  1\n",
              "...                            ...\n",
              "20576.0 24532.0                  1\n",
              "        26604.0                  1\n",
              "        27966.0                  1\n",
              "        39275.0                  1\n",
              "        48812.0                  1\n",
              "\n",
              "[55528 rows x 1 columns]"
            ]
          },
          "metadata": {
            "tags": []
          },
          "execution_count": 22
        }
      ]
    },
    {
      "cell_type": "code",
      "metadata": {
        "colab": {
          "base_uri": "https://localhost:8080/",
          "height": 235
        },
        "id": "AFENJsvpmxWK",
        "outputId": "93b02eeb-9e6a-4458-9f3f-ce2e6d91e8d8"
      },
      "source": [
        "#Each user's total order time\n",
        "total_orders = order_products_prior_df.groupby('user_id')['order_number'].max().to_frame('total_orders')\n",
        "total_orders.head()"
      ],
      "execution_count": 23,
      "outputs": [
        {
          "output_type": "execute_result",
          "data": {
            "text/html": [
              "<div>\n",
              "<style scoped>\n",
              "    .dataframe tbody tr th:only-of-type {\n",
              "        vertical-align: middle;\n",
              "    }\n",
              "\n",
              "    .dataframe tbody tr th {\n",
              "        vertical-align: top;\n",
              "    }\n",
              "\n",
              "    .dataframe thead th {\n",
              "        text-align: right;\n",
              "    }\n",
              "</style>\n",
              "<table border=\"1\" class=\"dataframe\">\n",
              "  <thead>\n",
              "    <tr style=\"text-align: right;\">\n",
              "      <th></th>\n",
              "      <th>total_orders</th>\n",
              "    </tr>\n",
              "    <tr>\n",
              "      <th>user_id</th>\n",
              "      <th></th>\n",
              "    </tr>\n",
              "  </thead>\n",
              "  <tbody>\n",
              "    <tr>\n",
              "      <th>7.0</th>\n",
              "      <td>17.0</td>\n",
              "    </tr>\n",
              "    <tr>\n",
              "      <th>13.0</th>\n",
              "      <td>4.0</td>\n",
              "    </tr>\n",
              "    <tr>\n",
              "      <th>21.0</th>\n",
              "      <td>5.0</td>\n",
              "    </tr>\n",
              "    <tr>\n",
              "      <th>23.0</th>\n",
              "      <td>2.0</td>\n",
              "    </tr>\n",
              "    <tr>\n",
              "      <th>27.0</th>\n",
              "      <td>63.0</td>\n",
              "    </tr>\n",
              "  </tbody>\n",
              "</table>\n",
              "</div>"
            ],
            "text/plain": [
              "         total_orders\n",
              "user_id              \n",
              "7.0              17.0\n",
              "13.0              4.0\n",
              "21.0              5.0\n",
              "23.0              2.0\n",
              "27.0             63.0"
            ]
          },
          "metadata": {
            "tags": []
          },
          "execution_count": 23
        }
      ]
    },
    {
      "cell_type": "code",
      "metadata": {
        "colab": {
          "base_uri": "https://localhost:8080/",
          "height": 204
        },
        "id": "NCiwH9R6mxWK",
        "outputId": "b0d0d0cd-3ba6-40b7-fdcf-89c3e895a90b"
      },
      "source": [
        "first_order_no = order_products_prior_df.groupby(['user_id', 'product_id'])['order_number'].min().to_frame('first_order_number')\n",
        "first_order_no  = first_order_no.reset_index()\n",
        "first_order_no.head()"
      ],
      "execution_count": 24,
      "outputs": [
        {
          "output_type": "execute_result",
          "data": {
            "text/html": [
              "<div>\n",
              "<style scoped>\n",
              "    .dataframe tbody tr th:only-of-type {\n",
              "        vertical-align: middle;\n",
              "    }\n",
              "\n",
              "    .dataframe tbody tr th {\n",
              "        vertical-align: top;\n",
              "    }\n",
              "\n",
              "    .dataframe thead th {\n",
              "        text-align: right;\n",
              "    }\n",
              "</style>\n",
              "<table border=\"1\" class=\"dataframe\">\n",
              "  <thead>\n",
              "    <tr style=\"text-align: right;\">\n",
              "      <th></th>\n",
              "      <th>user_id</th>\n",
              "      <th>product_id</th>\n",
              "      <th>first_order_number</th>\n",
              "    </tr>\n",
              "  </thead>\n",
              "  <tbody>\n",
              "    <tr>\n",
              "      <th>0</th>\n",
              "      <td>7.0</td>\n",
              "      <td>4920.0</td>\n",
              "      <td>17.0</td>\n",
              "    </tr>\n",
              "    <tr>\n",
              "      <th>1</th>\n",
              "      <td>7.0</td>\n",
              "      <td>4945.0</td>\n",
              "      <td>17.0</td>\n",
              "    </tr>\n",
              "    <tr>\n",
              "      <th>2</th>\n",
              "      <td>7.0</td>\n",
              "      <td>8277.0</td>\n",
              "      <td>17.0</td>\n",
              "    </tr>\n",
              "    <tr>\n",
              "      <th>3</th>\n",
              "      <td>7.0</td>\n",
              "      <td>11520.0</td>\n",
              "      <td>17.0</td>\n",
              "    </tr>\n",
              "    <tr>\n",
              "      <th>4</th>\n",
              "      <td>7.0</td>\n",
              "      <td>13198.0</td>\n",
              "      <td>17.0</td>\n",
              "    </tr>\n",
              "  </tbody>\n",
              "</table>\n",
              "</div>"
            ],
            "text/plain": [
              "   user_id  product_id  first_order_number\n",
              "0      7.0      4920.0                17.0\n",
              "1      7.0      4945.0                17.0\n",
              "2      7.0      8277.0                17.0\n",
              "3      7.0     11520.0                17.0\n",
              "4      7.0     13198.0                17.0"
            ]
          },
          "metadata": {
            "tags": []
          },
          "execution_count": 24
        }
      ]
    },
    {
      "cell_type": "code",
      "metadata": {
        "colab": {
          "base_uri": "https://localhost:8080/",
          "height": 204
        },
        "id": "3XLEiE9VmxWK",
        "outputId": "f249df39-d974-403a-d49b-08d489fb96a9"
      },
      "source": [
        "order_number_info = pd.merge(total_orders, first_order_no, on='user_id', how='right')\n",
        "order_number_info['Order_Range_D'] = order_number_info.total_orders - order_number_info.first_order_number + 1 # The +1 includes in the difference the first order were the product has been purchased\n",
        "\n",
        "uxp_ratio = pd.merge(times, order_number_info, on=['user_id', 'product_id'], how='left')\n",
        "uxp_ratio['uxp_reorder_ratio'] = uxp_ratio.Times_Bought_N / uxp_ratio.Order_Range_D\n",
        "uxp_ratio.head()"
      ],
      "execution_count": 25,
      "outputs": [
        {
          "output_type": "execute_result",
          "data": {
            "text/html": [
              "<div>\n",
              "<style scoped>\n",
              "    .dataframe tbody tr th:only-of-type {\n",
              "        vertical-align: middle;\n",
              "    }\n",
              "\n",
              "    .dataframe tbody tr th {\n",
              "        vertical-align: top;\n",
              "    }\n",
              "\n",
              "    .dataframe thead th {\n",
              "        text-align: right;\n",
              "    }\n",
              "</style>\n",
              "<table border=\"1\" class=\"dataframe\">\n",
              "  <thead>\n",
              "    <tr style=\"text-align: right;\">\n",
              "      <th></th>\n",
              "      <th>user_id</th>\n",
              "      <th>product_id</th>\n",
              "      <th>Times_Bought_N</th>\n",
              "      <th>total_orders</th>\n",
              "      <th>first_order_number</th>\n",
              "      <th>Order_Range_D</th>\n",
              "      <th>uxp_reorder_ratio</th>\n",
              "    </tr>\n",
              "  </thead>\n",
              "  <tbody>\n",
              "    <tr>\n",
              "      <th>0</th>\n",
              "      <td>7.0</td>\n",
              "      <td>4920.0</td>\n",
              "      <td>1</td>\n",
              "      <td>17.0</td>\n",
              "      <td>17.0</td>\n",
              "      <td>1.0</td>\n",
              "      <td>1.0</td>\n",
              "    </tr>\n",
              "    <tr>\n",
              "      <th>1</th>\n",
              "      <td>7.0</td>\n",
              "      <td>4945.0</td>\n",
              "      <td>1</td>\n",
              "      <td>17.0</td>\n",
              "      <td>17.0</td>\n",
              "      <td>1.0</td>\n",
              "      <td>1.0</td>\n",
              "    </tr>\n",
              "    <tr>\n",
              "      <th>2</th>\n",
              "      <td>7.0</td>\n",
              "      <td>8277.0</td>\n",
              "      <td>1</td>\n",
              "      <td>17.0</td>\n",
              "      <td>17.0</td>\n",
              "      <td>1.0</td>\n",
              "      <td>1.0</td>\n",
              "    </tr>\n",
              "    <tr>\n",
              "      <th>3</th>\n",
              "      <td>7.0</td>\n",
              "      <td>11520.0</td>\n",
              "      <td>1</td>\n",
              "      <td>17.0</td>\n",
              "      <td>17.0</td>\n",
              "      <td>1.0</td>\n",
              "      <td>1.0</td>\n",
              "    </tr>\n",
              "    <tr>\n",
              "      <th>4</th>\n",
              "      <td>7.0</td>\n",
              "      <td>13198.0</td>\n",
              "      <td>1</td>\n",
              "      <td>17.0</td>\n",
              "      <td>17.0</td>\n",
              "      <td>1.0</td>\n",
              "      <td>1.0</td>\n",
              "    </tr>\n",
              "  </tbody>\n",
              "</table>\n",
              "</div>"
            ],
            "text/plain": [
              "   user_id  product_id  ...  Order_Range_D  uxp_reorder_ratio\n",
              "0      7.0      4920.0  ...            1.0                1.0\n",
              "1      7.0      4945.0  ...            1.0                1.0\n",
              "2      7.0      8277.0  ...            1.0                1.0\n",
              "3      7.0     11520.0  ...            1.0                1.0\n",
              "4      7.0     13198.0  ...            1.0                1.0\n",
              "\n",
              "[5 rows x 7 columns]"
            ]
          },
          "metadata": {
            "tags": []
          },
          "execution_count": 25
        }
      ]
    },
    {
      "cell_type": "markdown",
      "metadata": {
        "id": "cpnap8nmmxWL"
      },
      "source": [
        "For example: for user1, product 13023:\n",
        "total bought it 3 times\n",
        "user 1 total bought from instacart 10 times\n",
        "the 2nd time bouth product 13021\n",
        "so the range belttwen frist time order to last time oder is 9"
      ]
    },
    {
      "cell_type": "code",
      "metadata": {
        "colab": {
          "base_uri": "https://localhost:8080/",
          "height": 204
        },
        "id": "GEyeQlfimxWL",
        "outputId": "6a6e1515-20c5-44bc-ec75-5cd93da37f0f"
      },
      "source": [
        "uxp_ratio = uxp_ratio.drop(['Times_Bought_N', 'total_orders', 'first_order_number', 'Order_Range_D'], axis=1)\n",
        "uxp_ratio.head()"
      ],
      "execution_count": 26,
      "outputs": [
        {
          "output_type": "execute_result",
          "data": {
            "text/html": [
              "<div>\n",
              "<style scoped>\n",
              "    .dataframe tbody tr th:only-of-type {\n",
              "        vertical-align: middle;\n",
              "    }\n",
              "\n",
              "    .dataframe tbody tr th {\n",
              "        vertical-align: top;\n",
              "    }\n",
              "\n",
              "    .dataframe thead th {\n",
              "        text-align: right;\n",
              "    }\n",
              "</style>\n",
              "<table border=\"1\" class=\"dataframe\">\n",
              "  <thead>\n",
              "    <tr style=\"text-align: right;\">\n",
              "      <th></th>\n",
              "      <th>user_id</th>\n",
              "      <th>product_id</th>\n",
              "      <th>uxp_reorder_ratio</th>\n",
              "    </tr>\n",
              "  </thead>\n",
              "  <tbody>\n",
              "    <tr>\n",
              "      <th>0</th>\n",
              "      <td>7.0</td>\n",
              "      <td>4920.0</td>\n",
              "      <td>1.0</td>\n",
              "    </tr>\n",
              "    <tr>\n",
              "      <th>1</th>\n",
              "      <td>7.0</td>\n",
              "      <td>4945.0</td>\n",
              "      <td>1.0</td>\n",
              "    </tr>\n",
              "    <tr>\n",
              "      <th>2</th>\n",
              "      <td>7.0</td>\n",
              "      <td>8277.0</td>\n",
              "      <td>1.0</td>\n",
              "    </tr>\n",
              "    <tr>\n",
              "      <th>3</th>\n",
              "      <td>7.0</td>\n",
              "      <td>11520.0</td>\n",
              "      <td>1.0</td>\n",
              "    </tr>\n",
              "    <tr>\n",
              "      <th>4</th>\n",
              "      <td>7.0</td>\n",
              "      <td>13198.0</td>\n",
              "      <td>1.0</td>\n",
              "    </tr>\n",
              "  </tbody>\n",
              "</table>\n",
              "</div>"
            ],
            "text/plain": [
              "   user_id  product_id  uxp_reorder_ratio\n",
              "0      7.0      4920.0                1.0\n",
              "1      7.0      4945.0                1.0\n",
              "2      7.0      8277.0                1.0\n",
              "3      7.0     11520.0                1.0\n",
              "4      7.0     13198.0                1.0"
            ]
          },
          "metadata": {
            "tags": []
          },
          "execution_count": 26
        }
      ]
    },
    {
      "cell_type": "markdown",
      "metadata": {
        "id": "6NgSEO5JmxWM"
      },
      "source": [
        "# <font color='blue'>Merge new features with DF</font> "
      ]
    },
    {
      "cell_type": "code",
      "metadata": {
        "colab": {
          "base_uri": "https://localhost:8080/",
          "height": 204
        },
        "id": "M5JFzf6LmxWM",
        "outputId": "c9c2fc97-3618-45e2-b812-433c7849c80b"
      },
      "source": [
        "uxp = uxp.merge(uxp_ratio, on=['user_id', 'product_id'], how='left')\n",
        "del uxp_ratio\n",
        "uxp.head()"
      ],
      "execution_count": 27,
      "outputs": [
        {
          "output_type": "execute_result",
          "data": {
            "text/html": [
              "<div>\n",
              "<style scoped>\n",
              "    .dataframe tbody tr th:only-of-type {\n",
              "        vertical-align: middle;\n",
              "    }\n",
              "\n",
              "    .dataframe tbody tr th {\n",
              "        vertical-align: top;\n",
              "    }\n",
              "\n",
              "    .dataframe thead th {\n",
              "        text-align: right;\n",
              "    }\n",
              "</style>\n",
              "<table border=\"1\" class=\"dataframe\">\n",
              "  <thead>\n",
              "    <tr style=\"text-align: right;\">\n",
              "      <th></th>\n",
              "      <th>user_id</th>\n",
              "      <th>product_id</th>\n",
              "      <th>uxp_total_bought</th>\n",
              "      <th>uxp_reorder_ratio</th>\n",
              "    </tr>\n",
              "  </thead>\n",
              "  <tbody>\n",
              "    <tr>\n",
              "      <th>0</th>\n",
              "      <td>7.0</td>\n",
              "      <td>4920.0</td>\n",
              "      <td>1</td>\n",
              "      <td>1.0</td>\n",
              "    </tr>\n",
              "    <tr>\n",
              "      <th>1</th>\n",
              "      <td>7.0</td>\n",
              "      <td>4945.0</td>\n",
              "      <td>1</td>\n",
              "      <td>1.0</td>\n",
              "    </tr>\n",
              "    <tr>\n",
              "      <th>2</th>\n",
              "      <td>7.0</td>\n",
              "      <td>8277.0</td>\n",
              "      <td>1</td>\n",
              "      <td>1.0</td>\n",
              "    </tr>\n",
              "    <tr>\n",
              "      <th>3</th>\n",
              "      <td>7.0</td>\n",
              "      <td>11520.0</td>\n",
              "      <td>1</td>\n",
              "      <td>1.0</td>\n",
              "    </tr>\n",
              "    <tr>\n",
              "      <th>4</th>\n",
              "      <td>7.0</td>\n",
              "      <td>13198.0</td>\n",
              "      <td>1</td>\n",
              "      <td>1.0</td>\n",
              "    </tr>\n",
              "  </tbody>\n",
              "</table>\n",
              "</div>"
            ],
            "text/plain": [
              "   user_id  product_id  uxp_total_bought  uxp_reorder_ratio\n",
              "0      7.0      4920.0                 1                1.0\n",
              "1      7.0      4945.0                 1                1.0\n",
              "2      7.0      8277.0                 1                1.0\n",
              "3      7.0     11520.0                 1                1.0\n",
              "4      7.0     13198.0                 1                1.0"
            ]
          },
          "metadata": {
            "tags": []
          },
          "execution_count": 27
        }
      ]
    },
    {
      "cell_type": "code",
      "metadata": {
        "colab": {
          "base_uri": "https://localhost:8080/",
          "height": 204
        },
        "id": "DDFvsYYgmxWN",
        "outputId": "996a3948-d534-44d1-a104-c70b5213d118"
      },
      "source": [
        "data = uxp.merge(user, on='user_id', how='left')\n",
        "data = data.merge(prd, on='product_id', how='left')\n",
        "data.head()"
      ],
      "execution_count": 28,
      "outputs": [
        {
          "output_type": "execute_result",
          "data": {
            "text/html": [
              "<div>\n",
              "<style scoped>\n",
              "    .dataframe tbody tr th:only-of-type {\n",
              "        vertical-align: middle;\n",
              "    }\n",
              "\n",
              "    .dataframe tbody tr th {\n",
              "        vertical-align: top;\n",
              "    }\n",
              "\n",
              "    .dataframe thead th {\n",
              "        text-align: right;\n",
              "    }\n",
              "</style>\n",
              "<table border=\"1\" class=\"dataframe\">\n",
              "  <thead>\n",
              "    <tr style=\"text-align: right;\">\n",
              "      <th></th>\n",
              "      <th>user_id</th>\n",
              "      <th>product_id</th>\n",
              "      <th>uxp_total_bought</th>\n",
              "      <th>uxp_reorder_ratio</th>\n",
              "      <th>user_total_orders</th>\n",
              "      <th>p_total_purchases</th>\n",
              "      <th>p_reorder_ratio</th>\n",
              "    </tr>\n",
              "  </thead>\n",
              "  <tbody>\n",
              "    <tr>\n",
              "      <th>0</th>\n",
              "      <td>7.0</td>\n",
              "      <td>4920.0</td>\n",
              "      <td>1</td>\n",
              "      <td>1.0</td>\n",
              "      <td>17.0</td>\n",
              "      <td>1494</td>\n",
              "      <td>0.670013</td>\n",
              "    </tr>\n",
              "    <tr>\n",
              "      <th>1</th>\n",
              "      <td>7.0</td>\n",
              "      <td>4945.0</td>\n",
              "      <td>1</td>\n",
              "      <td>1.0</td>\n",
              "      <td>17.0</td>\n",
              "      <td>99</td>\n",
              "      <td>0.727273</td>\n",
              "    </tr>\n",
              "    <tr>\n",
              "      <th>2</th>\n",
              "      <td>7.0</td>\n",
              "      <td>8277.0</td>\n",
              "      <td>1</td>\n",
              "      <td>1.0</td>\n",
              "      <td>17.0</td>\n",
              "      <td>1600</td>\n",
              "      <td>0.751875</td>\n",
              "    </tr>\n",
              "    <tr>\n",
              "      <th>3</th>\n",
              "      <td>7.0</td>\n",
              "      <td>11520.0</td>\n",
              "      <td>1</td>\n",
              "      <td>1.0</td>\n",
              "      <td>17.0</td>\n",
              "      <td>731</td>\n",
              "      <td>0.764706</td>\n",
              "    </tr>\n",
              "    <tr>\n",
              "      <th>4</th>\n",
              "      <td>7.0</td>\n",
              "      <td>13198.0</td>\n",
              "      <td>1</td>\n",
              "      <td>1.0</td>\n",
              "      <td>17.0</td>\n",
              "      <td>239</td>\n",
              "      <td>0.648536</td>\n",
              "    </tr>\n",
              "  </tbody>\n",
              "</table>\n",
              "</div>"
            ],
            "text/plain": [
              "   user_id  product_id  ...  p_total_purchases  p_reorder_ratio\n",
              "0      7.0      4920.0  ...               1494         0.670013\n",
              "1      7.0      4945.0  ...                 99         0.727273\n",
              "2      7.0      8277.0  ...               1600         0.751875\n",
              "3      7.0     11520.0  ...                731         0.764706\n",
              "4      7.0     13198.0  ...                239         0.648536\n",
              "\n",
              "[5 rows x 7 columns]"
            ]
          },
          "metadata": {
            "tags": []
          },
          "execution_count": 28
        }
      ]
    },
    {
      "cell_type": "markdown",
      "metadata": {
        "id": "0nVVAcFcmxWN"
      },
      "source": [
        "# <font color='blue'>EDA</font> "
      ]
    },
    {
      "cell_type": "markdown",
      "metadata": {
        "id": "qmArDk2WmxWN"
      },
      "source": [
        "## Plot the count of the Max Order Number for each User"
      ]
    },
    {
      "cell_type": "code",
      "metadata": {
        "id": "bO0DD4bomxWN",
        "outputId": "5b0595d7-813f-4081-b69f-82ccb250f2e4"
      },
      "source": [
        "#find the max order number for each user_id\n",
        "max_order_number = orders_df.groupby(\"user_id\")[\"order_number\"].aggregate(np.max).reset_index()\n",
        "max_order_number"
      ],
      "execution_count": null,
      "outputs": [
        {
          "output_type": "execute_result",
          "data": {
            "text/html": [
              "<div>\n",
              "<style scoped>\n",
              "    .dataframe tbody tr th:only-of-type {\n",
              "        vertical-align: middle;\n",
              "    }\n",
              "\n",
              "    .dataframe tbody tr th {\n",
              "        vertical-align: top;\n",
              "    }\n",
              "\n",
              "    .dataframe thead th {\n",
              "        text-align: right;\n",
              "    }\n",
              "</style>\n",
              "<table border=\"1\" class=\"dataframe\">\n",
              "  <thead>\n",
              "    <tr style=\"text-align: right;\">\n",
              "      <th></th>\n",
              "      <th>user_id</th>\n",
              "      <th>order_number</th>\n",
              "    </tr>\n",
              "  </thead>\n",
              "  <tbody>\n",
              "    <tr>\n",
              "      <th>0</th>\n",
              "      <td>1</td>\n",
              "      <td>11</td>\n",
              "    </tr>\n",
              "    <tr>\n",
              "      <th>1</th>\n",
              "      <td>2</td>\n",
              "      <td>15</td>\n",
              "    </tr>\n",
              "    <tr>\n",
              "      <th>2</th>\n",
              "      <td>3</td>\n",
              "      <td>13</td>\n",
              "    </tr>\n",
              "    <tr>\n",
              "      <th>3</th>\n",
              "      <td>4</td>\n",
              "      <td>6</td>\n",
              "    </tr>\n",
              "    <tr>\n",
              "      <th>4</th>\n",
              "      <td>5</td>\n",
              "      <td>5</td>\n",
              "    </tr>\n",
              "    <tr>\n",
              "      <th>...</th>\n",
              "      <td>...</td>\n",
              "      <td>...</td>\n",
              "    </tr>\n",
              "    <tr>\n",
              "      <th>206204</th>\n",
              "      <td>206205</td>\n",
              "      <td>4</td>\n",
              "    </tr>\n",
              "    <tr>\n",
              "      <th>206205</th>\n",
              "      <td>206206</td>\n",
              "      <td>68</td>\n",
              "    </tr>\n",
              "    <tr>\n",
              "      <th>206206</th>\n",
              "      <td>206207</td>\n",
              "      <td>17</td>\n",
              "    </tr>\n",
              "    <tr>\n",
              "      <th>206207</th>\n",
              "      <td>206208</td>\n",
              "      <td>50</td>\n",
              "    </tr>\n",
              "    <tr>\n",
              "      <th>206208</th>\n",
              "      <td>206209</td>\n",
              "      <td>14</td>\n",
              "    </tr>\n",
              "  </tbody>\n",
              "</table>\n",
              "<p>206209 rows × 2 columns</p>\n",
              "</div>"
            ],
            "text/plain": [
              "        user_id  order_number\n",
              "0             1            11\n",
              "1             2            15\n",
              "2             3            13\n",
              "3             4             6\n",
              "4             5             5\n",
              "...         ...           ...\n",
              "206204   206205             4\n",
              "206205   206206            68\n",
              "206206   206207            17\n",
              "206207   206208            50\n",
              "206208   206209            14\n",
              "\n",
              "[206209 rows x 2 columns]"
            ]
          },
          "metadata": {
            "tags": []
          },
          "execution_count": 28
        }
      ]
    },
    {
      "cell_type": "code",
      "metadata": {
        "id": "F79mJL2amxWO",
        "outputId": "050d60c2-0a1a-4812-989d-37f0355ce6c4"
      },
      "source": [
        "max_order_number = max_order_number.order_number.value_counts()\n",
        "max_order_number"
      ],
      "execution_count": null,
      "outputs": [
        {
          "output_type": "execute_result",
          "data": {
            "text/plain": [
              "4     23986\n",
              "5     19590\n",
              "6     16165\n",
              "7     13850\n",
              "8     11700\n",
              "      ...  \n",
              "94       57\n",
              "91       56\n",
              "97       54\n",
              "98       50\n",
              "99       47\n",
              "Name: order_number, Length: 97, dtype: int64"
            ]
          },
          "metadata": {
            "tags": []
          },
          "execution_count": 29
        }
      ]
    },
    {
      "cell_type": "code",
      "metadata": {
        "id": "wI7ZNtaumxWO",
        "outputId": "195ff943-22d0-45d7-ea08-f2801383d41a"
      },
      "source": [
        "plt.figure(figsize=(12,8))\n",
        "sns.barplot(cnt_srs.index, cnt_srs.values, alpha=0.3, color = 'green')\n",
        "plt.ylabel('Counts', fontsize=12)\n",
        "plt.xlabel('Maximum order number', fontsize=12)\n",
        "plt.xticks(rotation='vertical')\n",
        "plt.title('The distrubution: the occurance of the max order number')\n",
        "plt.show()"
      ],
      "execution_count": null,
      "outputs": [
        {
          "output_type": "error",
          "ename": "NameError",
          "evalue": "name 'cnt_srs' is not defined",
          "traceback": [
            "\u001b[0;31m---------------------------------------------------------------------------\u001b[0m",
            "\u001b[0;31mNameError\u001b[0m                                 Traceback (most recent call last)",
            "\u001b[0;32m<ipython-input-30-c56993758226>\u001b[0m in \u001b[0;36m<module>\u001b[0;34m\u001b[0m\n\u001b[1;32m      1\u001b[0m \u001b[0mplt\u001b[0m\u001b[0;34m.\u001b[0m\u001b[0mfigure\u001b[0m\u001b[0;34m(\u001b[0m\u001b[0mfigsize\u001b[0m\u001b[0;34m=\u001b[0m\u001b[0;34m(\u001b[0m\u001b[0;36m12\u001b[0m\u001b[0;34m,\u001b[0m\u001b[0;36m8\u001b[0m\u001b[0;34m)\u001b[0m\u001b[0;34m)\u001b[0m\u001b[0;34m\u001b[0m\u001b[0;34m\u001b[0m\u001b[0m\n\u001b[0;32m----> 2\u001b[0;31m \u001b[0msns\u001b[0m\u001b[0;34m.\u001b[0m\u001b[0mbarplot\u001b[0m\u001b[0;34m(\u001b[0m\u001b[0mcnt_srs\u001b[0m\u001b[0;34m.\u001b[0m\u001b[0mindex\u001b[0m\u001b[0;34m,\u001b[0m \u001b[0mcnt_srs\u001b[0m\u001b[0;34m.\u001b[0m\u001b[0mvalues\u001b[0m\u001b[0;34m,\u001b[0m \u001b[0malpha\u001b[0m\u001b[0;34m=\u001b[0m\u001b[0;36m0.3\u001b[0m\u001b[0;34m,\u001b[0m \u001b[0mcolor\u001b[0m \u001b[0;34m=\u001b[0m \u001b[0;34m'green'\u001b[0m\u001b[0;34m)\u001b[0m\u001b[0;34m\u001b[0m\u001b[0;34m\u001b[0m\u001b[0m\n\u001b[0m\u001b[1;32m      3\u001b[0m \u001b[0mplt\u001b[0m\u001b[0;34m.\u001b[0m\u001b[0mylabel\u001b[0m\u001b[0;34m(\u001b[0m\u001b[0;34m'Counts'\u001b[0m\u001b[0;34m,\u001b[0m \u001b[0mfontsize\u001b[0m\u001b[0;34m=\u001b[0m\u001b[0;36m12\u001b[0m\u001b[0;34m)\u001b[0m\u001b[0;34m\u001b[0m\u001b[0;34m\u001b[0m\u001b[0m\n\u001b[1;32m      4\u001b[0m \u001b[0mplt\u001b[0m\u001b[0;34m.\u001b[0m\u001b[0mxlabel\u001b[0m\u001b[0;34m(\u001b[0m\u001b[0;34m'Maximum order number'\u001b[0m\u001b[0;34m,\u001b[0m \u001b[0mfontsize\u001b[0m\u001b[0;34m=\u001b[0m\u001b[0;36m12\u001b[0m\u001b[0;34m)\u001b[0m\u001b[0;34m\u001b[0m\u001b[0;34m\u001b[0m\u001b[0m\n\u001b[1;32m      5\u001b[0m \u001b[0mplt\u001b[0m\u001b[0;34m.\u001b[0m\u001b[0mxticks\u001b[0m\u001b[0;34m(\u001b[0m\u001b[0mrotation\u001b[0m\u001b[0;34m=\u001b[0m\u001b[0;34m'vertical'\u001b[0m\u001b[0;34m)\u001b[0m\u001b[0;34m\u001b[0m\u001b[0;34m\u001b[0m\u001b[0m\n",
            "\u001b[0;31mNameError\u001b[0m: name 'cnt_srs' is not defined"
          ]
        },
        {
          "output_type": "display_data",
          "data": {
            "text/plain": [
              "<Figure size 864x576 with 0 Axes>"
            ]
          },
          "metadata": {
            "tags": []
          }
        }
      ]
    },
    {
      "cell_type": "markdown",
      "metadata": {
        "id": "hQ-JTdfsmxWO"
      },
      "source": [
        "## Plot Heatmap of the count of order on datetime during the week"
      ]
    },
    {
      "cell_type": "code",
      "metadata": {
        "id": "I39qBAPrmxWO"
      },
      "source": [
        "grouped_df = orders_df.groupby([\"order_dow\", \"order_hour_of_day\"])[\"order_number\"].aggregate(\"count\").reset_index()\n",
        "grouped_df"
      ],
      "execution_count": null,
      "outputs": []
    },
    {
      "cell_type": "code",
      "metadata": {
        "id": "cKzeCc5HmxWO"
      },
      "source": [
        "grouped_df = grouped_df.pivot('order_dow', 'order_hour_of_day', 'order_number')\n",
        "grouped_df"
      ],
      "execution_count": null,
      "outputs": []
    },
    {
      "cell_type": "code",
      "metadata": {
        "scrolled": true,
        "id": "t_TdrDLBmxWP"
      },
      "source": [
        "#bases on the heatmap, the week start with Sat\n",
        "plt.figure(figsize=(12,6))\n",
        "sns.heatmap(grouped_df, yticklabels=['Sat','Sun', 'Mon','Tue','Wed','Thu','Fri'])\n",
        "plt.title(\"Heatmap of the count of order on datetime during the week\")\n",
        "plt.ylabel(\"Time of the day\")\n",
        "plt.xlabel(\"Day of the week\")\n",
        "plt.show()"
      ],
      "execution_count": null,
      "outputs": []
    },
    {
      "cell_type": "code",
      "metadata": {
        "id": "4abJAP6EmxWP"
      },
      "source": [
        "order_products_prior_df['order_dow'].value_counts().sort_values(ascending = False).plot(kind='bar',color='darkcyan')"
      ],
      "execution_count": null,
      "outputs": []
    },
    {
      "cell_type": "markdown",
      "metadata": {
        "id": "jvK6_zE4mxWP"
      },
      "source": [
        "## Plot the frequency distribution by days since prior order"
      ]
    },
    {
      "cell_type": "code",
      "metadata": {
        "scrolled": true,
        "id": "_IdtJ8bnmxWP"
      },
      "source": [
        "plt.figure(figsize=(12,8))\n",
        "sns.countplot(y=\"days_since_prior_order\", data=orders_df, palette=\"Set1\")\n",
        "plt.ylabel('Days since prior order', fontsize=12)\n",
        "plt.xlabel('Frequency', fontsize=12)\n",
        "plt.xticks(rotation='vertical')\n",
        "plt.title(\"Frequency distribution by days since prior order\", fontsize=15)\n",
        "plt.show()"
      ],
      "execution_count": null,
      "outputs": []
    },
    {
      "cell_type": "markdown",
      "metadata": {
        "id": "rZuyXGqjmxWP"
      },
      "source": [
        "## Plot the count of product name"
      ]
    },
    {
      "cell_type": "code",
      "metadata": {
        "id": "OVI3OlTumxWP"
      },
      "source": [
        "from wordcloud import WordCloud,ImageColorGenerator\n",
        "\n",
        "import matplotlib.pyplot as plt\n",
        "\n",
        "#making of word cloud from Product name column\n",
        "text = \" \".join(topic for topic in order_products_prior_df.product_name.astype(str))\n",
        "print (\"There are {} words in the combination of all Product Name.\".format(len(text)))\n",
        "\n",
        "# Create and generate a word cloud image:\n",
        "wordcloud = WordCloud(background_color=\"white\", width=800, height=400).generate(text)\n",
        "\n",
        "plt.axis(\"off\")\n",
        "plt.rcParams[\"figure.figsize\"] = (15,6)\n",
        "plt.tight_layout(pad=0)\n",
        "plt.imshow(wordcloud, interpolation='bilinear')\n",
        "plt.show()"
      ],
      "execution_count": null,
      "outputs": []
    },
    {
      "cell_type": "code",
      "metadata": {
        "id": "r5LG9NqcmxWQ"
      },
      "source": [
        "import seaborn as sns\n",
        "\n",
        "import matplotlib.pyplot as plt\n",
        "\n",
        "plt.figure(figsize=(8,5))\n",
        "\n",
        "sns.countplot(x='reordered',data=order_products_prior_df,color=\"c\")"
      ],
      "execution_count": null,
      "outputs": []
    },
    {
      "cell_type": "code",
      "metadata": {
        "id": "PU-1_Qc0mxWQ"
      },
      "source": [
        "from wordcloud import WordCloud,ImageColorGenerator\n",
        "\n",
        "import matplotlib.pyplot as plt\n",
        "\n",
        "#making of word cloud from Product name column\n",
        "text = \" \".join(topic for topic in aisles_df.aisle.astype(str))\n",
        "print (\"There are {} words in the combination of all Product Name.\".format(len(text)))\n",
        "\n",
        "# Create and generate a word cloud image:\n",
        "wordcloud = WordCloud(background_color=\"white\", width=800, height=400).generate(text)\n",
        "\n",
        "plt.axis(\"off\")\n",
        "plt.rcParams[\"figure.figsize\"] = (15,6)\n",
        "plt.tight_layout(pad=0)\n",
        "plt.imshow(wordcloud, interpolation='bilinear')\n",
        "plt.show()"
      ],
      "execution_count": null,
      "outputs": []
    },
    {
      "cell_type": "code",
      "metadata": {
        "id": "Xdub-JtOmxWQ"
      },
      "source": [
        "order_products_prior_df.columns"
      ],
      "execution_count": null,
      "outputs": []
    },
    {
      "cell_type": "markdown",
      "metadata": {
        "id": "L-Og03D0mxWQ"
      },
      "source": [
        "## Plot department counts"
      ]
    },
    {
      "cell_type": "code",
      "metadata": {
        "id": "kfCTox6kmxWQ"
      },
      "source": [
        "order_products_prior_df['department'].value_counts()"
      ],
      "execution_count": null,
      "outputs": []
    },
    {
      "cell_type": "code",
      "metadata": {
        "id": "la6NQU_BmxWQ"
      },
      "source": [
        "cnt_srs = order_products_prior_df['department'].value_counts()"
      ],
      "execution_count": null,
      "outputs": []
    },
    {
      "cell_type": "code",
      "metadata": {
        "id": "zSKTEo8TmxWQ"
      },
      "source": [
        "plt.figure(figsize=(12,8))\n",
        "sns.barplot(cnt_srs.index, cnt_srs.values)\n",
        "plt.ylabel('Number of Occurrences', fontsize=12)\n",
        "plt.xlabel('Department', fontsize=12)\n",
        "plt.xticks(rotation='vertical')\n",
        "plt.show()"
      ],
      "execution_count": null,
      "outputs": []
    },
    {
      "cell_type": "code",
      "metadata": {
        "id": "4T2mYJ9GmxWR"
      },
      "source": [
        "plt.figure(figsize=(10,10))\n",
        "temp_series = order_products_prior_df['department'].value_counts()\n",
        "labels = (np.array(temp_series.index))\n",
        "sizes = (np.array((temp_series / temp_series.sum())*100))\n",
        "plt.pie(sizes, labels=labels, \n",
        "        autopct='%1.1f%%', startangle=200)\n",
        "plt.title(\"Departments distribution\", fontsize=15)\n",
        "plt.show()"
      ],
      "execution_count": null,
      "outputs": []
    },
    {
      "cell_type": "code",
      "metadata": {
        "scrolled": true,
        "id": "7NV0W1sUmxWR"
      },
      "source": [
        "order_products_prior_df[order_products_prior_df.department =='dairy eggs'].head()"
      ],
      "execution_count": null,
      "outputs": []
    },
    {
      "cell_type": "code",
      "metadata": {
        "id": "61e7D7GYmxWR"
      },
      "source": [
        "order_products_prior_df.head()"
      ],
      "execution_count": null,
      "outputs": []
    },
    {
      "cell_type": "code",
      "metadata": {
        "id": "1ASaR_-hmxWR"
      },
      "source": [
        "gr_dept_df = order_products_prior_df[order_products_prior_df.department =='dairy eggs'].groupby([\"order_dow\", \"order_hour_of_day\"])[\"order_number\"].aggregate(\"count\").reset_index()"
      ],
      "execution_count": null,
      "outputs": []
    },
    {
      "cell_type": "markdown",
      "metadata": {
        "id": "FecRaDm2mxWR"
      },
      "source": [
        "## Order ditrubtuion during the week for each Department:"
      ]
    },
    {
      "cell_type": "code",
      "metadata": {
        "id": "yTfEOvWJmxWR"
      },
      "source": [
        "#Order ditrubtuion during the week for each Department:\n",
        "for i in order_products_prior_df['department'].value_counts().index:\n",
        "    gr_dept_df = order_products_prior_df[order_products_prior_df.department==i].groupby([\"order_dow\", \"order_hour_of_day\"])[\"order_number\"].aggregate(\"count\").reset_index()\n",
        "    gr_dept_df = gr_dept_df.pivot('order_dow', 'order_hour_of_day', 'order_number')\n",
        "\n",
        "    plt.figure(figsize=(12,6))\n",
        "    sns.heatmap(gr_dept_df,yticklabels=['Sat','Sun', 'Mon','Tue','Wed','Thu','Fri'])\n",
        "    plt.title(\"Order ditrubtuion during the week for each Department: \"+i)\n",
        "    plt.ylabel(\"The day of week\")\n",
        "    plt.xlabel(\"The time of day\")\n",
        "    plt.show()"
      ],
      "execution_count": null,
      "outputs": []
    },
    {
      "cell_type": "code",
      "metadata": {
        "id": "tBDF60KDmxWS"
      },
      "source": [
        "gr_dept_df"
      ],
      "execution_count": null,
      "outputs": []
    },
    {
      "cell_type": "markdown",
      "metadata": {
        "id": "znsgzjGUmxWS"
      },
      "source": [
        "# <font color='blue'>Dummy Variables </font> "
      ]
    },
    {
      "cell_type": "code",
      "metadata": {
        "id": "4MQZXjVamxWS"
      },
      "source": [
        "dummies_df = pd.get_dummies(data=order_products_prior_df, prefix=['Day','Hour'], columns=['order_dow','order_hour_of_day'], drop_first=True)\n",
        "dummies_df.head(10)"
      ],
      "execution_count": null,
      "outputs": []
    },
    {
      "cell_type": "code",
      "metadata": {
        "id": "F_MxEvIsmxWS"
      },
      "source": [
        "dummies_df.columns"
      ],
      "execution_count": null,
      "outputs": []
    },
    {
      "cell_type": "code",
      "metadata": {
        "id": "U0viVLpCmxWS"
      },
      "source": [
        "user_prod_df = dummies_df.groupby(['user_id','product_id']).agg({'order_id':'nunique',\n",
        "                                                                 'days_since_prior_order':'mean',\n",
        "                                                                 'reordered':'max',\n",
        "                                                                 'Day_1':'sum',\n",
        "                                                                 'Day_2':'sum',\n",
        "                                                                 'Day_3':'sum',\n",
        "                                                                 'Day_4':'sum',\n",
        "                                                                 'Day_5':'sum',\n",
        "                                                                 'Day_6':'sum',\n",
        "                                                                 'Hour_1':'sum',\n",
        "                                                                 'Hour_2':'sum',\n",
        "                                                                 'Hour_3':'sum',\n",
        "                                                                 'Hour_4':'sum',\n",
        "                                                                 'Hour_5':'sum',\n",
        "                                                                 'Hour_6':'sum',\n",
        "                                                                 'Hour_7':'sum',\n",
        "                                                                 'Hour_8':'sum',\n",
        "                                                                 'Hour_9':'sum',\n",
        "                                                                 'Hour_10':'sum',\n",
        "                                                                 'Hour_11':'sum',\n",
        "                                                                 'Hour_12':'sum',\n",
        "                                                                 'Hour_13':'sum',\n",
        "                                                                 'Hour_14':'sum',\n",
        "                                                                 'Hour_15':'sum',\n",
        "                                                                 'Hour_16':'sum',\n",
        "                                                                 'Hour_17':'sum',\n",
        "                                                                 'Hour_18':'sum',\n",
        "                                                                 'Hour_19':'sum',\n",
        "                                                                 'Hour_20':'sum',\n",
        "                                                                 'Hour_21':'sum',\n",
        "                                                                 'Hour_22':'sum',\n",
        "                                                                 'Hour_23':'sum'\n",
        "                                                                }).reset_index()\n",
        "user_prod_df.head(10)"
      ],
      "execution_count": null,
      "outputs": []
    },
    {
      "cell_type": "code",
      "metadata": {
        "id": "ZTNZR1r5mxWS"
      },
      "source": [
        "user_purchase_df = dummies_df.groupby(['user_id']).agg({         'order_id':'nunique',\n",
        "                                                                 'product_id': 'nunique',\n",
        "                                                                 'days_since_prior_order':'mean',\n",
        "                                                                 'reordered':'sum',\n",
        "                                                                 'Day_1':'sum',\n",
        "                                                                 'Day_2':'sum',\n",
        "                                                                 'Day_3':'sum',\n",
        "                                                                 'Day_4':'sum',\n",
        "                                                                 'Day_5':'sum',\n",
        "                                                                 'Day_6':'sum',\n",
        "                                                                 'Hour_1':'sum',\n",
        "                                                                 'Hour_2':'sum',\n",
        "                                                                 'Hour_3':'sum',\n",
        "                                                                 'Hour_4':'sum',\n",
        "                                                                 'Hour_5':'sum',\n",
        "                                                                 'Hour_6':'sum',\n",
        "                                                                 'Hour_7':'sum',\n",
        "                                                                 'Hour_8':'sum',\n",
        "                                                                 'Hour_9':'sum',\n",
        "                                                                 'Hour_10':'sum',\n",
        "                                                                 'Hour_11':'sum',\n",
        "                                                                 'Hour_12':'sum',\n",
        "                                                                 'Hour_13':'sum',\n",
        "                                                                 'Hour_14':'sum',\n",
        "                                                                 'Hour_15':'sum',\n",
        "                                                                 'Hour_16':'sum',\n",
        "                                                                 'Hour_17':'sum',\n",
        "                                                                 'Hour_18':'sum',\n",
        "                                                                 'Hour_19':'sum',\n",
        "                                                                 'Hour_20':'sum',\n",
        "                                                                 'Hour_21':'sum',\n",
        "                                                                 'Hour_22':'sum',\n",
        "                                                                 'Hour_23':'sum'\n",
        "                                                                }).reset_index()\n",
        "user_purchase_df.head(10)"
      ],
      "execution_count": null,
      "outputs": []
    },
    {
      "cell_type": "code",
      "metadata": {
        "id": "1eeECeF7mxWT"
      },
      "source": [
        "product_purchase_df = dummies_df.groupby(['product_id']).agg({   'order_id':'nunique',\n",
        "                                                                 'user_id': 'nunique',\n",
        "                                                                 'days_since_prior_order':'mean',\n",
        "                                                                 'reordered':'sum',\n",
        "                                                                 'Day_1':'sum',\n",
        "                                                                 'Day_2':'sum',\n",
        "                                                                 'Day_3':'sum',\n",
        "                                                                 'Day_4':'sum',\n",
        "                                                                 'Day_5':'sum',\n",
        "                                                                 'Day_6':'sum',\n",
        "                                                                 'Hour_1':'sum',\n",
        "                                                                 'Hour_2':'sum',\n",
        "                                                                 'Hour_3':'sum',\n",
        "                                                                 'Hour_4':'sum',\n",
        "                                                                 'Hour_5':'sum',\n",
        "                                                                 'Hour_6':'sum',\n",
        "                                                                 'Hour_7':'sum',\n",
        "                                                                 'Hour_8':'sum',\n",
        "                                                                 'Hour_9':'sum',\n",
        "                                                                 'Hour_10':'sum',\n",
        "                                                                 'Hour_11':'sum',\n",
        "                                                                 'Hour_12':'sum',\n",
        "                                                                 'Hour_13':'sum',\n",
        "                                                                 'Hour_14':'sum',\n",
        "                                                                 'Hour_15':'sum',\n",
        "                                                                 'Hour_16':'sum',\n",
        "                                                                 'Hour_17':'sum',\n",
        "                                                                 'Hour_18':'sum',\n",
        "                                                                 'Hour_19':'sum',\n",
        "                                                                 'Hour_20':'sum',\n",
        "                                                                 'Hour_21':'sum',\n",
        "                                                                 'Hour_22':'sum',\n",
        "                                                                 'Hour_23':'sum'\n",
        "                                                                }).reset_index()\n",
        "product_purchase_df.head(10)"
      ],
      "execution_count": null,
      "outputs": []
    },
    {
      "cell_type": "code",
      "metadata": {
        "id": "LCT7Cjk6mxWT"
      },
      "source": [
        "temp = pd.merge(left=user_prod_df,  right=user_purchase_df, on='user_id', suffixes=('','_user'))\n",
        "temp.head(10)"
      ],
      "execution_count": null,
      "outputs": []
    },
    {
      "cell_type": "code",
      "metadata": {
        "id": "mEDV5dZNmxWT"
      },
      "source": [
        "features_df = pd.merge(left=temp,  right=product_purchase_df, on='product_id', suffixes=('','_prod'))\n",
        "features_df.head(10)"
      ],
      "execution_count": null,
      "outputs": []
    },
    {
      "cell_type": "code",
      "metadata": {
        "id": "PHjfz_I0mxWT"
      },
      "source": [
        "features_df.shape"
      ],
      "execution_count": null,
      "outputs": []
    },
    {
      "cell_type": "code",
      "metadata": {
        "id": "-kh6dhzymxWT"
      },
      "source": [
        "features_df.info()"
      ],
      "execution_count": null,
      "outputs": []
    },
    {
      "cell_type": "code",
      "metadata": {
        "id": "XCRRdF8ZmxWT"
      },
      "source": [
        "features_df.isnull().sum()"
      ],
      "execution_count": null,
      "outputs": []
    },
    {
      "cell_type": "code",
      "metadata": {
        "id": "NjMYn59RmxWT"
      },
      "source": [
        "features_df.drop(columns=['days_since_prior_order'],inplace= True)"
      ],
      "execution_count": null,
      "outputs": []
    },
    {
      "cell_type": "code",
      "metadata": {
        "id": "3kA938c5mxWU"
      },
      "source": [
        "reduced_feature= features_df[:1000]"
      ],
      "execution_count": null,
      "outputs": []
    },
    {
      "cell_type": "code",
      "metadata": {
        "id": "SV-KaQrlmxWU"
      },
      "source": [
        "reduced_feature.head()"
      ],
      "execution_count": null,
      "outputs": []
    },
    {
      "cell_type": "markdown",
      "metadata": {
        "id": "gRkXPrkkmxWU"
      },
      "source": [
        "# <font color='blue'>Split Train and Test </font> "
      ]
    },
    {
      "cell_type": "code",
      "metadata": {
        "colab": {
          "base_uri": "https://localhost:8080/",
          "height": 359
        },
        "id": "pVmPpnozmxWU",
        "outputId": "dcd7f41b-c21c-4d42-aa11-9268992a1cdb"
      },
      "source": [
        "orders_future = orders_df[((orders_df.eval_set=='train') | (orders_df.eval_set=='test'))]\n",
        "orders_future = orders_future[ ['user_id', 'eval_set', 'order_id'] ]\n",
        "orders_future.head(10)"
      ],
      "execution_count": 29,
      "outputs": [
        {
          "output_type": "execute_result",
          "data": {
            "text/html": [
              "<div>\n",
              "<style scoped>\n",
              "    .dataframe tbody tr th:only-of-type {\n",
              "        vertical-align: middle;\n",
              "    }\n",
              "\n",
              "    .dataframe tbody tr th {\n",
              "        vertical-align: top;\n",
              "    }\n",
              "\n",
              "    .dataframe thead th {\n",
              "        text-align: right;\n",
              "    }\n",
              "</style>\n",
              "<table border=\"1\" class=\"dataframe\">\n",
              "  <thead>\n",
              "    <tr style=\"text-align: right;\">\n",
              "      <th></th>\n",
              "      <th>user_id</th>\n",
              "      <th>eval_set</th>\n",
              "      <th>order_id</th>\n",
              "    </tr>\n",
              "  </thead>\n",
              "  <tbody>\n",
              "    <tr>\n",
              "      <th>10</th>\n",
              "      <td>1</td>\n",
              "      <td>train</td>\n",
              "      <td>1187899</td>\n",
              "    </tr>\n",
              "    <tr>\n",
              "      <th>25</th>\n",
              "      <td>2</td>\n",
              "      <td>train</td>\n",
              "      <td>1492625</td>\n",
              "    </tr>\n",
              "    <tr>\n",
              "      <th>38</th>\n",
              "      <td>3</td>\n",
              "      <td>test</td>\n",
              "      <td>2774568</td>\n",
              "    </tr>\n",
              "    <tr>\n",
              "      <th>44</th>\n",
              "      <td>4</td>\n",
              "      <td>test</td>\n",
              "      <td>329954</td>\n",
              "    </tr>\n",
              "    <tr>\n",
              "      <th>49</th>\n",
              "      <td>5</td>\n",
              "      <td>train</td>\n",
              "      <td>2196797</td>\n",
              "    </tr>\n",
              "    <tr>\n",
              "      <th>53</th>\n",
              "      <td>6</td>\n",
              "      <td>test</td>\n",
              "      <td>1528013</td>\n",
              "    </tr>\n",
              "    <tr>\n",
              "      <th>74</th>\n",
              "      <td>7</td>\n",
              "      <td>train</td>\n",
              "      <td>525192</td>\n",
              "    </tr>\n",
              "    <tr>\n",
              "      <th>78</th>\n",
              "      <td>8</td>\n",
              "      <td>train</td>\n",
              "      <td>880375</td>\n",
              "    </tr>\n",
              "    <tr>\n",
              "      <th>82</th>\n",
              "      <td>9</td>\n",
              "      <td>train</td>\n",
              "      <td>1094988</td>\n",
              "    </tr>\n",
              "    <tr>\n",
              "      <th>88</th>\n",
              "      <td>10</td>\n",
              "      <td>train</td>\n",
              "      <td>1822501</td>\n",
              "    </tr>\n",
              "  </tbody>\n",
              "</table>\n",
              "</div>"
            ],
            "text/plain": [
              "    user_id eval_set  order_id\n",
              "10        1    train   1187899\n",
              "25        2    train   1492625\n",
              "38        3     test   2774568\n",
              "44        4     test    329954\n",
              "49        5    train   2196797\n",
              "53        6     test   1528013\n",
              "74        7    train    525192\n",
              "78        8    train    880375\n",
              "82        9    train   1094988\n",
              "88       10    train   1822501"
            ]
          },
          "metadata": {
            "tags": []
          },
          "execution_count": 29
        }
      ]
    },
    {
      "cell_type": "code",
      "metadata": {
        "colab": {
          "base_uri": "https://localhost:8080/",
          "height": 359
        },
        "id": "jqcgcqLemxWU",
        "outputId": "2c390d8f-a817-4b73-c893-2b97df63c55b"
      },
      "source": [
        "df = data.merge(orders_future, on='user_id', how='left')\n",
        "df.head(10)"
      ],
      "execution_count": 30,
      "outputs": [
        {
          "output_type": "execute_result",
          "data": {
            "text/html": [
              "<div>\n",
              "<style scoped>\n",
              "    .dataframe tbody tr th:only-of-type {\n",
              "        vertical-align: middle;\n",
              "    }\n",
              "\n",
              "    .dataframe tbody tr th {\n",
              "        vertical-align: top;\n",
              "    }\n",
              "\n",
              "    .dataframe thead th {\n",
              "        text-align: right;\n",
              "    }\n",
              "</style>\n",
              "<table border=\"1\" class=\"dataframe\">\n",
              "  <thead>\n",
              "    <tr style=\"text-align: right;\">\n",
              "      <th></th>\n",
              "      <th>user_id</th>\n",
              "      <th>product_id</th>\n",
              "      <th>uxp_total_bought</th>\n",
              "      <th>uxp_reorder_ratio</th>\n",
              "      <th>user_total_orders</th>\n",
              "      <th>p_total_purchases</th>\n",
              "      <th>p_reorder_ratio</th>\n",
              "      <th>eval_set</th>\n",
              "      <th>order_id</th>\n",
              "    </tr>\n",
              "  </thead>\n",
              "  <tbody>\n",
              "    <tr>\n",
              "      <th>0</th>\n",
              "      <td>7.0</td>\n",
              "      <td>4920.0</td>\n",
              "      <td>1</td>\n",
              "      <td>1.0</td>\n",
              "      <td>17.0</td>\n",
              "      <td>1494</td>\n",
              "      <td>0.670013</td>\n",
              "      <td>train</td>\n",
              "      <td>525192</td>\n",
              "    </tr>\n",
              "    <tr>\n",
              "      <th>1</th>\n",
              "      <td>7.0</td>\n",
              "      <td>4945.0</td>\n",
              "      <td>1</td>\n",
              "      <td>1.0</td>\n",
              "      <td>17.0</td>\n",
              "      <td>99</td>\n",
              "      <td>0.727273</td>\n",
              "      <td>train</td>\n",
              "      <td>525192</td>\n",
              "    </tr>\n",
              "    <tr>\n",
              "      <th>2</th>\n",
              "      <td>7.0</td>\n",
              "      <td>8277.0</td>\n",
              "      <td>1</td>\n",
              "      <td>1.0</td>\n",
              "      <td>17.0</td>\n",
              "      <td>1600</td>\n",
              "      <td>0.751875</td>\n",
              "      <td>train</td>\n",
              "      <td>525192</td>\n",
              "    </tr>\n",
              "    <tr>\n",
              "      <th>3</th>\n",
              "      <td>7.0</td>\n",
              "      <td>11520.0</td>\n",
              "      <td>1</td>\n",
              "      <td>1.0</td>\n",
              "      <td>17.0</td>\n",
              "      <td>731</td>\n",
              "      <td>0.764706</td>\n",
              "      <td>train</td>\n",
              "      <td>525192</td>\n",
              "    </tr>\n",
              "    <tr>\n",
              "      <th>4</th>\n",
              "      <td>7.0</td>\n",
              "      <td>13198.0</td>\n",
              "      <td>1</td>\n",
              "      <td>1.0</td>\n",
              "      <td>17.0</td>\n",
              "      <td>239</td>\n",
              "      <td>0.648536</td>\n",
              "      <td>train</td>\n",
              "      <td>525192</td>\n",
              "    </tr>\n",
              "    <tr>\n",
              "      <th>5</th>\n",
              "      <td>7.0</td>\n",
              "      <td>17638.0</td>\n",
              "      <td>1</td>\n",
              "      <td>1.0</td>\n",
              "      <td>17.0</td>\n",
              "      <td>47</td>\n",
              "      <td>0.723404</td>\n",
              "      <td>train</td>\n",
              "      <td>525192</td>\n",
              "    </tr>\n",
              "    <tr>\n",
              "      <th>6</th>\n",
              "      <td>7.0</td>\n",
              "      <td>27344.0</td>\n",
              "      <td>1</td>\n",
              "      <td>1.0</td>\n",
              "      <td>17.0</td>\n",
              "      <td>750</td>\n",
              "      <td>0.665333</td>\n",
              "      <td>train</td>\n",
              "      <td>525192</td>\n",
              "    </tr>\n",
              "    <tr>\n",
              "      <th>7</th>\n",
              "      <td>7.0</td>\n",
              "      <td>32177.0</td>\n",
              "      <td>1</td>\n",
              "      <td>1.0</td>\n",
              "      <td>17.0</td>\n",
              "      <td>188</td>\n",
              "      <td>0.457447</td>\n",
              "      <td>train</td>\n",
              "      <td>525192</td>\n",
              "    </tr>\n",
              "    <tr>\n",
              "      <th>8</th>\n",
              "      <td>7.0</td>\n",
              "      <td>37602.0</td>\n",
              "      <td>1</td>\n",
              "      <td>1.0</td>\n",
              "      <td>17.0</td>\n",
              "      <td>16</td>\n",
              "      <td>0.000000</td>\n",
              "      <td>train</td>\n",
              "      <td>525192</td>\n",
              "    </tr>\n",
              "    <tr>\n",
              "      <th>9</th>\n",
              "      <td>7.0</td>\n",
              "      <td>40852.0</td>\n",
              "      <td>1</td>\n",
              "      <td>1.0</td>\n",
              "      <td>17.0</td>\n",
              "      <td>84</td>\n",
              "      <td>0.785714</td>\n",
              "      <td>train</td>\n",
              "      <td>525192</td>\n",
              "    </tr>\n",
              "  </tbody>\n",
              "</table>\n",
              "</div>"
            ],
            "text/plain": [
              "   user_id  product_id  uxp_total_bought  ...  p_reorder_ratio  eval_set  order_id\n",
              "0      7.0      4920.0                 1  ...         0.670013     train    525192\n",
              "1      7.0      4945.0                 1  ...         0.727273     train    525192\n",
              "2      7.0      8277.0                 1  ...         0.751875     train    525192\n",
              "3      7.0     11520.0                 1  ...         0.764706     train    525192\n",
              "4      7.0     13198.0                 1  ...         0.648536     train    525192\n",
              "5      7.0     17638.0                 1  ...         0.723404     train    525192\n",
              "6      7.0     27344.0                 1  ...         0.665333     train    525192\n",
              "7      7.0     32177.0                 1  ...         0.457447     train    525192\n",
              "8      7.0     37602.0                 1  ...         0.000000     train    525192\n",
              "9      7.0     40852.0                 1  ...         0.785714     train    525192\n",
              "\n",
              "[10 rows x 9 columns]"
            ]
          },
          "metadata": {
            "tags": []
          },
          "execution_count": 30
        }
      ]
    },
    {
      "cell_type": "code",
      "metadata": {
        "scrolled": true,
        "colab": {
          "base_uri": "https://localhost:8080/",
          "height": 419
        },
        "id": "bwEeV9glmxWU",
        "outputId": "a1c4b5b0-3577-4a4c-f6e8-124a13bc81aa"
      },
      "source": [
        "data_train = df[df.eval_set=='train']\n",
        "data_train"
      ],
      "execution_count": 42,
      "outputs": [
        {
          "output_type": "execute_result",
          "data": {
            "text/html": [
              "<div>\n",
              "<style scoped>\n",
              "    .dataframe tbody tr th:only-of-type {\n",
              "        vertical-align: middle;\n",
              "    }\n",
              "\n",
              "    .dataframe tbody tr th {\n",
              "        vertical-align: top;\n",
              "    }\n",
              "\n",
              "    .dataframe thead th {\n",
              "        text-align: right;\n",
              "    }\n",
              "</style>\n",
              "<table border=\"1\" class=\"dataframe\">\n",
              "  <thead>\n",
              "    <tr style=\"text-align: right;\">\n",
              "      <th></th>\n",
              "      <th>user_id</th>\n",
              "      <th>product_id</th>\n",
              "      <th>uxp_total_bought</th>\n",
              "      <th>uxp_reorder_ratio</th>\n",
              "      <th>user_total_orders</th>\n",
              "      <th>p_total_purchases</th>\n",
              "      <th>p_reorder_ratio</th>\n",
              "      <th>eval_set</th>\n",
              "      <th>order_id</th>\n",
              "    </tr>\n",
              "  </thead>\n",
              "  <tbody>\n",
              "    <tr>\n",
              "      <th>0</th>\n",
              "      <td>7.0</td>\n",
              "      <td>4920.0</td>\n",
              "      <td>1</td>\n",
              "      <td>1.0</td>\n",
              "      <td>17.0</td>\n",
              "      <td>1494</td>\n",
              "      <td>0.670013</td>\n",
              "      <td>train</td>\n",
              "      <td>525192</td>\n",
              "    </tr>\n",
              "    <tr>\n",
              "      <th>1</th>\n",
              "      <td>7.0</td>\n",
              "      <td>4945.0</td>\n",
              "      <td>1</td>\n",
              "      <td>1.0</td>\n",
              "      <td>17.0</td>\n",
              "      <td>99</td>\n",
              "      <td>0.727273</td>\n",
              "      <td>train</td>\n",
              "      <td>525192</td>\n",
              "    </tr>\n",
              "    <tr>\n",
              "      <th>2</th>\n",
              "      <td>7.0</td>\n",
              "      <td>8277.0</td>\n",
              "      <td>1</td>\n",
              "      <td>1.0</td>\n",
              "      <td>17.0</td>\n",
              "      <td>1600</td>\n",
              "      <td>0.751875</td>\n",
              "      <td>train</td>\n",
              "      <td>525192</td>\n",
              "    </tr>\n",
              "    <tr>\n",
              "      <th>3</th>\n",
              "      <td>7.0</td>\n",
              "      <td>11520.0</td>\n",
              "      <td>1</td>\n",
              "      <td>1.0</td>\n",
              "      <td>17.0</td>\n",
              "      <td>731</td>\n",
              "      <td>0.764706</td>\n",
              "      <td>train</td>\n",
              "      <td>525192</td>\n",
              "    </tr>\n",
              "    <tr>\n",
              "      <th>4</th>\n",
              "      <td>7.0</td>\n",
              "      <td>13198.0</td>\n",
              "      <td>1</td>\n",
              "      <td>1.0</td>\n",
              "      <td>17.0</td>\n",
              "      <td>239</td>\n",
              "      <td>0.648536</td>\n",
              "      <td>train</td>\n",
              "      <td>525192</td>\n",
              "    </tr>\n",
              "    <tr>\n",
              "      <th>...</th>\n",
              "      <td>...</td>\n",
              "      <td>...</td>\n",
              "      <td>...</td>\n",
              "      <td>...</td>\n",
              "      <td>...</td>\n",
              "      <td>...</td>\n",
              "      <td>...</td>\n",
              "      <td>...</td>\n",
              "      <td>...</td>\n",
              "    </tr>\n",
              "    <tr>\n",
              "      <th>55523</th>\n",
              "      <td>20576.0</td>\n",
              "      <td>24532.0</td>\n",
              "      <td>1</td>\n",
              "      <td>0.5</td>\n",
              "      <td>6.0</td>\n",
              "      <td>27</td>\n",
              "      <td>0.000000</td>\n",
              "      <td>train</td>\n",
              "      <td>1680740</td>\n",
              "    </tr>\n",
              "    <tr>\n",
              "      <th>55524</th>\n",
              "      <td>20576.0</td>\n",
              "      <td>26604.0</td>\n",
              "      <td>1</td>\n",
              "      <td>1.0</td>\n",
              "      <td>6.0</td>\n",
              "      <td>1139</td>\n",
              "      <td>0.635645</td>\n",
              "      <td>train</td>\n",
              "      <td>1680740</td>\n",
              "    </tr>\n",
              "    <tr>\n",
              "      <th>55525</th>\n",
              "      <td>20576.0</td>\n",
              "      <td>27966.0</td>\n",
              "      <td>1</td>\n",
              "      <td>1.0</td>\n",
              "      <td>6.0</td>\n",
              "      <td>2545</td>\n",
              "      <td>0.754028</td>\n",
              "      <td>train</td>\n",
              "      <td>1680740</td>\n",
              "    </tr>\n",
              "    <tr>\n",
              "      <th>55526</th>\n",
              "      <td>20576.0</td>\n",
              "      <td>39275.0</td>\n",
              "      <td>1</td>\n",
              "      <td>1.0</td>\n",
              "      <td>6.0</td>\n",
              "      <td>1822</td>\n",
              "      <td>0.621295</td>\n",
              "      <td>train</td>\n",
              "      <td>1680740</td>\n",
              "    </tr>\n",
              "    <tr>\n",
              "      <th>55527</th>\n",
              "      <td>20576.0</td>\n",
              "      <td>48812.0</td>\n",
              "      <td>1</td>\n",
              "      <td>0.5</td>\n",
              "      <td>6.0</td>\n",
              "      <td>71</td>\n",
              "      <td>0.464789</td>\n",
              "      <td>train</td>\n",
              "      <td>1680740</td>\n",
              "    </tr>\n",
              "  </tbody>\n",
              "</table>\n",
              "<p>36527 rows × 9 columns</p>\n",
              "</div>"
            ],
            "text/plain": [
              "       user_id  product_id  ...  eval_set  order_id\n",
              "0          7.0      4920.0  ...     train    525192\n",
              "1          7.0      4945.0  ...     train    525192\n",
              "2          7.0      8277.0  ...     train    525192\n",
              "3          7.0     11520.0  ...     train    525192\n",
              "4          7.0     13198.0  ...     train    525192\n",
              "...        ...         ...  ...       ...       ...\n",
              "55523  20576.0     24532.0  ...     train   1680740\n",
              "55524  20576.0     26604.0  ...     train   1680740\n",
              "55525  20576.0     27966.0  ...     train   1680740\n",
              "55526  20576.0     39275.0  ...     train   1680740\n",
              "55527  20576.0     48812.0  ...     train   1680740\n",
              "\n",
              "[36527 rows x 9 columns]"
            ]
          },
          "metadata": {
            "tags": []
          },
          "execution_count": 42
        }
      ]
    },
    {
      "cell_type": "code",
      "metadata": {
        "colab": {
          "base_uri": "https://localhost:8080/",
          "height": 450
        },
        "id": "XLlaUqIImxWV",
        "outputId": "cef808bb-8fd8-4f62-c671-d96bba795959"
      },
      "source": [
        "data_train = data_train.set_index(['user_id', 'product_id'])\n",
        "data_train = data_train.drop(['eval_set', 'order_id'], axis=1)\n",
        "data_train"
      ],
      "execution_count": 43,
      "outputs": [
        {
          "output_type": "execute_result",
          "data": {
            "text/html": [
              "<div>\n",
              "<style scoped>\n",
              "    .dataframe tbody tr th:only-of-type {\n",
              "        vertical-align: middle;\n",
              "    }\n",
              "\n",
              "    .dataframe tbody tr th {\n",
              "        vertical-align: top;\n",
              "    }\n",
              "\n",
              "    .dataframe thead th {\n",
              "        text-align: right;\n",
              "    }\n",
              "</style>\n",
              "<table border=\"1\" class=\"dataframe\">\n",
              "  <thead>\n",
              "    <tr style=\"text-align: right;\">\n",
              "      <th></th>\n",
              "      <th></th>\n",
              "      <th>uxp_total_bought</th>\n",
              "      <th>uxp_reorder_ratio</th>\n",
              "      <th>user_total_orders</th>\n",
              "      <th>p_total_purchases</th>\n",
              "      <th>p_reorder_ratio</th>\n",
              "    </tr>\n",
              "    <tr>\n",
              "      <th>user_id</th>\n",
              "      <th>product_id</th>\n",
              "      <th></th>\n",
              "      <th></th>\n",
              "      <th></th>\n",
              "      <th></th>\n",
              "      <th></th>\n",
              "    </tr>\n",
              "  </thead>\n",
              "  <tbody>\n",
              "    <tr>\n",
              "      <th rowspan=\"5\" valign=\"top\">7.0</th>\n",
              "      <th>4920.0</th>\n",
              "      <td>1</td>\n",
              "      <td>1.0</td>\n",
              "      <td>17.0</td>\n",
              "      <td>1494</td>\n",
              "      <td>0.670013</td>\n",
              "    </tr>\n",
              "    <tr>\n",
              "      <th>4945.0</th>\n",
              "      <td>1</td>\n",
              "      <td>1.0</td>\n",
              "      <td>17.0</td>\n",
              "      <td>99</td>\n",
              "      <td>0.727273</td>\n",
              "    </tr>\n",
              "    <tr>\n",
              "      <th>8277.0</th>\n",
              "      <td>1</td>\n",
              "      <td>1.0</td>\n",
              "      <td>17.0</td>\n",
              "      <td>1600</td>\n",
              "      <td>0.751875</td>\n",
              "    </tr>\n",
              "    <tr>\n",
              "      <th>11520.0</th>\n",
              "      <td>1</td>\n",
              "      <td>1.0</td>\n",
              "      <td>17.0</td>\n",
              "      <td>731</td>\n",
              "      <td>0.764706</td>\n",
              "    </tr>\n",
              "    <tr>\n",
              "      <th>13198.0</th>\n",
              "      <td>1</td>\n",
              "      <td>1.0</td>\n",
              "      <td>17.0</td>\n",
              "      <td>239</td>\n",
              "      <td>0.648536</td>\n",
              "    </tr>\n",
              "    <tr>\n",
              "      <th>...</th>\n",
              "      <th>...</th>\n",
              "      <td>...</td>\n",
              "      <td>...</td>\n",
              "      <td>...</td>\n",
              "      <td>...</td>\n",
              "      <td>...</td>\n",
              "    </tr>\n",
              "    <tr>\n",
              "      <th rowspan=\"5\" valign=\"top\">20576.0</th>\n",
              "      <th>24532.0</th>\n",
              "      <td>1</td>\n",
              "      <td>0.5</td>\n",
              "      <td>6.0</td>\n",
              "      <td>27</td>\n",
              "      <td>0.000000</td>\n",
              "    </tr>\n",
              "    <tr>\n",
              "      <th>26604.0</th>\n",
              "      <td>1</td>\n",
              "      <td>1.0</td>\n",
              "      <td>6.0</td>\n",
              "      <td>1139</td>\n",
              "      <td>0.635645</td>\n",
              "    </tr>\n",
              "    <tr>\n",
              "      <th>27966.0</th>\n",
              "      <td>1</td>\n",
              "      <td>1.0</td>\n",
              "      <td>6.0</td>\n",
              "      <td>2545</td>\n",
              "      <td>0.754028</td>\n",
              "    </tr>\n",
              "    <tr>\n",
              "      <th>39275.0</th>\n",
              "      <td>1</td>\n",
              "      <td>1.0</td>\n",
              "      <td>6.0</td>\n",
              "      <td>1822</td>\n",
              "      <td>0.621295</td>\n",
              "    </tr>\n",
              "    <tr>\n",
              "      <th>48812.0</th>\n",
              "      <td>1</td>\n",
              "      <td>0.5</td>\n",
              "      <td>6.0</td>\n",
              "      <td>71</td>\n",
              "      <td>0.464789</td>\n",
              "    </tr>\n",
              "  </tbody>\n",
              "</table>\n",
              "<p>36527 rows × 5 columns</p>\n",
              "</div>"
            ],
            "text/plain": [
              "                    uxp_total_bought  ...  p_reorder_ratio\n",
              "user_id product_id                    ...                 \n",
              "7.0     4920.0                     1  ...         0.670013\n",
              "        4945.0                     1  ...         0.727273\n",
              "        8277.0                     1  ...         0.751875\n",
              "        11520.0                    1  ...         0.764706\n",
              "        13198.0                    1  ...         0.648536\n",
              "...                              ...  ...              ...\n",
              "20576.0 24532.0                    1  ...         0.000000\n",
              "        26604.0                    1  ...         0.635645\n",
              "        27966.0                    1  ...         0.754028\n",
              "        39275.0                    1  ...         0.621295\n",
              "        48812.0                    1  ...         0.464789\n",
              "\n",
              "[36527 rows x 5 columns]"
            ]
          },
          "metadata": {
            "tags": []
          },
          "execution_count": 43
        }
      ]
    },
    {
      "cell_type": "markdown",
      "metadata": {
        "id": "tZ4VC2t9mxWV"
      },
      "source": [
        "Test Dataset"
      ]
    },
    {
      "cell_type": "code",
      "metadata": {
        "colab": {
          "base_uri": "https://localhost:8080/",
          "height": 450
        },
        "id": "XLpDQELMmxWV",
        "outputId": "b5613d51-9f05-4d34-ce35-0e849cb1c3dc"
      },
      "source": [
        "data_test = df[df.eval_set=='test']\n",
        "data_test = data_test.set_index(['user_id', 'product_id'])\n",
        "data_test = data_test.drop(['eval_set','order_id'], axis=1)\n",
        "data_test"
      ],
      "execution_count": 33,
      "outputs": [
        {
          "output_type": "execute_result",
          "data": {
            "text/html": [
              "<div>\n",
              "<style scoped>\n",
              "    .dataframe tbody tr th:only-of-type {\n",
              "        vertical-align: middle;\n",
              "    }\n",
              "\n",
              "    .dataframe tbody tr th {\n",
              "        vertical-align: top;\n",
              "    }\n",
              "\n",
              "    .dataframe thead th {\n",
              "        text-align: right;\n",
              "    }\n",
              "</style>\n",
              "<table border=\"1\" class=\"dataframe\">\n",
              "  <thead>\n",
              "    <tr style=\"text-align: right;\">\n",
              "      <th></th>\n",
              "      <th></th>\n",
              "      <th>uxp_total_bought</th>\n",
              "      <th>uxp_reorder_ratio</th>\n",
              "      <th>user_total_orders</th>\n",
              "      <th>p_total_purchases</th>\n",
              "      <th>p_reorder_ratio</th>\n",
              "    </tr>\n",
              "    <tr>\n",
              "      <th>user_id</th>\n",
              "      <th>product_id</th>\n",
              "      <th></th>\n",
              "      <th></th>\n",
              "      <th></th>\n",
              "      <th></th>\n",
              "      <th></th>\n",
              "    </tr>\n",
              "  </thead>\n",
              "  <tbody>\n",
              "    <tr>\n",
              "      <th rowspan=\"3\" valign=\"top\">36.0</th>\n",
              "      <th>1654.0</th>\n",
              "      <td>1</td>\n",
              "      <td>1.0</td>\n",
              "      <td>10.0</td>\n",
              "      <td>1</td>\n",
              "      <td>0.000000</td>\n",
              "    </tr>\n",
              "    <tr>\n",
              "      <th>11079.0</th>\n",
              "      <td>1</td>\n",
              "      <td>1.0</td>\n",
              "      <td>10.0</td>\n",
              "      <td>1</td>\n",
              "      <td>0.000000</td>\n",
              "    </tr>\n",
              "    <tr>\n",
              "      <th>30415.0</th>\n",
              "      <td>1</td>\n",
              "      <td>1.0</td>\n",
              "      <td>10.0</td>\n",
              "      <td>2</td>\n",
              "      <td>0.000000</td>\n",
              "    </tr>\n",
              "    <tr>\n",
              "      <th rowspan=\"2\" valign=\"top\">54.0</th>\n",
              "      <th>6638.0</th>\n",
              "      <td>1</td>\n",
              "      <td>1.0</td>\n",
              "      <td>29.0</td>\n",
              "      <td>42</td>\n",
              "      <td>0.547619</td>\n",
              "    </tr>\n",
              "    <tr>\n",
              "      <th>11913.0</th>\n",
              "      <td>1</td>\n",
              "      <td>1.0</td>\n",
              "      <td>29.0</td>\n",
              "      <td>42</td>\n",
              "      <td>0.500000</td>\n",
              "    </tr>\n",
              "    <tr>\n",
              "      <th>...</th>\n",
              "      <th>...</th>\n",
              "      <td>...</td>\n",
              "      <td>...</td>\n",
              "      <td>...</td>\n",
              "      <td>...</td>\n",
              "      <td>...</td>\n",
              "    </tr>\n",
              "    <tr>\n",
              "      <th rowspan=\"5\" valign=\"top\">20564.0</th>\n",
              "      <th>18465.0</th>\n",
              "      <td>1</td>\n",
              "      <td>1.0</td>\n",
              "      <td>5.0</td>\n",
              "      <td>731</td>\n",
              "      <td>0.719562</td>\n",
              "    </tr>\n",
              "    <tr>\n",
              "      <th>29527.0</th>\n",
              "      <td>1</td>\n",
              "      <td>1.0</td>\n",
              "      <td>5.0</td>\n",
              "      <td>9</td>\n",
              "      <td>0.000000</td>\n",
              "    </tr>\n",
              "    <tr>\n",
              "      <th>35951.0</th>\n",
              "      <td>1</td>\n",
              "      <td>1.0</td>\n",
              "      <td>5.0</td>\n",
              "      <td>1019</td>\n",
              "      <td>0.775270</td>\n",
              "    </tr>\n",
              "    <tr>\n",
              "      <th>47672.0</th>\n",
              "      <td>1</td>\n",
              "      <td>1.0</td>\n",
              "      <td>5.0</td>\n",
              "      <td>390</td>\n",
              "      <td>0.589744</td>\n",
              "    </tr>\n",
              "    <tr>\n",
              "      <th>48171.0</th>\n",
              "      <td>1</td>\n",
              "      <td>1.0</td>\n",
              "      <td>5.0</td>\n",
              "      <td>112</td>\n",
              "      <td>0.491071</td>\n",
              "    </tr>\n",
              "  </tbody>\n",
              "</table>\n",
              "<p>19001 rows × 5 columns</p>\n",
              "</div>"
            ],
            "text/plain": [
              "                    uxp_total_bought  ...  p_reorder_ratio\n",
              "user_id product_id                    ...                 \n",
              "36.0    1654.0                     1  ...         0.000000\n",
              "        11079.0                    1  ...         0.000000\n",
              "        30415.0                    1  ...         0.000000\n",
              "54.0    6638.0                     1  ...         0.547619\n",
              "        11913.0                    1  ...         0.500000\n",
              "...                              ...  ...              ...\n",
              "20564.0 18465.0                    1  ...         0.719562\n",
              "        29527.0                    1  ...         0.000000\n",
              "        35951.0                    1  ...         0.775270\n",
              "        47672.0                    1  ...         0.589744\n",
              "        48171.0                    1  ...         0.491071\n",
              "\n",
              "[19001 rows x 5 columns]"
            ]
          },
          "metadata": {
            "tags": []
          },
          "execution_count": 33
        }
      ]
    },
    {
      "cell_type": "markdown",
      "metadata": {
        "id": "uGNN80zbmxWV"
      },
      "source": [
        "# <font color='blue'>XGBoost</font> "
      ]
    },
    {
      "cell_type": "code",
      "metadata": {
        "colab": {
          "base_uri": "https://localhost:8080/"
        },
        "id": "-aLgZa7omxWV",
        "outputId": "192fe8ba-12f9-4be0-f191-e53bc9f79f60"
      },
      "source": [
        "pip install xgboost"
      ],
      "execution_count": 34,
      "outputs": [
        {
          "output_type": "stream",
          "text": [
            "Requirement already satisfied: xgboost in /usr/local/lib/python3.7/dist-packages (0.90)\n",
            "Requirement already satisfied: scipy in /usr/local/lib/python3.7/dist-packages (from xgboost) (1.4.1)\n",
            "Requirement already satisfied: numpy in /usr/local/lib/python3.7/dist-packages (from xgboost) (1.19.5)\n"
          ],
          "name": "stdout"
        }
      ]
    },
    {
      "cell_type": "code",
      "metadata": {
        "colab": {
          "base_uri": "https://localhost:8080/",
          "height": 450
        },
        "id": "1-ckuDVwngyV",
        "outputId": "10622114-5e6b-4e5d-91c9-4923c9c3715e"
      },
      "source": [
        "data_train"
      ],
      "execution_count": 40,
      "outputs": [
        {
          "output_type": "execute_result",
          "data": {
            "text/html": [
              "<div>\n",
              "<style scoped>\n",
              "    .dataframe tbody tr th:only-of-type {\n",
              "        vertical-align: middle;\n",
              "    }\n",
              "\n",
              "    .dataframe tbody tr th {\n",
              "        vertical-align: top;\n",
              "    }\n",
              "\n",
              "    .dataframe thead th {\n",
              "        text-align: right;\n",
              "    }\n",
              "</style>\n",
              "<table border=\"1\" class=\"dataframe\">\n",
              "  <thead>\n",
              "    <tr style=\"text-align: right;\">\n",
              "      <th></th>\n",
              "      <th></th>\n",
              "      <th>uxp_total_bought</th>\n",
              "      <th>uxp_reorder_ratio</th>\n",
              "      <th>user_total_orders</th>\n",
              "      <th>p_total_purchases</th>\n",
              "      <th>p_reorder_ratio</th>\n",
              "    </tr>\n",
              "    <tr>\n",
              "      <th>user_id</th>\n",
              "      <th>product_id</th>\n",
              "      <th></th>\n",
              "      <th></th>\n",
              "      <th></th>\n",
              "      <th></th>\n",
              "      <th></th>\n",
              "    </tr>\n",
              "  </thead>\n",
              "  <tbody>\n",
              "    <tr>\n",
              "      <th rowspan=\"5\" valign=\"top\">7.0</th>\n",
              "      <th>4920.0</th>\n",
              "      <td>1</td>\n",
              "      <td>1.0</td>\n",
              "      <td>17.0</td>\n",
              "      <td>1494</td>\n",
              "      <td>0.670013</td>\n",
              "    </tr>\n",
              "    <tr>\n",
              "      <th>4945.0</th>\n",
              "      <td>1</td>\n",
              "      <td>1.0</td>\n",
              "      <td>17.0</td>\n",
              "      <td>99</td>\n",
              "      <td>0.727273</td>\n",
              "    </tr>\n",
              "    <tr>\n",
              "      <th>8277.0</th>\n",
              "      <td>1</td>\n",
              "      <td>1.0</td>\n",
              "      <td>17.0</td>\n",
              "      <td>1600</td>\n",
              "      <td>0.751875</td>\n",
              "    </tr>\n",
              "    <tr>\n",
              "      <th>11520.0</th>\n",
              "      <td>1</td>\n",
              "      <td>1.0</td>\n",
              "      <td>17.0</td>\n",
              "      <td>731</td>\n",
              "      <td>0.764706</td>\n",
              "    </tr>\n",
              "    <tr>\n",
              "      <th>13198.0</th>\n",
              "      <td>1</td>\n",
              "      <td>1.0</td>\n",
              "      <td>17.0</td>\n",
              "      <td>239</td>\n",
              "      <td>0.648536</td>\n",
              "    </tr>\n",
              "    <tr>\n",
              "      <th>...</th>\n",
              "      <th>...</th>\n",
              "      <td>...</td>\n",
              "      <td>...</td>\n",
              "      <td>...</td>\n",
              "      <td>...</td>\n",
              "      <td>...</td>\n",
              "    </tr>\n",
              "    <tr>\n",
              "      <th rowspan=\"5\" valign=\"top\">20576.0</th>\n",
              "      <th>24532.0</th>\n",
              "      <td>1</td>\n",
              "      <td>0.5</td>\n",
              "      <td>6.0</td>\n",
              "      <td>27</td>\n",
              "      <td>0.000000</td>\n",
              "    </tr>\n",
              "    <tr>\n",
              "      <th>26604.0</th>\n",
              "      <td>1</td>\n",
              "      <td>1.0</td>\n",
              "      <td>6.0</td>\n",
              "      <td>1139</td>\n",
              "      <td>0.635645</td>\n",
              "    </tr>\n",
              "    <tr>\n",
              "      <th>27966.0</th>\n",
              "      <td>1</td>\n",
              "      <td>1.0</td>\n",
              "      <td>6.0</td>\n",
              "      <td>2545</td>\n",
              "      <td>0.754028</td>\n",
              "    </tr>\n",
              "    <tr>\n",
              "      <th>39275.0</th>\n",
              "      <td>1</td>\n",
              "      <td>1.0</td>\n",
              "      <td>6.0</td>\n",
              "      <td>1822</td>\n",
              "      <td>0.621295</td>\n",
              "    </tr>\n",
              "    <tr>\n",
              "      <th>48812.0</th>\n",
              "      <td>1</td>\n",
              "      <td>0.5</td>\n",
              "      <td>6.0</td>\n",
              "      <td>71</td>\n",
              "      <td>0.464789</td>\n",
              "    </tr>\n",
              "  </tbody>\n",
              "</table>\n",
              "<p>36527 rows × 5 columns</p>\n",
              "</div>"
            ],
            "text/plain": [
              "                    uxp_total_bought  ...  p_reorder_ratio\n",
              "user_id product_id                    ...                 \n",
              "7.0     4920.0                     1  ...         0.670013\n",
              "        4945.0                     1  ...         0.727273\n",
              "        8277.0                     1  ...         0.751875\n",
              "        11520.0                    1  ...         0.764706\n",
              "        13198.0                    1  ...         0.648536\n",
              "...                              ...  ...              ...\n",
              "20576.0 24532.0                    1  ...         0.000000\n",
              "        26604.0                    1  ...         0.635645\n",
              "        27966.0                    1  ...         0.754028\n",
              "        39275.0                    1  ...         0.621295\n",
              "        48812.0                    1  ...         0.464789\n",
              "\n",
              "[36527 rows x 5 columns]"
            ]
          },
          "metadata": {
            "tags": []
          },
          "execution_count": 40
        }
      ]
    },
    {
      "cell_type": "code",
      "metadata": {
        "id": "Jup5StSomxWV"
      },
      "source": [
        "import xgboost as xgb"
      ],
      "execution_count": 35,
      "outputs": []
    },
    {
      "cell_type": "code",
      "metadata": {
        "colab": {
          "base_uri": "https://localhost:8080/",
          "height": 341
        },
        "id": "qJS60n9umxWW",
        "outputId": "52b13862-24d0-4f4a-cebf-fa885b740082"
      },
      "source": [
        "X_train, y_train = data_train, data_train.reordered\n",
        "parameters = {'eval_metric':'logloss', \n",
        "              'max_depth':'5', \n",
        "              'colsample_bytree':'0.4',\n",
        "              'subsample':'0.75'\n",
        "             }\n",
        "\n",
        "xgbc = xgb.XGBClassifier(objective='binary:logistic', parameters=parameters, num_boost_round=10)\n",
        "model = xgbc.fit(X_train, y_train)"
      ],
      "execution_count": 39,
      "outputs": [
        {
          "output_type": "error",
          "ename": "ValueError",
          "evalue": "ignored",
          "traceback": [
            "\u001b[0;31m---------------------------------------------------------------------------\u001b[0m",
            "\u001b[0;31mValueError\u001b[0m                                Traceback (most recent call last)",
            "\u001b[0;32m<ipython-input-39-ca60e0c48b22>\u001b[0m in \u001b[0;36m<module>\u001b[0;34m()\u001b[0m\n\u001b[1;32m      7\u001b[0m \u001b[0;34m\u001b[0m\u001b[0m\n\u001b[1;32m      8\u001b[0m \u001b[0mxgbc\u001b[0m \u001b[0;34m=\u001b[0m \u001b[0mxgb\u001b[0m\u001b[0;34m.\u001b[0m\u001b[0mXGBClassifier\u001b[0m\u001b[0;34m(\u001b[0m\u001b[0mobjective\u001b[0m\u001b[0;34m=\u001b[0m\u001b[0;34m'binary:logistic'\u001b[0m\u001b[0;34m,\u001b[0m \u001b[0mparameters\u001b[0m\u001b[0;34m=\u001b[0m\u001b[0mparameters\u001b[0m\u001b[0;34m,\u001b[0m \u001b[0mnum_boost_round\u001b[0m\u001b[0;34m=\u001b[0m\u001b[0;36m10\u001b[0m\u001b[0;34m)\u001b[0m\u001b[0;34m\u001b[0m\u001b[0;34m\u001b[0m\u001b[0m\n\u001b[0;32m----> 9\u001b[0;31m \u001b[0mmodel\u001b[0m \u001b[0;34m=\u001b[0m \u001b[0mxgbc\u001b[0m\u001b[0;34m.\u001b[0m\u001b[0mfit\u001b[0m\u001b[0;34m(\u001b[0m\u001b[0mX_train\u001b[0m\u001b[0;34m,\u001b[0m \u001b[0my_train\u001b[0m\u001b[0;34m)\u001b[0m\u001b[0;34m\u001b[0m\u001b[0;34m\u001b[0m\u001b[0m\n\u001b[0m",
            "\u001b[0;32m/usr/local/lib/python3.7/dist-packages/xgboost/sklearn.py\u001b[0m in \u001b[0;36mfit\u001b[0;34m(self, X, y, sample_weight, eval_set, eval_metric, early_stopping_rounds, verbose, xgb_model, sample_weight_eval_set, callbacks)\u001b[0m\n\u001b[1;32m    699\u001b[0m                 \u001b[0mxgb_options\u001b[0m\u001b[0;34m.\u001b[0m\u001b[0mupdate\u001b[0m\u001b[0;34m(\u001b[0m\u001b[0;34m{\u001b[0m\u001b[0;34m\"eval_metric\"\u001b[0m\u001b[0;34m:\u001b[0m \u001b[0meval_metric\u001b[0m\u001b[0;34m}\u001b[0m\u001b[0;34m)\u001b[0m\u001b[0;34m\u001b[0m\u001b[0;34m\u001b[0m\u001b[0m\n\u001b[1;32m    700\u001b[0m \u001b[0;34m\u001b[0m\u001b[0m\n\u001b[0;32m--> 701\u001b[0;31m         \u001b[0mself\u001b[0m\u001b[0;34m.\u001b[0m\u001b[0m_le\u001b[0m \u001b[0;34m=\u001b[0m \u001b[0mXGBLabelEncoder\u001b[0m\u001b[0;34m(\u001b[0m\u001b[0;34m)\u001b[0m\u001b[0;34m.\u001b[0m\u001b[0mfit\u001b[0m\u001b[0;34m(\u001b[0m\u001b[0my\u001b[0m\u001b[0;34m)\u001b[0m\u001b[0;34m\u001b[0m\u001b[0;34m\u001b[0m\u001b[0m\n\u001b[0m\u001b[1;32m    702\u001b[0m         \u001b[0mtraining_labels\u001b[0m \u001b[0;34m=\u001b[0m \u001b[0mself\u001b[0m\u001b[0;34m.\u001b[0m\u001b[0m_le\u001b[0m\u001b[0;34m.\u001b[0m\u001b[0mtransform\u001b[0m\u001b[0;34m(\u001b[0m\u001b[0my\u001b[0m\u001b[0;34m)\u001b[0m\u001b[0;34m\u001b[0m\u001b[0;34m\u001b[0m\u001b[0m\n\u001b[1;32m    703\u001b[0m \u001b[0;34m\u001b[0m\u001b[0m\n",
            "\u001b[0;32m/usr/local/lib/python3.7/dist-packages/sklearn/preprocessing/_label.py\u001b[0m in \u001b[0;36mfit\u001b[0;34m(self, y)\u001b[0m\n\u001b[1;32m    233\u001b[0m         \u001b[0mself\u001b[0m \u001b[0;34m:\u001b[0m \u001b[0mreturns\u001b[0m \u001b[0man\u001b[0m \u001b[0minstance\u001b[0m \u001b[0mof\u001b[0m \u001b[0mself\u001b[0m\u001b[0;34m.\u001b[0m\u001b[0;34m\u001b[0m\u001b[0;34m\u001b[0m\u001b[0m\n\u001b[1;32m    234\u001b[0m         \"\"\"\n\u001b[0;32m--> 235\u001b[0;31m         \u001b[0my\u001b[0m \u001b[0;34m=\u001b[0m \u001b[0mcolumn_or_1d\u001b[0m\u001b[0;34m(\u001b[0m\u001b[0my\u001b[0m\u001b[0;34m,\u001b[0m \u001b[0mwarn\u001b[0m\u001b[0;34m=\u001b[0m\u001b[0;32mTrue\u001b[0m\u001b[0;34m)\u001b[0m\u001b[0;34m\u001b[0m\u001b[0;34m\u001b[0m\u001b[0m\n\u001b[0m\u001b[1;32m    236\u001b[0m         \u001b[0mself\u001b[0m\u001b[0;34m.\u001b[0m\u001b[0mclasses_\u001b[0m \u001b[0;34m=\u001b[0m \u001b[0m_encode\u001b[0m\u001b[0;34m(\u001b[0m\u001b[0my\u001b[0m\u001b[0;34m)\u001b[0m\u001b[0;34m\u001b[0m\u001b[0;34m\u001b[0m\u001b[0m\n\u001b[1;32m    237\u001b[0m         \u001b[0;32mreturn\u001b[0m \u001b[0mself\u001b[0m\u001b[0;34m\u001b[0m\u001b[0;34m\u001b[0m\u001b[0m\n",
            "\u001b[0;32m/usr/local/lib/python3.7/dist-packages/sklearn/utils/validation.py\u001b[0m in \u001b[0;36mcolumn_or_1d\u001b[0;34m(y, warn)\u001b[0m\n\u001b[1;32m    795\u001b[0m         \u001b[0;32mreturn\u001b[0m \u001b[0mnp\u001b[0m\u001b[0;34m.\u001b[0m\u001b[0mravel\u001b[0m\u001b[0;34m(\u001b[0m\u001b[0my\u001b[0m\u001b[0;34m)\u001b[0m\u001b[0;34m\u001b[0m\u001b[0;34m\u001b[0m\u001b[0m\n\u001b[1;32m    796\u001b[0m \u001b[0;34m\u001b[0m\u001b[0m\n\u001b[0;32m--> 797\u001b[0;31m     \u001b[0;32mraise\u001b[0m \u001b[0mValueError\u001b[0m\u001b[0;34m(\u001b[0m\u001b[0;34m\"bad input shape {0}\"\u001b[0m\u001b[0;34m.\u001b[0m\u001b[0mformat\u001b[0m\u001b[0;34m(\u001b[0m\u001b[0mshape\u001b[0m\u001b[0;34m)\u001b[0m\u001b[0;34m)\u001b[0m\u001b[0;34m\u001b[0m\u001b[0;34m\u001b[0m\u001b[0m\n\u001b[0m\u001b[1;32m    798\u001b[0m \u001b[0;34m\u001b[0m\u001b[0m\n\u001b[1;32m    799\u001b[0m \u001b[0;34m\u001b[0m\u001b[0m\n",
            "\u001b[0;31mValueError\u001b[0m: bad input shape (36527, 5)"
          ]
        }
      ]
    },
    {
      "cell_type": "code",
      "metadata": {
        "id": "G58vvnlkmxWW"
      },
      "source": [
        "xgb.plot_importance(model)"
      ],
      "execution_count": null,
      "outputs": []
    },
    {
      "cell_type": "code",
      "metadata": {
        "id": "iVYCmPzSmxWW"
      },
      "source": [
        "model.get_xgb_params()"
      ],
      "execution_count": null,
      "outputs": []
    },
    {
      "cell_type": "code",
      "metadata": {
        "id": "bLtqRqPkmxWW"
      },
      "source": [
        "# Fine-tune your model"
      ],
      "execution_count": null,
      "outputs": []
    },
    {
      "cell_type": "code",
      "metadata": {
        "id": "s0_R3W9ymxWW"
      },
      "source": [
        "import xgboost as xgb\n",
        "from sklearn.model_selection import GridSearchCV\n",
        "  \n",
        "paramGrid = {\"max_depth\":[5,10]\n",
        "            \"colsample_bytree\":[0.3, 0.4]}  \n",
        "xgbc = xgb.XGBClassifier(objective='binary:logistic', eval_metric='logloss', num_boost_round=10)\n",
        "gridsearch = GridSearchCV(xgbc, paramGrid, cv=3, verbose=2, n_jobs=-1)\n",
        "\n",
        "\n",
        "model = gridsearch.fit(X_train, y_train)\n",
        "print(\"The best parameters are: /n\",  gridsearch.best_params_)\n",
        "\n",
        "model = gridsearch.best_estimator_\n",
        "del [X_train, y_train]"
      ],
      "execution_count": null,
      "outputs": []
    },
    {
      "cell_type": "code",
      "metadata": {
        "id": "Q7y_PQ7-mxWW"
      },
      "source": [
        "model.get_params()"
      ],
      "execution_count": null,
      "outputs": []
    },
    {
      "cell_type": "code",
      "metadata": {
        "id": "pcbA36WTmxWX"
      },
      "source": [
        "test_pred = model.predict(data_test).astype(int)\n",
        "\n",
        "## OR Set custom threshold \n",
        "test_pred = (model.predict_proba(data_test)[:,1] >= 0.21).astype(int)\n",
        "\n",
        "test_pred[0:10] #display the first 10 predictions of the numpy array"
      ],
      "execution_count": null,
      "outputs": []
    },
    {
      "cell_type": "code",
      "metadata": {
        "id": "JMGrrN7GmxWX"
      },
      "source": [
        "data_test['prediction'] = test_pred\n",
        "data_test.head(10)"
      ],
      "execution_count": null,
      "outputs": []
    },
    {
      "cell_type": "code",
      "metadata": {
        "id": "BhHnMr3tmxWX"
      },
      "source": [
        "final = data_test.reset_index()\n",
        "# Keep only the required columns to create our submission file (for chapter 6)\n",
        "final = final[['product_id', 'user_id', 'prediction']]\n",
        "\n",
        "gc.collect()\n",
        "final.head()"
      ],
      "execution_count": null,
      "outputs": []
    },
    {
      "cell_type": "markdown",
      "metadata": {
        "id": "DbqOZhg-mxWX"
      },
      "source": [
        "# <font color='blue'>Customer segmentation with PCA</font> "
      ]
    },
    {
      "cell_type": "markdown",
      "metadata": {
        "id": "1cfUVq5SmxWX"
      },
      "source": [
        "#### Rely on aisles, which represent categories of products. \n",
        "#### Even with aisles features will be too much so will use PCA to find new dimensions along which clustering will be easier"
      ]
    },
    {
      "cell_type": "code",
      "metadata": {
        "id": "PFozCChsmxWX"
      },
      "source": [
        "aisles_df = pd.read_csv(\"aisles.csv\")\n",
        "departments_df = pd.read_csv(\"departments.csv\")\n",
        "order_products_prior_df = pd.read_csv(\"order_products__prior.csv\")\n",
        "order_products_train_df = pd.read_csv(\"order_products__train.csv\")\n",
        "orders_df = pd.read_csv(\"orders.csv\")\n",
        "products_df = pd.read_csv(\"products.csv\")"
      ],
      "execution_count": null,
      "outputs": []
    },
    {
      "cell_type": "code",
      "metadata": {
        "id": "EgaTal3HmxWX"
      },
      "source": [
        "prior = order_products_prior_df\n",
        "prior.head()"
      ],
      "execution_count": null,
      "outputs": []
    },
    {
      "cell_type": "code",
      "metadata": {
        "id": "YAocSaZPmxWX"
      },
      "source": [
        "train = order_products_train_df\n",
        "train.head()"
      ],
      "execution_count": null,
      "outputs": []
    },
    {
      "cell_type": "code",
      "metadata": {
        "id": "nkCdTLSImxWX"
      },
      "source": [
        "prior = prior[0:300000]"
      ],
      "execution_count": null,
      "outputs": []
    },
    {
      "cell_type": "code",
      "metadata": {
        "id": "mCDY3-BsmxWY"
      },
      "source": [
        "#Merge order data and prior data\n",
        "order_prior = pd.merge(prior,orders_df,on=['order_id','order_id'])\n",
        "order_prior = order_prior.sort_values(by=['user_id','order_id'])\n",
        "order_prior.head()"
      ],
      "execution_count": null,
      "outputs": []
    },
    {
      "cell_type": "code",
      "metadata": {
        "id": "fBHutnoSmxWY"
      },
      "source": [
        "products = products_df\n",
        "products.head()"
      ],
      "execution_count": null,
      "outputs": []
    },
    {
      "cell_type": "code",
      "metadata": {
        "id": "7kkc-voZmxWY"
      },
      "source": [
        "aisles = aisles_df\n",
        "aisles.head()"
      ],
      "execution_count": null,
      "outputs": []
    },
    {
      "cell_type": "code",
      "metadata": {
        "id": "XdwHfELYmxWY"
      },
      "source": [
        "print(aisles.shape)"
      ],
      "execution_count": null,
      "outputs": []
    },
    {
      "cell_type": "code",
      "metadata": {
        "id": "7DbvQvvtmxWY"
      },
      "source": [
        "#Merge prior, order, products and aisles data\n",
        "_mt = pd.merge(prior,products, on = ['product_id','product_id'])\n",
        "_mt = pd.merge(_mt,orders_df,on=['order_id','order_id'])\n",
        "mt = pd.merge(_mt,aisles,on=['aisle_id','aisle_id'])\n",
        "mt.head(10)"
      ],
      "execution_count": null,
      "outputs": []
    },
    {
      "cell_type": "code",
      "metadata": {
        "scrolled": true,
        "id": "SgJ2QDHGmxWY"
      },
      "source": [
        "#Top 20 sells of the product\n",
        "mt['product_name'].value_counts()[0:20]"
      ],
      "execution_count": null,
      "outputs": []
    },
    {
      "cell_type": "code",
      "metadata": {
        "id": "akYtrLbMmxWY"
      },
      "source": [
        "#Total 24836 different kinds of productname\n",
        "len(mt['product_name'].unique())"
      ],
      "execution_count": null,
      "outputs": []
    },
    {
      "cell_type": "code",
      "metadata": {
        "id": "bn5crwtkmxWY"
      },
      "source": [
        "prior.shape"
      ],
      "execution_count": null,
      "outputs": []
    },
    {
      "cell_type": "markdown",
      "metadata": {
        "id": "OOT-nw3tmxWY"
      },
      "source": [
        "## Clustering Customers\n",
        "find a possible clusters among the different customers and substitute single user_id with the cluster to which they are assumed to belong."
      ]
    },
    {
      "cell_type": "code",
      "metadata": {
        "id": "6ckJbbEAmxWZ"
      },
      "source": [
        "#Total 134 kinds of aisle\n",
        "len(mt['aisle'].unique())"
      ],
      "execution_count": null,
      "outputs": []
    },
    {
      "cell_type": "code",
      "metadata": {
        "id": "adrhGwB0mxWZ"
      },
      "source": [
        "#Top 20 sells aisle\n",
        "mt['aisle'].value_counts()[0:20]"
      ],
      "execution_count": null,
      "outputs": []
    },
    {
      "cell_type": "code",
      "metadata": {
        "id": "jHcr55y0mxWZ"
      },
      "source": [
        "#A table include all the user and their purchased aisles in prior\n",
        "cust_prod = pd.crosstab(mt['user_id'], mt['aisle'])\n",
        "cust_prod"
      ],
      "execution_count": null,
      "outputs": []
    },
    {
      "cell_type": "code",
      "metadata": {
        "id": "9Xh_onEZmxWZ"
      },
      "source": [
        "cust_prod.shape"
      ],
      "execution_count": null,
      "outputs": []
    },
    {
      "cell_type": "markdown",
      "metadata": {
        "id": "yCwodW_XmxWZ"
      },
      "source": [
        "## Principal Component Analysis\n",
        "To reduce the number of features from the number of aisles to 6, the numbr of principal components I have chosen."
      ]
    },
    {
      "cell_type": "code",
      "metadata": {
        "id": "b-wUIMzomxWZ"
      },
      "source": [
        "from sklearn.decomposition import PCA\n",
        "pca = PCA(n_components=6)\n",
        "pca.fit(cust_prod)\n",
        "pca_samples = pca.transform(cust_prod)"
      ],
      "execution_count": null,
      "outputs": []
    },
    {
      "cell_type": "code",
      "metadata": {
        "id": "y9lEayZLmxWZ"
      },
      "source": [
        "ps = pd.DataFrame(pca_samples)"
      ],
      "execution_count": null,
      "outputs": []
    },
    {
      "cell_type": "code",
      "metadata": {
        "id": "s4tXPKxHmxWZ"
      },
      "source": [
        "#6 PCA demension for all rows\n",
        "ps"
      ],
      "execution_count": null,
      "outputs": []
    },
    {
      "cell_type": "code",
      "metadata": {
        "id": "wPn_0bhimxWZ"
      },
      "source": [
        "#PCS cpmponents from 0 to 5\n",
        "pca.components_"
      ],
      "execution_count": null,
      "outputs": []
    },
    {
      "cell_type": "code",
      "metadata": {
        "id": "5UbmF5b9mxWZ"
      },
      "source": [
        "len(pca.components_[0])"
      ],
      "execution_count": null,
      "outputs": []
    },
    {
      "cell_type": "code",
      "metadata": {
        "id": "GqMrZ7OrmxWa"
      },
      "source": [
        "len(pca.components_[4])"
      ],
      "execution_count": null,
      "outputs": []
    },
    {
      "cell_type": "code",
      "metadata": {
        "id": "YnQnNGc7mxWa"
      },
      "source": [
        "d = {\n",
        "'cat':list(cust_prod.columns),\n",
        "'pc0': pca.components_[0],\n",
        "'pc1': pca.components_[1],\n",
        "'pc2': pca.components_[2],\n",
        "'pc3': pca.components_[3],\n",
        "'pc4': pca.components_[4],\n",
        "'pc5': pca.components_[5],\n",
        "    \n",
        "}\n",
        "pcdf = pd.DataFrame(d)"
      ],
      "execution_count": null,
      "outputs": []
    },
    {
      "cell_type": "code",
      "metadata": {
        "id": "rhPD5zy6mxWa"
      },
      "source": [
        "#PCA1 by each aisle\n",
        "pcdf"
      ],
      "execution_count": null,
      "outputs": []
    },
    {
      "cell_type": "code",
      "metadata": {
        "id": "A7cQTHg2mxWa"
      },
      "source": [
        "pcdf.sort_values(by='pc0')"
      ],
      "execution_count": null,
      "outputs": []
    },
    {
      "cell_type": "code",
      "metadata": {
        "id": "6TibzrupmxWa"
      },
      "source": [
        "display(pcdf.sort_values(by='pc1')[['cat', 'pc1']])"
      ],
      "execution_count": null,
      "outputs": []
    },
    {
      "cell_type": "code",
      "metadata": {
        "id": "cY0Aau5SmxWa"
      },
      "source": [
        "display(pcdf.sort_values(by='pc2')[['cat', 'pc2']])"
      ],
      "execution_count": null,
      "outputs": []
    },
    {
      "cell_type": "code",
      "metadata": {
        "id": "gOzPIz6HmxWa"
      },
      "source": [
        "cust_prod.shape"
      ],
      "execution_count": null,
      "outputs": []
    },
    {
      "cell_type": "code",
      "metadata": {
        "id": "ly1kXPRUmxWa"
      },
      "source": [
        "cust_prod"
      ],
      "execution_count": null,
      "outputs": []
    },
    {
      "cell_type": "code",
      "metadata": {
        "id": "o-HbyvSnmxWa"
      },
      "source": [
        "ps"
      ],
      "execution_count": null,
      "outputs": []
    },
    {
      "cell_type": "code",
      "metadata": {
        "id": "nvE55YeKmxWb"
      },
      "source": [
        "#ps and cust_prod all total 25831 rows\n",
        "ps.shape"
      ],
      "execution_count": null,
      "outputs": []
    },
    {
      "cell_type": "code",
      "metadata": {
        "id": "CDMa9yrumxWb"
      },
      "source": [
        "tocluster = pd.DataFrame(ps)\n",
        "tocluster"
      ],
      "execution_count": null,
      "outputs": []
    },
    {
      "cell_type": "code",
      "metadata": {
        "id": "hpTAS7XFmxWb"
      },
      "source": [
        "#use PC4 and PC5\n",
        "from matplotlib import pyplot as plt\n",
        "from mpl_toolkits.mplot3d import Axes3D\n",
        "from mpl_toolkits.mplot3d import proj3d\n",
        "tocluster = pd.DataFrame(ps[[4,5]])\n",
        "print ('tocluster shape is',tocluster.shape)\n",
        "print (tocluster.head())\n",
        "\n",
        "fig = plt.figure(figsize=(12,6))\n",
        "plt.plot(tocluster[4], tocluster[5], '*', markersize=2, color='yellow', alpha=0.5, label='PC4 and PC5')\n",
        "\n",
        "plt.xlabel('x_values_4')\n",
        "plt.ylabel('y_values_5')\n",
        "plt.legend()\n",
        "plt.show()"
      ],
      "execution_count": null,
      "outputs": []
    },
    {
      "cell_type": "code",
      "metadata": {
        "id": "OWa5t8rrmxWb"
      },
      "source": [
        "#use PC2 and PC3\n",
        "from matplotlib import pyplot as plt\n",
        "from mpl_toolkits.mplot3d import Axes3D\n",
        "from mpl_toolkits.mplot3d import proj3d\n",
        "tocluster = pd.DataFrame(ps[[2,3]])\n",
        "print ('tocluster shape is',tocluster.shape)\n",
        "print (tocluster.head())\n",
        "\n",
        "fig = plt.figure(figsize=(12,6))\n",
        "plt.plot(tocluster[2], tocluster[3], '*', markersize=2, color='purple', alpha=0.5, label='PC2 and PC3')\n",
        "\n",
        "plt.xlabel('x_values_2')\n",
        "plt.ylabel('y_values_3')\n",
        "plt.legend()\n",
        "plt.show()"
      ],
      "execution_count": null,
      "outputs": []
    },
    {
      "cell_type": "code",
      "metadata": {
        "id": "MqHYZOYkmxWb"
      },
      "source": [
        "#use PC4 and PC1\n",
        "from matplotlib import pyplot as plt\n",
        "from mpl_toolkits.mplot3d import Axes3D\n",
        "from mpl_toolkits.mplot3d import proj3d\n",
        "tocluster = pd.DataFrame(ps[[4,1]])\n",
        "print ('tocluster shape is',tocluster.shape)\n",
        "print (tocluster.head())\n",
        "\n",
        "fig = plt.figure(figsize=(12,6))\n",
        "plt.plot(tocluster[4], tocluster[1], '*', markersize=2, color='green', alpha=0.5, label='PC4 and PC1')\n",
        "\n",
        "plt.xlabel('x_values_4')\n",
        "plt.ylabel('y_values_1')\n",
        "plt.legend()\n",
        "plt.show()"
      ],
      "execution_count": null,
      "outputs": []
    },
    {
      "cell_type": "code",
      "metadata": {
        "id": "2zgbMnbqmxWb"
      },
      "source": [
        "#combine all together\n",
        "from matplotlib import pyplot as plt\n",
        "from mpl_toolkits.mplot3d import Axes3D\n",
        "from mpl_toolkits.mplot3d import proj3d\n",
        "tocluster = pd.DataFrame(ps)\n",
        "print ('tocluster shape is',tocluster.shape)\n",
        "print(tocluster)\n",
        "\n",
        "fig = plt.figure(figsize=(12,6))\n",
        "plt.plot(tocluster[4], tocluster[5], '*', markersize=2, color='yellow', alpha=0.5, label='PC4 and PC5')\n",
        "plt.plot(tocluster[2], tocluster[3], '*', markersize=2, color='pink', alpha=0.5, label='PC2 and PC3')\n",
        "plt.plot(tocluster[4], tocluster[1], '*', markersize=2, color='green', alpha=0.5, label='PC4 and PC1')\n",
        "\n",
        "plt.xlabel('x_values')\n",
        "plt.ylabel('y_values')\n",
        "plt.legend()\n",
        "plt.show()"
      ],
      "execution_count": null,
      "outputs": []
    },
    {
      "cell_type": "code",
      "metadata": {
        "id": "3PQKPLqEmxWb"
      },
      "source": [
        "tocluster"
      ],
      "execution_count": null,
      "outputs": []
    },
    {
      "cell_type": "code",
      "metadata": {
        "id": "M1ZPBZ72mxWb"
      },
      "source": [
        "from sklearn.cluster import KMeans\n",
        "from sklearn.metrics import silhouette_score\n",
        "\n",
        "clusterer = KMeans(n_clusters=4,random_state=42).fit(tocluster)\n",
        "centers = clusterer.cluster_centers_\n",
        "c_preds = clusterer.predict(tocluster)\n",
        "print(centers)"
      ],
      "execution_count": null,
      "outputs": []
    },
    {
      "cell_type": "code",
      "metadata": {
        "id": "vx9ASGBzmxWb"
      },
      "source": [
        "c_preds.shape"
      ],
      "execution_count": null,
      "outputs": []
    },
    {
      "cell_type": "code",
      "metadata": {
        "id": "a0unJZgimxWc"
      },
      "source": [
        "print (c_preds[0:200])"
      ],
      "execution_count": null,
      "outputs": []
    },
    {
      "cell_type": "markdown",
      "metadata": {
        "id": "_OPEX2bPmxWc"
      },
      "source": [
        "## clusters appear to all PCs"
      ]
    },
    {
      "cell_type": "code",
      "metadata": {
        "id": "9k5hRw_DmxWc"
      },
      "source": [
        "import matplotlib\n",
        "fig = plt.figure(figsize=(8,8))\n",
        "colors = ['orange','blue','purple','green']\n",
        "colored = [colors[k] for k in c_preds]\n",
        "print (colored[0:10])\n",
        "plt.scatter(tocluster[4],tocluster[1],  color = colored)\n",
        "for ci,c in enumerate(centers):\n",
        "    plt.plot(c[0], c[1], 'o', markersize=8, color='red', alpha=0.9, label=''+str(ci))\n",
        "\n",
        "plt.xlabel('x_values')\n",
        "plt.ylabel('y_values')\n",
        "plt.legend()\n",
        "plt.show()"
      ],
      "execution_count": null,
      "outputs": []
    },
    {
      "cell_type": "markdown",
      "metadata": {
        "id": "iLwf4rC7mxWc"
      },
      "source": [
        "## use 2,3 paris try clustering, better result"
      ]
    },
    {
      "cell_type": "code",
      "metadata": {
        "id": "rCkcq_ekmxWc"
      },
      "source": [
        "tocluster = pd.DataFrame(ps[[2,3]])\n",
        "\n",
        "from sklearn.cluster import KMeans\n",
        "from sklearn.metrics import silhouette_score\n",
        "\n",
        "clusterer = KMeans(n_clusters=4,random_state=42).fit(tocluster)\n",
        "centers = clusterer.cluster_centers_\n",
        "c_preds = clusterer.predict(tocluster)\n",
        "print(centers)"
      ],
      "execution_count": null,
      "outputs": []
    },
    {
      "cell_type": "code",
      "metadata": {
        "id": "DhePrLkKmxWc"
      },
      "source": [
        "import matplotlib\n",
        "fig = plt.figure(figsize=(8,8))\n",
        "colors = ['orange','blue','purple','green']\n",
        "colored = [colors[k] for k in c_preds]\n",
        "print (colored[0:10])\n",
        "plt.scatter(tocluster[2],tocluster[3],  color = colored)\n",
        "for ci,c in enumerate(centers):\n",
        "    plt.plot(c[0], c[1], 'o', markersize=8, color='red', alpha=0.9, label=''+str(ci))\n",
        "\n",
        "plt.xlabel('x_values')\n",
        "plt.ylabel('y_values')\n",
        "plt.legend()\n",
        "plt.show()"
      ],
      "execution_count": null,
      "outputs": []
    },
    {
      "cell_type": "markdown",
      "metadata": {
        "id": "SJgxl45tmxWc"
      },
      "source": [
        "## use 4,5 paris try clustering, better result"
      ]
    },
    {
      "cell_type": "code",
      "metadata": {
        "id": "Wdt-HGmwmxWc"
      },
      "source": [
        "tocluster = pd.DataFrame(ps[[4,5]])\n",
        "\n",
        "from sklearn.cluster import KMeans\n",
        "from sklearn.metrics import silhouette_score\n",
        "\n",
        "clusterer = KMeans(n_clusters=4,random_state=42).fit(tocluster)\n",
        "centers = clusterer.cluster_centers_\n",
        "c_preds = clusterer.predict(tocluster)\n",
        "print(centers)"
      ],
      "execution_count": null,
      "outputs": []
    },
    {
      "cell_type": "code",
      "metadata": {
        "id": "5m8gsGkkmxWc"
      },
      "source": [
        "import matplotlib\n",
        "fig = plt.figure(figsize=(8,8))\n",
        "colors = ['orange','blue','purple','green']\n",
        "colored = [colors[k] for k in c_preds]\n",
        "print (colored[0:10])\n",
        "plt.scatter(tocluster[4],tocluster[5],  color = colored)\n",
        "for ci,c in enumerate(centers):\n",
        "    plt.plot(c[0], c[1], 'o', markersize=8, color='red', alpha=0.9, label=''+str(ci))\n",
        "\n",
        "plt.xlabel('x_values')\n",
        "plt.ylabel('y_values')\n",
        "plt.legend()\n",
        "plt.show()"
      ],
      "execution_count": null,
      "outputs": []
    },
    {
      "cell_type": "code",
      "metadata": {
        "id": "RHf8ZhCRmxWd"
      },
      "source": [
        ""
      ],
      "execution_count": null,
      "outputs": []
    },
    {
      "cell_type": "markdown",
      "metadata": {
        "id": "X-2C2FTNmxWd"
      },
      "source": [
        "## use 4,1 paris try clustering, better result"
      ]
    },
    {
      "cell_type": "code",
      "metadata": {
        "id": "Mi0rlGfkmxWd"
      },
      "source": [
        "tocluster = pd.DataFrame(ps[[4,1]])\n",
        "\n",
        "from sklearn.cluster import KMeans\n",
        "from sklearn.metrics import silhouette_score\n",
        "\n",
        "clusterer = KMeans(n_clusters=4,random_state=42).fit(tocluster)\n",
        "centers = clusterer.cluster_centers_\n",
        "c_preds = clusterer.predict(tocluster)\n",
        "print(centers)"
      ],
      "execution_count": null,
      "outputs": []
    },
    {
      "cell_type": "code",
      "metadata": {
        "id": "vPZMGHOlmxWd"
      },
      "source": [
        "import matplotlib\n",
        "fig = plt.figure(figsize=(8,8))\n",
        "colors = ['orange','blue','purple','green']\n",
        "colored = [colors[k] for k in c_preds]\n",
        "print (colored[0:10])\n",
        "plt.scatter(tocluster[4],tocluster[1],  color = colored)\n",
        "for ci,c in enumerate(centers):\n",
        "    plt.plot(c[0], c[1], 'o', markersize=8, color='red', alpha=0.9, label=''+str(ci))\n",
        "\n",
        "plt.xlabel('x_values')\n",
        "plt.ylabel('y_values')\n",
        "plt.legend()\n",
        "plt.show()"
      ],
      "execution_count": null,
      "outputs": []
    },
    {
      "cell_type": "markdown",
      "metadata": {
        "id": "QaFX_bnBmxWd"
      },
      "source": [
        "## PC 45, could explain more dots\n",
        "Let's check if we also manage to find some interesting pattern beneath it."
      ]
    },
    {
      "cell_type": "code",
      "metadata": {
        "scrolled": true,
        "id": "_9kiOWQemxWd"
      },
      "source": [
        "cust_prod"
      ],
      "execution_count": null,
      "outputs": []
    },
    {
      "cell_type": "code",
      "metadata": {
        "id": "mBXillSomxWd"
      },
      "source": [
        "c_preds\n",
        "c_preds.shape"
      ],
      "execution_count": null,
      "outputs": []
    },
    {
      "cell_type": "code",
      "metadata": {
        "scrolled": true,
        "id": "DYVv3vZdmxWd"
      },
      "source": [
        "clust_prod = cust_prod.copy()\n",
        "clust_prod['cluster'] = c_preds\n",
        "\n",
        "clust_prod.head(10)"
      ],
      "execution_count": null,
      "outputs": []
    },
    {
      "cell_type": "markdown",
      "metadata": {
        "id": "H591vUWVmxWe"
      },
      "source": [
        "# Description of C0, C1, C2 and C3"
      ]
    },
    {
      "cell_type": "code",
      "metadata": {
        "id": "Di6JB20nmxWe"
      },
      "source": [
        "print (clust_prod.shape)\n",
        "\n",
        "f,arr = plt.subplots(2,2,sharex=True,figsize=(15,15))\n",
        "\n",
        "c1_count = len(clust_prod[clust_prod['cluster']==0])\n",
        "\n",
        "c0 = clust_prod[clust_prod['cluster']==0].drop('cluster',axis=1).mean()\n",
        "arr[0,0].bar(range(len(clust_prod.drop('cluster',axis=1).columns)),c0)\n",
        "\n",
        "c1 = clust_prod[clust_prod['cluster']==1].drop('cluster',axis=1).mean()\n",
        "arr[0,1].bar(range(len(clust_prod.drop('cluster',axis=1).columns)),c1)\n",
        "\n",
        "c2 = clust_prod[clust_prod['cluster']==2].drop('cluster',axis=1).mean()\n",
        "arr[1,0].bar(range(len(clust_prod.drop('cluster',axis=1).columns)),c2)\n",
        "\n",
        "c3 = clust_prod[clust_prod['cluster']==3].drop('cluster',axis=1).mean()\n",
        "arr[1,1].bar(range(len(clust_prod.drop('cluster',axis=1).columns)),c3)\n",
        "\n",
        "plt.show()"
      ],
      "execution_count": null,
      "outputs": []
    },
    {
      "cell_type": "code",
      "metadata": {
        "id": "1RGw3PuEmxWe"
      },
      "source": [
        "#Cluster 0 top 20 aisle\n",
        "c0.sort_values(ascending=False)[0:20]"
      ],
      "execution_count": null,
      "outputs": []
    },
    {
      "cell_type": "code",
      "metadata": {
        "id": "0SHU0dPwmxWe"
      },
      "source": [
        "#Cluster 1 top 20 aisle\n",
        "c1.sort_values(ascending=False)[0:20]"
      ],
      "execution_count": null,
      "outputs": []
    },
    {
      "cell_type": "code",
      "metadata": {
        "id": "5eaCpo5pmxWe"
      },
      "source": [
        "#Cluster 2 top 20 aisle\n",
        "c2.sort_values(ascending=False)[0:20]"
      ],
      "execution_count": null,
      "outputs": []
    },
    {
      "cell_type": "code",
      "metadata": {
        "id": "0nHLddZ9mxWe"
      },
      "source": [
        "#Cluster 3 top 20 aisle\n",
        "c3.sort_values(ascending=False)[0:20]"
      ],
      "execution_count": null,
      "outputs": []
    },
    {
      "cell_type": "markdown",
      "metadata": {
        "id": "6mrf38LQmxWe"
      },
      "source": [
        "fresh fruits\n",
        "fresh vegetables\n",
        "packaged vegetables fruits\n",
        "yogurt\n",
        "packaged cheese\n",
        "milk\n",
        "water seltzer sparkling water\n",
        "chips pretzels\n",
        "are products which are genereically bought by the majority of the customers.\n",
        "\n",
        "What we can inspect here is if clusters differ in quantities and proportions, with respect of these goods \n",
        "Or a cluster is characterized by some goods not included in this list. For instance we can already see cluster 3 is characterized by 'Baby Food Formula' product which is a significant difference with other clusters."
      ]
    },
    {
      "cell_type": "code",
      "metadata": {
        "scrolled": true,
        "id": "b9pz0AnNmxWf"
      },
      "source": [
        "from IPython.display import display, HTML\n",
        "\n",
        "cluster_means = [[c0['fresh fruits'],c0['fresh vegetables'],c0['packaged vegetables fruits'], c0['yogurt'], c0['packaged cheese'], c0['milk'],c0['water seltzer sparkling water'],c0['chips pretzels']],\n",
        "                 [c1['fresh fruits'],c1['fresh vegetables'],c1['packaged vegetables fruits'], c1['yogurt'], c1['packaged cheese'], c1['milk'],c1['water seltzer sparkling water'],c1['chips pretzels']],\n",
        "                 [c2['fresh fruits'],c2['fresh vegetables'],c2['packaged vegetables fruits'], c2['yogurt'], c2['packaged cheese'], c2['milk'],c2['water seltzer sparkling water'],c2['chips pretzels']],\n",
        "                 [c3['fresh fruits'],c3['fresh vegetables'],c3['packaged vegetables fruits'], c3['yogurt'], c3['packaged cheese'], c3['milk'],c3['water seltzer sparkling water'],c3['chips pretzels']]]\n",
        "\n",
        "cluster_means = pd.DataFrame(cluster_means, columns = ['fresh fruits','fresh vegetables','packaged vegetables fruits','yogurt','packaged cheese','milk','water seltzer sparkling water','chips pretzels'])\n",
        "\n",
        "cluster_perc = cluster_means.iloc[:, :].apply(lambda x: (x / x.sum())*100,axis=1)"
      ],
      "execution_count": null,
      "outputs": []
    },
    {
      "cell_type": "code",
      "metadata": {
        "id": "gow1M2g-mxWf"
      },
      "source": [
        "cluster_perc"
      ],
      "execution_count": null,
      "outputs": []
    },
    {
      "cell_type": "markdown",
      "metadata": {
        "id": "0hocP711mxWf"
      },
      "source": [
        "## The table above decribe the percentage these goods with respect to the other top 8 in each cluster. "
      ]
    },
    {
      "cell_type": "markdown",
      "metadata": {
        "id": "hF5kRYTCmxWf"
      },
      "source": [
        "Cluster 1: Buy more fresh vegetables than the other clusters. As shown by absolute data, Cluster 1 is also the cluster including those customers buying far more goods than any others.\n",
        "\n",
        "Cluster 2: buy more yogurt than people of the other clusters.\n",
        "\n",
        "Cluster 3: buy a Lot of 'Baby Food Formula' which not even listed in the top 8 products but mainly characterize this cluster. They buy more milk than the others."
      ]
    },
    {
      "cell_type": "markdown",
      "metadata": {
        "id": "PoO5vEHimxWf"
      },
      "source": [
        "## More info: the 10th to 15th most bought products for each cluster which will not include the generic products (i.e. vegetables, fruits, water, etc.) bought by anyone."
      ]
    },
    {
      "cell_type": "code",
      "metadata": {
        "id": "csLPN82ZmxWf"
      },
      "source": [
        "c0.sort_values(ascending=False)[10:15]"
      ],
      "execution_count": null,
      "outputs": []
    },
    {
      "cell_type": "code",
      "metadata": {
        "id": "fqCR9ddumxWf"
      },
      "source": [
        "c1.sort_values(ascending=False)[10:15]"
      ],
      "execution_count": null,
      "outputs": []
    },
    {
      "cell_type": "code",
      "metadata": {
        "id": "fM9r5ZFgmxWf"
      },
      "source": [
        "c2.sort_values(ascending=False)[10:15]"
      ],
      "execution_count": null,
      "outputs": []
    },
    {
      "cell_type": "code",
      "metadata": {
        "id": "q4RQ-rGcmxWf"
      },
      "source": [
        "c3.sort_values(ascending=False)[10:15]"
      ],
      "execution_count": null,
      "outputs": []
    },
    {
      "cell_type": "markdown",
      "metadata": {
        "id": "aLxXt9HOmxWg"
      },
      "source": [
        "# <font color='blue'>Xgboost </font> "
      ]
    },
    {
      "cell_type": "code",
      "metadata": {
        "id": "ky3yExPQmxWg"
      },
      "source": [
        "#one hot not good for xgboost"
      ],
      "execution_count": null,
      "outputs": []
    },
    {
      "cell_type": "code",
      "metadata": {
        "id": "4dB9ACkDmxWg"
      },
      "source": [
        ""
      ],
      "execution_count": null,
      "outputs": []
    },
    {
      "cell_type": "code",
      "metadata": {
        "id": "Y7vdf1EqmxWg"
      },
      "source": [
        ""
      ],
      "execution_count": null,
      "outputs": []
    },
    {
      "cell_type": "code",
      "metadata": {
        "id": "9MaHDKzEmxWg"
      },
      "source": [
        ""
      ],
      "execution_count": null,
      "outputs": []
    },
    {
      "cell_type": "code",
      "metadata": {
        "id": "H3bRQu9CmxWg"
      },
      "source": [
        ""
      ],
      "execution_count": null,
      "outputs": []
    },
    {
      "cell_type": "code",
      "metadata": {
        "id": "aRf29TEBmxWg"
      },
      "source": [
        ""
      ],
      "execution_count": null,
      "outputs": []
    },
    {
      "cell_type": "code",
      "metadata": {
        "id": "LLbq1JuPmxWg"
      },
      "source": [
        ""
      ],
      "execution_count": null,
      "outputs": []
    },
    {
      "cell_type": "code",
      "metadata": {
        "id": "4Kr2pzCBmxWg"
      },
      "source": [
        ""
      ],
      "execution_count": null,
      "outputs": []
    },
    {
      "cell_type": "code",
      "metadata": {
        "id": "XOwLTyoAmxWg"
      },
      "source": [
        ""
      ],
      "execution_count": null,
      "outputs": []
    },
    {
      "cell_type": "code",
      "metadata": {
        "id": "3AeO39oLmxWg"
      },
      "source": [
        ""
      ],
      "execution_count": null,
      "outputs": []
    }
  ]
}