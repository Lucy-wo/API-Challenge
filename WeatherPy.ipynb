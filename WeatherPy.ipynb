{
 "cells": [
  {
   "cell_type": "markdown",
   "metadata": {},
   "source": [
    "# WeatherPy\n",
    "----\n",
    "\n",
    "#### Note\n",
    "* Instructions have been included for each segment. You do not have to follow them exactly, but they are included to help you think through the steps."
   ]
  },
  {
   "cell_type": "code",
   "execution_count": 121,
   "metadata": {
    "scrolled": true
   },
   "outputs": [],
   "source": [
    "# Dependencies and Setup\n",
    "import matplotlib.pyplot as plt\n",
    "import pandas as pd\n",
    "import numpy as np\n",
    "import requests\n",
    "import time\n",
    "from scipy.stats import linregress\n",
    "\n",
    "# Import API key\n",
    "from api_keys import weather_api_key\n",
    "\n",
    "# Incorporated citipy to determine city based on latitude and longitude\n",
    "from citipy import citipy\n",
    "\n",
    "# Output File (CSV)\n",
    "output_data_file = \"output_data/cities.csv\"\n",
    "\n",
    "# Range of latitudes and longitudes\n",
    "lat_range = (-90, 90)\n",
    "lng_range = (-180, 180)"
   ]
  },
  {
   "cell_type": "markdown",
   "metadata": {},
   "source": [
    "## Generate Cities List"
   ]
  },
  {
   "cell_type": "code",
   "execution_count": 122,
   "metadata": {},
   "outputs": [
    {
     "data": {
      "text/plain": [
       "607"
      ]
     },
     "execution_count": 122,
     "metadata": {},
     "output_type": "execute_result"
    }
   ],
   "source": [
    "# List for holding lat_lngs and cities\n",
    "lat_lngs = []\n",
    "cities = []\n",
    "\n",
    "# Create a set of random lat and lng combinations\n",
    "lats = np.random.uniform(low=-90.000, high=90.000, size=1500)\n",
    "lngs = np.random.uniform(low=-180.000, high=180.000, size=1500)\n",
    "lat_lngs = zip(lats, lngs)\n",
    "\n",
    "# Identify nearest city for each lat, lng combination\n",
    "for lat_lng in lat_lngs:\n",
    "    city = citipy.nearest_city(lat_lng[0], lat_lng[1]).city_name\n",
    "    \n",
    "    # If the city is unique, then add it to a our cities list\n",
    "    if city not in cities:\n",
    "        cities.append(city)\n",
    "\n",
    "# Print the city count to confirm sufficient count\n",
    "len(cities)"
   ]
  },
  {
   "cell_type": "markdown",
   "metadata": {},
   "source": [
    "### Perform API Calls\n",
    "* Perform a weather check on each city using a series of successive API calls.\n",
    "* Include a print log of each city as it'sbeing processed (with the city number and city name).\n"
   ]
  },
  {
   "cell_type": "code",
   "execution_count": 123,
   "metadata": {},
   "outputs": [
    {
     "name": "stdout",
     "output_type": "stream",
     "text": [
      "Processing Record 1 | klaksvik\n",
      "Processing Record 2 | sinnamary\n",
      "Processing Record 3 | saint george\n",
      "Processing Record 4 | ignatovka\n",
      "Processing Record 5 | hermanus\n",
      "Processing Record 6 | mar del plata\n",
      "Processing Record 7 | cape town\n",
      "Processing Record 8 | port alfred\n",
      "City not found. Skipping...\n",
      "Processing Record 9 | shahreza\n",
      "Processing Record 10 | talnakh\n",
      "Processing Record 11 | kapaa\n",
      "Processing Record 12 | tuktoyaktuk\n",
      "Processing Record 13 | ushuaia\n",
      "City not found. Skipping...\n",
      "Processing Record 14 | bethel\n",
      "Processing Record 15 | rikitea\n",
      "Processing Record 16 | albany\n",
      "Processing Record 17 | mgandu\n",
      "Processing Record 18 | shanghai\n",
      "Processing Record 19 | hilo\n",
      "Processing Record 20 | xai-xai\n",
      "Processing Record 21 | mataura\n",
      "City not found. Skipping...\n",
      "Processing Record 22 | uniontown\n",
      "Processing Record 23 | muros\n",
      "Processing Record 24 | omsukchan\n",
      "City not found. Skipping...\n",
      "Processing Record 25 | ilulissat\n",
      "Processing Record 26 | bathsheba\n",
      "Processing Record 27 | ust-omchug\n",
      "Processing Record 28 | touros\n",
      "Processing Record 29 | punta arenas\n",
      "City not found. Skipping...\n",
      "Processing Record 30 | sorland\n",
      "Processing Record 31 | kahului\n",
      "Processing Record 32 | hithadhoo\n",
      "Processing Record 33 | bilibino\n",
      "Processing Record 34 | carnarvon\n",
      "Processing Record 35 | kabo\n",
      "Processing Record 36 | altamira\n",
      "Processing Record 37 | castro\n",
      "Processing Record 38 | isangel\n",
      "Processing Record 39 | kaitangata\n",
      "Processing Record 40 | karak\n",
      "Processing Record 41 | longyearbyen\n",
      "Processing Record 42 | bria\n",
      "Processing Record 43 | ribeira grande\n",
      "Processing Record 44 | atuona\n",
      "Processing Record 45 | busselton\n",
      "Processing Record 46 | quelimane\n",
      "Processing Record 47 | kruisfontein\n",
      "Processing Record 48 | pacific grove\n",
      "Processing Record 49 | khatanga\n",
      "Processing Record 50 | kieta\n",
      "Processing Record 51 | acapulco\n",
      "Processing Record 52 | barrow\n",
      "Processing Record 53 | jiuquan\n",
      "Processing Record 54 | severo-kurilsk\n",
      "Processing Record 55 | thompson\n",
      "Processing Record 56 | los llanos de aridane\n",
      "Processing Record 57 | kudus\n",
      "Processing Record 58 | nikolskoye\n",
      "Processing Record 59 | emerald\n",
      "Processing Record 60 | kulhudhuffushi\n",
      "Processing Record 61 | ancud\n",
      "Processing Record 62 | constitucion\n",
      "Processing Record 63 | cockburn town\n",
      "Processing Record 64 | chokurdakh\n",
      "Processing Record 65 | lavrentiya\n",
      "Processing Record 66 | dikson\n",
      "Processing Record 67 | kavieng\n",
      "Processing Record 68 | bredasdorp\n",
      "Processing Record 69 | vwawa\n",
      "Processing Record 70 | vila\n",
      "Processing Record 71 | severo-yeniseyskiy\n",
      "Processing Record 72 | imbituba\n",
      "City not found. Skipping...\n",
      "Processing Record 73 | alofi\n",
      "City not found. Skipping...\n",
      "Processing Record 74 | camacari\n",
      "Processing Record 75 | kodiak\n",
      "Processing Record 76 | hualmay\n",
      "Processing Record 77 | jamestown\n",
      "Processing Record 78 | bulgan\n",
      "Processing Record 79 | carlsbad\n",
      "Processing Record 80 | nanortalik\n",
      "Processing Record 81 | lashio\n",
      "Processing Record 82 | hobart\n",
      "Processing Record 83 | victor harbor\n",
      "City not found. Skipping...\n",
      "Processing Record 84 | elbistan\n",
      "Processing Record 85 | burns lake\n",
      "Processing Record 86 | ca mau\n",
      "Processing Record 87 | east london\n",
      "Processing Record 88 | provideniya\n",
      "Processing Record 89 | mahebourg\n",
      "Processing Record 90 | cesvaine\n",
      "Processing Record 91 | avarua\n",
      "Processing Record 92 | victoria\n",
      "City not found. Skipping...\n",
      "Processing Record 93 | pevek\n",
      "Processing Record 94 | suntar\n",
      "Processing Record 95 | soyo\n",
      "Processing Record 96 | cidreira\n",
      "Processing Record 97 | tubuala\n",
      "Processing Record 98 | san jeronimo\n",
      "Processing Record 99 | verkhneyarkeyevo\n",
      "Processing Record 100 | hasaki\n",
      "Processing Record 101 | qaanaaq\n",
      "Processing Record 102 | pangai\n",
      "Processing Record 103 | gizo\n",
      "Processing Record 104 | saskylakh\n",
      "Processing Record 105 | bambous virieux\n",
      "Processing Record 106 | kodinsk\n",
      "Processing Record 107 | daru\n",
      "Processing Record 108 | hambantota\n",
      "City not found. Skipping...\n",
      "Processing Record 109 | naze\n",
      "Processing Record 110 | bluff\n",
      "Processing Record 111 | raga\n",
      "Processing Record 112 | kemijarvi\n",
      "Processing Record 113 | kakogawa\n",
      "Processing Record 114 | shache\n",
      "Processing Record 115 | antalaha\n",
      "Processing Record 116 | tripoli\n",
      "Processing Record 117 | havre-saint-pierre\n",
      "Processing Record 118 | zemio\n",
      "Processing Record 119 | wladyslawowo\n",
      "Processing Record 120 | georgetown\n",
      "Processing Record 121 | rocha\n",
      "Processing Record 122 | vardo\n",
      "Processing Record 123 | rio de janeiro\n",
      "Processing Record 124 | bure\n",
      "City not found. Skipping...\n",
      "Processing Record 125 | la ronge\n",
      "Processing Record 126 | faanui\n",
      "Processing Record 127 | san francisco\n",
      "Processing Record 128 | airai\n",
      "Processing Record 129 | upington\n",
      "Processing Record 130 | roma\n",
      "Processing Record 131 | ponta do sol\n",
      "Processing Record 132 | mbandaka\n",
      "Processing Record 133 | arraial do cabo\n",
      "Processing Record 134 | alta\n",
      "Processing Record 135 | dudinka\n",
      "Processing Record 136 | anloga\n",
      "Processing Record 137 | rodino\n",
      "Processing Record 138 | thinadhoo\n",
      "Processing Record 139 | vaini\n",
      "Processing Record 140 | noyabrsk\n",
      "Processing Record 141 | sagua la grande\n",
      "Processing Record 142 | chara\n",
      "Processing Record 143 | mayo\n",
      "Processing Record 144 | tukrah\n",
      "Processing Record 145 | flinders\n",
      "Processing Record 146 | port lincoln\n",
      "Processing Record 147 | birao\n",
      "Processing Record 148 | rabo de peixe\n",
      "Processing Record 149 | namatanai\n",
      "Processing Record 150 | bhabua\n",
      "Processing Record 151 | inuvik\n",
      "Processing Record 152 | yulara\n",
      "Processing Record 153 | monrovia\n",
      "Processing Record 154 | wilmington island\n",
      "Processing Record 155 | athabasca\n",
      "Processing Record 156 | manono\n",
      "Processing Record 157 | brigantine\n",
      "Processing Record 158 | newala\n",
      "Processing Record 159 | palmer\n",
      "Processing Record 160 | hervey bay\n",
      "Processing Record 161 | samarai\n",
      "Processing Record 162 | haines junction\n",
      "Processing Record 163 | pochinok\n",
      "Processing Record 164 | bengkulu\n",
      "City not found. Skipping...\n",
      "Processing Record 165 | santa rosa\n",
      "Processing Record 166 | oranjemund\n",
      "City not found. Skipping...\n",
      "Processing Record 167 | ipira\n",
      "Processing Record 168 | ust-nera\n",
      "Processing Record 169 | cherskiy\n",
      "Processing Record 170 | narsaq\n",
      "Processing Record 171 | maceio\n",
      "Processing Record 172 | bairiki\n",
      "Processing Record 173 | puerto escondido\n",
      "Processing Record 174 | dongsheng\n",
      "Processing Record 175 | sao filipe\n",
      "City not found. Skipping...\n",
      "Processing Record 176 | hauterive\n",
      "Processing Record 177 | glace bay\n",
      "Processing Record 178 | gorlev\n",
      "City not found. Skipping...\n",
      "Processing Record 179 | dzhebariki-khaya\n",
      "Processing Record 180 | creel\n",
      "Processing Record 181 | puerto ayora\n",
      "Processing Record 182 | kargasok\n",
      "Processing Record 183 | eucaliptus\n",
      "Processing Record 184 | esperance\n",
      "Processing Record 185 | kovur\n",
      "Processing Record 186 | saint-philippe\n",
      "City not found. Skipping...\n",
      "Processing Record 187 | salekhard\n",
      "Processing Record 188 | new norfolk\n",
      "Processing Record 189 | pudozh\n",
      "Processing Record 190 | tasiilaq\n",
      "Processing Record 191 | balagansk\n",
      "Processing Record 192 | grand island\n",
      "Processing Record 193 | coahuayana\n",
      "Processing Record 194 | vite\n",
      "Processing Record 195 | port-gentil\n",
      "Processing Record 196 | alta floresta\n",
      "Processing Record 197 | jiblah\n",
      "City not found. Skipping...\n",
      "Processing Record 198 | tautira\n",
      "Processing Record 199 | chern\n",
      "Processing Record 200 | kez\n",
      "Processing Record 201 | lebu\n",
      "Processing Record 202 | langsa\n",
      "Processing Record 203 | itarema\n",
      "Processing Record 204 | camana\n",
      "Processing Record 205 | warwick\n",
      "Processing Record 206 | buala\n",
      "Processing Record 207 | luderitz\n",
      "City not found. Skipping...\n",
      "Processing Record 208 | norman wells\n",
      "Processing Record 209 | bourail\n",
      "Processing Record 210 | shelburne\n",
      "Processing Record 211 | husavik\n",
      "Processing Record 212 | katherine\n",
      "Processing Record 213 | humaita\n",
      "Processing Record 214 | grand gaube\n",
      "Processing Record 215 | guaratinga\n",
      "Processing Record 216 | pisco\n",
      "City not found. Skipping...\n",
      "Processing Record 217 | nara\n",
      "Processing Record 218 | alice springs\n",
      "Processing Record 219 | miranda\n",
      "Processing Record 220 | kudahuvadhoo\n",
      "Processing Record 221 | geraldton\n",
      "City not found. Skipping...\n",
      "Processing Record 222 | gat\n",
      "Processing Record 223 | dunedin\n",
      "Processing Record 224 | trat\n",
      "Processing Record 225 | andrews\n",
      "Processing Record 226 | leua\n",
      "Processing Record 227 | hofn\n",
      "Processing Record 228 | bunia\n",
      "Processing Record 229 | port hedland\n",
      "Processing Record 230 | vega de alatorre\n",
      "Processing Record 231 | mendota\n",
      "Processing Record 232 | yangjiang\n",
      "Processing Record 233 | comodoro rivadavia\n",
      "Processing Record 234 | beringovskiy\n",
      "Processing Record 235 | safaga\n",
      "Processing Record 236 | clyde river\n",
      "Processing Record 237 | port macquarie\n"
     ]
    },
    {
     "name": "stdout",
     "output_type": "stream",
     "text": [
      "Processing Record 238 | port elizabeth\n",
      "Processing Record 239 | yellowknife\n",
      "Processing Record 240 | kysyl-syr\n",
      "Processing Record 241 | tiksi\n",
      "Processing Record 242 | noumea\n",
      "Processing Record 243 | marang\n",
      "Processing Record 244 | buderim\n",
      "Processing Record 245 | bud\n",
      "Processing Record 246 | numbrecht\n",
      "City not found. Skipping...\n",
      "Processing Record 247 | lakes entrance\n",
      "Processing Record 248 | sitka\n",
      "Processing Record 249 | bereznik\n",
      "Processing Record 250 | ust-kan\n",
      "Processing Record 251 | san patricio\n",
      "Processing Record 252 | mattru\n",
      "Processing Record 253 | marakkanam\n",
      "Processing Record 254 | onega\n",
      "Processing Record 255 | vestmanna\n",
      "Processing Record 256 | axim\n",
      "Processing Record 257 | bundaberg\n",
      "City not found. Skipping...\n",
      "Processing Record 258 | erzin\n",
      "City not found. Skipping...\n",
      "Processing Record 259 | qunduz\n",
      "Processing Record 260 | katsuura\n",
      "Processing Record 261 | port hardy\n",
      "Processing Record 262 | fortuna\n",
      "Processing Record 263 | phan thiet\n",
      "Processing Record 264 | moose factory\n",
      "Processing Record 265 | olinda\n",
      "Processing Record 266 | marystown\n",
      "Processing Record 267 | port blair\n",
      "Processing Record 268 | college\n",
      "Processing Record 269 | kupang\n",
      "Processing Record 270 | ixtapa\n",
      "Processing Record 271 | barre\n",
      "Processing Record 272 | zlocieniec\n",
      "Processing Record 273 | vao\n",
      "Processing Record 274 | cabo san lucas\n",
      "Processing Record 275 | antofagasta\n",
      "City not found. Skipping...\n",
      "Processing Record 276 | rio grande\n",
      "Processing Record 277 | jiayuguan\n",
      "Processing Record 278 | chicama\n",
      "City not found. Skipping...\n",
      "Processing Record 279 | weiser\n",
      "Processing Record 280 | margate\n",
      "City not found. Skipping...\n",
      "Processing Record 281 | mae sot\n",
      "Processing Record 282 | rio gallegos\n",
      "Processing Record 283 | fort abbas\n",
      "Processing Record 284 | mackay\n",
      "Processing Record 285 | bay roberts\n",
      "Processing Record 286 | kalianget\n",
      "Processing Record 287 | alto araguaia\n",
      "Processing Record 288 | ulladulla\n",
      "Processing Record 289 | qitaihe\n",
      "City not found. Skipping...\n",
      "Processing Record 290 | nome\n",
      "Processing Record 291 | mae sai\n",
      "Processing Record 292 | torbay\n",
      "Processing Record 293 | saint-augustin\n",
      "Processing Record 294 | aurillac\n",
      "Processing Record 295 | altay\n",
      "Processing Record 296 | lapeer\n",
      "Processing Record 297 | elmadag\n",
      "Processing Record 298 | haapiti\n",
      "City not found. Skipping...\n",
      "Processing Record 299 | mon\n",
      "Processing Record 300 | vanimo\n",
      "City not found. Skipping...\n",
      "Processing Record 301 | seymchan\n",
      "Processing Record 302 | waipawa\n",
      "Processing Record 303 | poum\n",
      "Processing Record 304 | chake chake\n",
      "Processing Record 305 | andros town\n",
      "Processing Record 306 | mehamn\n",
      "Processing Record 307 | butaritari\n",
      "Processing Record 308 | calama\n",
      "Processing Record 309 | bodden town\n",
      "Processing Record 310 | meulaboh\n",
      "Processing Record 311 | inta\n",
      "Processing Record 312 | taldan\n",
      "Processing Record 313 | lompoc\n",
      "Processing Record 314 | kasempa\n",
      "Processing Record 315 | fairbanks\n",
      "Processing Record 316 | milkovo\n",
      "Processing Record 317 | arlit\n",
      "Processing Record 318 | churachandpur\n",
      "Processing Record 319 | bafra\n",
      "Processing Record 320 | sao joao da barra\n",
      "Processing Record 321 | upernavik\n",
      "Processing Record 322 | owando\n",
      "Processing Record 323 | dingle\n",
      "Processing Record 324 | iqaluit\n",
      "Processing Record 325 | mackenzie\n",
      "Processing Record 326 | tura\n",
      "Processing Record 327 | tutoia\n",
      "Processing Record 328 | santa cruz cabralia\n",
      "Processing Record 329 | pitimbu\n",
      "Processing Record 330 | agadez\n",
      "Processing Record 331 | sisimiut\n",
      "Processing Record 332 | el alto\n",
      "Processing Record 333 | hobyo\n",
      "Processing Record 334 | kabinda\n",
      "Processing Record 335 | conakry\n",
      "Processing Record 336 | maniitsoq\n",
      "Processing Record 337 | mongoumba\n",
      "City not found. Skipping...\n",
      "Processing Record 338 | saint anthony\n",
      "City not found. Skipping...\n",
      "Processing Record 339 | codrington\n",
      "Processing Record 340 | moshenskoye\n",
      "Processing Record 341 | grindavik\n",
      "City not found. Skipping...\n",
      "Processing Record 342 | zhigansk\n",
      "Processing Record 343 | kenai\n",
      "Processing Record 344 | pimentel\n",
      "Processing Record 345 | camacha\n",
      "Processing Record 346 | chuy\n",
      "Processing Record 347 | dayong\n",
      "Processing Record 348 | souillac\n",
      "Processing Record 349 | bowen\n",
      "Processing Record 350 | tuatapere\n",
      "Processing Record 351 | saldanha\n",
      "Processing Record 352 | nouadhibou\n",
      "Processing Record 353 | salalah\n",
      "Processing Record 354 | ambon\n",
      "Processing Record 355 | sala\n",
      "Processing Record 356 | najran\n",
      "City not found. Skipping...\n",
      "Processing Record 357 | jibuti\n",
      "Processing Record 358 | lagoa\n",
      "Processing Record 359 | monte patria\n",
      "Processing Record 360 | vestmannaeyjar\n",
      "Processing Record 361 | yerbogachen\n",
      "City not found. Skipping...\n",
      "Processing Record 362 | mailsi\n",
      "Processing Record 363 | darnah\n",
      "Processing Record 364 | yatou\n",
      "Processing Record 365 | dalvik\n",
      "Processing Record 366 | batagay-alyta\n",
      "Processing Record 367 | sur\n",
      "Processing Record 368 | pangody\n",
      "Processing Record 369 | soe\n",
      "Processing Record 370 | itambacuri\n",
      "Processing Record 371 | broome\n",
      "Processing Record 372 | pedernales\n",
      "Processing Record 373 | koshurnikovo\n",
      "Processing Record 374 | komsomolskiy\n",
      "Processing Record 375 | umba\n",
      "Processing Record 376 | anadyr\n",
      "City not found. Skipping...\n",
      "City not found. Skipping...\n",
      "Processing Record 377 | bandarbeyla\n",
      "Processing Record 378 | golden gate\n",
      "Processing Record 379 | praia da vitoria\n",
      "Processing Record 380 | nicolet\n",
      "City not found. Skipping...\n",
      "Processing Record 381 | wanning\n",
      "Processing Record 382 | matara\n",
      "Processing Record 383 | melnikovo\n",
      "Processing Record 384 | bosaso\n",
      "Processing Record 385 | ulvik\n",
      "City not found. Skipping...\n",
      "Processing Record 386 | cap-aux-meules\n",
      "Processing Record 387 | the pas\n",
      "Processing Record 388 | kungurtug\n",
      "Processing Record 389 | nueva guinea\n",
      "Processing Record 390 | kurilsk\n",
      "Processing Record 391 | flin flon\n",
      "Processing Record 392 | norrtalje\n",
      "Processing Record 393 | plouzane\n",
      "City not found. Skipping...\n",
      "Processing Record 394 | koundara\n",
      "Processing Record 395 | richards bay\n",
      "Processing Record 396 | taylorville\n",
      "Processing Record 397 | tarbagatay\n",
      "Processing Record 398 | steamboat springs\n",
      "Processing Record 399 | san cristobal\n",
      "Processing Record 400 | moses lake\n",
      "Processing Record 401 | berlevag\n",
      "Processing Record 402 | mwense\n",
      "Processing Record 403 | westport\n",
      "Processing Record 404 | riyadh\n",
      "Processing Record 405 | cocorit\n",
      "City not found. Skipping...\n",
      "Processing Record 406 | cacule\n",
      "Processing Record 407 | iquique\n",
      "Processing Record 408 | puerto del rosario\n",
      "Processing Record 409 | naberera\n",
      "Processing Record 410 | kyshtovka\n",
      "Processing Record 411 | donegal\n",
      "Processing Record 412 | marica\n",
      "Processing Record 413 | bercel\n",
      "Processing Record 414 | farmington\n",
      "Processing Record 415 | ariquemes\n",
      "Processing Record 416 | denpasar\n",
      "Processing Record 417 | takoradi\n",
      "Processing Record 418 | gazimurskiy zavod\n",
      "Processing Record 419 | otukpo\n",
      "Processing Record 420 | aklavik\n",
      "Processing Record 421 | portland\n",
      "Processing Record 422 | tilichiki\n",
      "City not found. Skipping...\n",
      "Processing Record 423 | powell river\n",
      "Processing Record 424 | ahuimanu\n",
      "Processing Record 425 | nevesinje\n",
      "Processing Record 426 | manica\n",
      "Processing Record 427 | shingu\n",
      "Processing Record 428 | balao\n",
      "Processing Record 429 | havoysund\n",
      "Processing Record 430 | aleppo\n",
      "Processing Record 431 | abu samrah\n",
      "Processing Record 432 | sebinkarahisar\n",
      "Processing Record 433 | alamogordo\n",
      "Processing Record 434 | trairi\n",
      "Processing Record 435 | labytnangi\n",
      "Processing Record 436 | cascais\n",
      "Processing Record 437 | veinticinco de diciembre\n",
      "Processing Record 438 | kang\n",
      "City not found. Skipping...\n",
      "Processing Record 439 | kashi\n",
      "Processing Record 440 | batie\n",
      "Processing Record 441 | carutapera\n",
      "City not found. Skipping...\n",
      "Processing Record 442 | ostrovnoy\n",
      "Processing Record 443 | isparta\n",
      "Processing Record 444 | borovoy\n",
      "Processing Record 445 | kavaratti\n",
      "Processing Record 446 | hashtrud\n",
      "Processing Record 447 | kavadarci\n",
      "Processing Record 448 | kangaba\n",
      "Processing Record 449 | bhimunipatnam\n",
      "Processing Record 450 | darhan\n",
      "Processing Record 451 | oxapampa\n",
      "Processing Record 452 | kara\n",
      "Processing Record 453 | arthur\n",
      "Processing Record 454 | santiago del estero\n",
      "Processing Record 455 | ikongo\n",
      "Processing Record 456 | taoudenni\n",
      "Processing Record 457 | miramar\n",
      "Processing Record 458 | ternate\n",
      "Processing Record 459 | moerai\n",
      "Processing Record 460 | hearst\n",
      "Processing Record 461 | rovaniemi\n",
      "Processing Record 462 | lorengau\n",
      "Processing Record 463 | alnavar\n",
      "Processing Record 464 | seoul\n",
      "Processing Record 465 | zonguldak\n"
     ]
    },
    {
     "name": "stdout",
     "output_type": "stream",
     "text": [
      "Processing Record 466 | myanaung\n",
      "Processing Record 467 | vila franca do campo\n",
      "Processing Record 468 | frasin\n",
      "Processing Record 469 | skibbereen\n",
      "Processing Record 470 | yumen\n",
      "Processing Record 471 | labuhan\n",
      "Processing Record 472 | paita\n",
      "Processing Record 473 | nacala\n",
      "Processing Record 474 | taua\n",
      "Processing Record 475 | saint andrews\n",
      "Processing Record 476 | pangnirtung\n",
      "Processing Record 477 | les escoumins\n",
      "Processing Record 478 | achacachi\n",
      "Processing Record 479 | peniche\n",
      "Processing Record 480 | pailitas\n",
      "Processing Record 481 | maragogi\n",
      "Processing Record 482 | goderich\n",
      "Processing Record 483 | tateyama\n",
      "City not found. Skipping...\n",
      "Processing Record 484 | saint-georges\n",
      "Processing Record 485 | ballaghaderreen\n",
      "Processing Record 486 | douglas\n",
      "Processing Record 487 | lasa\n",
      "Processing Record 488 | bubaque\n",
      "Processing Record 489 | mollendo\n",
      "Processing Record 490 | canarana\n",
      "Processing Record 491 | mount gambier\n",
      "Processing Record 492 | tevaitoa\n",
      "Processing Record 493 | san fernando\n",
      "Processing Record 494 | sechura\n",
      "Processing Record 495 | tres arroyos\n",
      "Processing Record 496 | kabelvag\n",
      "Processing Record 497 | nalut\n",
      "Processing Record 498 | asyut\n",
      "Processing Record 499 | kushima\n",
      "City not found. Skipping...\n",
      "Processing Record 500 | parrita\n",
      "Processing Record 501 | zaterechnyy\n",
      "Processing Record 502 | hurghada\n",
      "Processing Record 503 | nueva loja\n",
      "Processing Record 504 | kaeo\n",
      "Processing Record 505 | zaqatala\n",
      "Processing Record 506 | molo\n",
      "Processing Record 507 | bac lieu\n",
      "Processing Record 508 | primorsk\n",
      "Processing Record 509 | leh\n",
      "Processing Record 510 | port keats\n",
      "Processing Record 511 | laguna\n",
      "Processing Record 512 | jian\n",
      "Processing Record 513 | zhangjiakou\n",
      "Processing Record 514 | wabag\n",
      "Processing Record 515 | olmos\n",
      "Processing Record 516 | doka\n",
      "Processing Record 517 | yuanping\n",
      "Processing Record 518 | okhotsk\n",
      "Processing Record 519 | zhanaozen\n",
      "Processing Record 520 | korla\n",
      "Processing Record 521 | moron\n",
      "Processing Record 522 | heinola\n",
      "Processing Record 523 | malanje\n",
      "Processing Record 524 | flagstaff\n",
      "Processing Record 525 | necochea\n",
      "Processing Record 526 | menongue\n",
      "Processing Record 527 | faya\n",
      "Processing Record 528 | den helder\n",
      "City not found. Skipping...\n",
      "Processing Record 529 | puri\n",
      "City not found. Skipping...\n",
      "Processing Record 530 | mildura\n",
      "Processing Record 531 | kuragino\n",
      "Processing Record 532 | miracatu\n",
      "Processing Record 533 | sysert\n",
      "Processing Record 534 | ionia\n",
      "Processing Record 535 | balint\n",
      "Processing Record 536 | farafangana\n",
      "Processing Record 537 | pergamino\n",
      "Processing Record 538 | quatre cocos\n",
      "Processing Record 539 | vila velha\n",
      "Processing Record 540 | villazon\n",
      "Processing Record 541 | manggar\n",
      "Processing Record 542 | veraval\n",
      "Processing Record 543 | gondanglegi\n",
      "Processing Record 544 | mabaruma\n",
      "Processing Record 545 | shimoda\n",
      "Processing Record 546 | aksu\n",
      "Processing Record 547 | henties bay\n",
      "Processing Record 548 | aquiraz\n",
      "Processing Record 549 | posse\n",
      "City not found. Skipping...\n",
      "Processing Record 550 | netrakona\n",
      "Processing Record 551 | mirador\n",
      "Processing Record 552 | turbat\n",
      "Processing Record 553 | channel-port aux basques\n",
      "Processing Record 554 | zemaiciu naumiestis\n",
      "Processing Record 555 | cayenne\n",
      "City not found. Skipping...\n",
      "Processing Record 556 | sarahan\n",
      "Processing Record 557 | sao gabriel da cachoeira\n",
      "City not found. Skipping...\n"
     ]
    }
   ],
   "source": [
    "base_url=\"http://api.openweathermap.org/data/2.5/weather?q=\"  \n",
    "\n",
    "num=1         \n",
    "Cloudiness=[]    \n",
    "Country=[]       \n",
    "Date=[]         \n",
    "Humidity=[]      \n",
    "Lat=[]           \n",
    "Lng=[]           \n",
    "Max_Temp=[]      \n",
    "Wind_Speed=[]    \n",
    "cit=[]\n",
    "for city in cities:  \n",
    "    try:\n",
    "        url=base_url+city+'&appid='+weather_api_key\n",
    "        response=requests.get(url).json()\n",
    "        \n",
    "        Lat.append(response['coord']['lat'])\n",
    "        Cloudiness.append(response['clouds']['all'])\n",
    "        Country.append(response['sys']['country'])\n",
    "        Humidity.append(response['main']['humidity'])\n",
    "        Lng.append(response['coord']['lon'])\n",
    "        Date.append(response['dt'])         \n",
    "        Max_Temp.append(response['main']['temp_max'])\n",
    "        Wind_Speed.append(response['wind']['speed'])\n",
    "        cit.append(city)\n",
    "        print(f'Processing Record {num} | {city}')\n",
    "        num=num+1\n",
    "    \n",
    "    except (KeyError, IndexError):\n",
    "        print(\"City not found. Skipping...\")"
   ]
  },
  {
   "cell_type": "markdown",
   "metadata": {},
   "source": [
    "### Convert Raw Data to DataFrame\n",
    "* Export the city data into a .csv.\n",
    "* Display the DataFrame"
   ]
  },
  {
   "cell_type": "code",
   "execution_count": 141,
   "metadata": {},
   "outputs": [],
   "source": [
    "final=pd.DataFrame({'City':cit,'Cloudiness':Cloudiness,'Country':Country,'Date':Date,'Humidity':Humidity,'Lat':Lat,'Lng':Lng,'Max Temp':Max_Temp,'Wind Speed':Wind_Speed})\n",
    "final.to_csv(\"final_weather_data.csv\",header=True, index=False)"
   ]
  },
  {
   "cell_type": "code",
   "execution_count": 125,
   "metadata": {},
   "outputs": [
    {
     "name": "stdout",
     "output_type": "stream",
     "text": [
      "<class 'pandas.core.frame.DataFrame'>\n",
      "RangeIndex: 557 entries, 0 to 556\n",
      "Data columns (total 9 columns):\n",
      " #   Column      Non-Null Count  Dtype  \n",
      "---  ------      --------------  -----  \n",
      " 0   City        557 non-null    object \n",
      " 1   Cloudiness  557 non-null    int64  \n",
      " 2   Country     557 non-null    object \n",
      " 3   Date        557 non-null    int64  \n",
      " 4   Humidity    557 non-null    int64  \n",
      " 5   Lat         557 non-null    float64\n",
      " 6   Lng         557 non-null    float64\n",
      " 7   Max Temp    557 non-null    float64\n",
      " 8   Wind Speed  557 non-null    float64\n",
      "dtypes: float64(4), int64(3), object(2)\n",
      "memory usage: 39.3+ KB\n"
     ]
    }
   ],
   "source": [
    "final.info()"
   ]
  },
  {
   "cell_type": "code",
   "execution_count": 126,
   "metadata": {},
   "outputs": [
    {
     "data": {
      "text/html": [
       "<div>\n",
       "<style scoped>\n",
       "    .dataframe tbody tr th:only-of-type {\n",
       "        vertical-align: middle;\n",
       "    }\n",
       "\n",
       "    .dataframe tbody tr th {\n",
       "        vertical-align: top;\n",
       "    }\n",
       "\n",
       "    .dataframe thead th {\n",
       "        text-align: right;\n",
       "    }\n",
       "</style>\n",
       "<table border=\"1\" class=\"dataframe\">\n",
       "  <thead>\n",
       "    <tr style=\"text-align: right;\">\n",
       "      <th></th>\n",
       "      <th>City</th>\n",
       "      <th>Cloudiness</th>\n",
       "      <th>Country</th>\n",
       "      <th>Date</th>\n",
       "      <th>Humidity</th>\n",
       "      <th>Lat</th>\n",
       "      <th>Lng</th>\n",
       "      <th>Max Temp</th>\n",
       "      <th>Wind Speed</th>\n",
       "    </tr>\n",
       "  </thead>\n",
       "  <tbody>\n",
       "    <tr>\n",
       "      <th>0</th>\n",
       "      <td>klaksvik</td>\n",
       "      <td>100</td>\n",
       "      <td>FO</td>\n",
       "      <td>1584721394</td>\n",
       "      <td>69</td>\n",
       "      <td>62.23</td>\n",
       "      <td>-6.59</td>\n",
       "      <td>277.15</td>\n",
       "      <td>7.70</td>\n",
       "    </tr>\n",
       "    <tr>\n",
       "      <th>1</th>\n",
       "      <td>sinnamary</td>\n",
       "      <td>98</td>\n",
       "      <td>GF</td>\n",
       "      <td>1584721394</td>\n",
       "      <td>76</td>\n",
       "      <td>5.38</td>\n",
       "      <td>-52.95</td>\n",
       "      <td>299.90</td>\n",
       "      <td>4.88</td>\n",
       "    </tr>\n",
       "    <tr>\n",
       "      <th>2</th>\n",
       "      <td>saint george</td>\n",
       "      <td>90</td>\n",
       "      <td>US</td>\n",
       "      <td>1584721311</td>\n",
       "      <td>87</td>\n",
       "      <td>37.10</td>\n",
       "      <td>-113.58</td>\n",
       "      <td>279.26</td>\n",
       "      <td>2.10</td>\n",
       "    </tr>\n",
       "    <tr>\n",
       "      <th>3</th>\n",
       "      <td>ignatovka</td>\n",
       "      <td>42</td>\n",
       "      <td>RU</td>\n",
       "      <td>1584721395</td>\n",
       "      <td>76</td>\n",
       "      <td>53.95</td>\n",
       "      <td>47.65</td>\n",
       "      <td>275.31</td>\n",
       "      <td>4.90</td>\n",
       "    </tr>\n",
       "    <tr>\n",
       "      <th>4</th>\n",
       "      <td>hermanus</td>\n",
       "      <td>0</td>\n",
       "      <td>ZA</td>\n",
       "      <td>1584721395</td>\n",
       "      <td>81</td>\n",
       "      <td>-34.42</td>\n",
       "      <td>19.23</td>\n",
       "      <td>293.71</td>\n",
       "      <td>2.24</td>\n",
       "    </tr>\n",
       "  </tbody>\n",
       "</table>\n",
       "</div>"
      ],
      "text/plain": [
       "           City  Cloudiness Country        Date  Humidity    Lat     Lng  \\\n",
       "0      klaksvik         100      FO  1584721394        69  62.23   -6.59   \n",
       "1     sinnamary          98      GF  1584721394        76   5.38  -52.95   \n",
       "2  saint george          90      US  1584721311        87  37.10 -113.58   \n",
       "3     ignatovka          42      RU  1584721395        76  53.95   47.65   \n",
       "4      hermanus           0      ZA  1584721395        81 -34.42   19.23   \n",
       "\n",
       "   Max Temp  Wind Speed  \n",
       "0    277.15        7.70  \n",
       "1    299.90        4.88  \n",
       "2    279.26        2.10  \n",
       "3    275.31        4.90  \n",
       "4    293.71        2.24  "
      ]
     },
     "execution_count": 126,
     "metadata": {},
     "output_type": "execute_result"
    }
   ],
   "source": [
    "final.head()"
   ]
  },
  {
   "cell_type": "markdown",
   "metadata": {},
   "source": [
    "### Plotting the Data\n",
    "* Use proper labeling of the plots using plot titles (including date of analysis) and axes labels.\n",
    "* Save the plotted figures as .pngs."
   ]
  },
  {
   "cell_type": "markdown",
   "metadata": {},
   "source": [
    "#### Latitude vs. Temperature Plot"
   ]
  },
  {
   "cell_type": "code",
   "execution_count": 127,
   "metadata": {
    "scrolled": true
   },
   "outputs": [
    {
     "data": {
      "image/png": "[encoded data removed]",
      "text/plain": [
       "<Figure size 432x288 with 1 Axes>"
      ]
     },
     "metadata": {
      "needs_background": "light"
     },
     "output_type": "display_data"
    },
    {
     "name": "stdout",
     "output_type": "stream",
     "text": [
      "\n",
      "      We could conclude that more close to equator higher temperature;\n",
      "      The northern hesispere colder than southern when with same level of Latitude\n",
      "      \n"
     ]
    }
   ],
   "source": [
    "Latitude = final.Lat\n",
    "Temperature = final['Max Temp']\n",
    "plt.scatter(Latitude,Temperature,c='darkblue')\n",
    "plt.xlabel(\"Latitude\")\n",
    "plt.ylabel(\"Max Temperature\")\n",
    "plt.title('City Latitude vs. Max Temperature(03/20/20)')\n",
    "plt.grid()\n",
    "plt.show()\n",
    "print('''\n",
    "      We could conclude that more close to equator higher temperature;\n",
    "      The northern hesispere colder than southern when with same level of Latitude\n",
    "      ''')"
   ]
  },
  {
   "cell_type": "markdown",
   "metadata": {},
   "source": [
    "#### Latitude vs. Humidity Plot"
   ]
  },
  {
   "cell_type": "code",
   "execution_count": 128,
   "metadata": {
    "scrolled": true
   },
   "outputs": [
    {
     "data": {
      "image/png": "[encoded data removed]",
      "text/plain": [
       "<Figure size 432x288 with 1 Axes>"
      ]
     },
     "metadata": {
      "needs_background": "light"
     },
     "output_type": "display_data"
    },
    {
     "name": "stdout",
     "output_type": "stream",
     "text": [
      "\n",
      "      The northern and southern hesispere with simliar humidity;\n",
      "      Majority cities humidity between 70-90;\n",
      "      Not too strong relationshiop between humidity and latitude\n",
      "      \n"
     ]
    }
   ],
   "source": [
    "Latitude = final.Lat\n",
    "Humidity = final.Humidity\n",
    "plt.scatter(Latitude,Humidity,c='darkblue')\n",
    "plt.xlabel(\"Latitude\")\n",
    "plt.ylabel(\"Humidity(%)\")\n",
    "plt.title('City Latitude vs. Humidity(03/20/20)')\n",
    "plt.grid()\n",
    "plt.show()\n",
    "print('''\n",
    "      The northern and southern hesispere with simliar humidity;\n",
    "      Majority cities humidity between 70-90;\n",
    "      Not too strong relationshiop between humidity and latitude\n",
    "      ''')"
   ]
  },
  {
   "cell_type": "markdown",
   "metadata": {},
   "source": [
    "#### Latitude vs. Cloudiness Plot"
   ]
  },
  {
   "cell_type": "code",
   "execution_count": 129,
   "metadata": {},
   "outputs": [
    {
     "data": {
      "image/png": "[encoded data removed]",
      "text/plain": [
       "<Figure size 432x288 with 1 Axes>"
      ]
     },
     "metadata": {
      "needs_background": "light"
     },
     "output_type": "display_data"
    },
    {
     "name": "stdout",
     "output_type": "stream",
     "text": [
      "\n",
      "      The northern and southern hesispere with simliar cloudeiness;\n",
      "      Not too strong relationshiop between cloudeiness and latitude\n",
      "      \n"
     ]
    }
   ],
   "source": [
    "Latitude = final.Lat\n",
    "Cloudiness = final.Cloudiness\n",
    "plt.scatter(Latitude,Cloudiness,c='darkblue')\n",
    "plt.xlabel(\"Latitude\")\n",
    "plt.ylabel(\"Cloudiness(%)\")\n",
    "plt.title('City Latitude vs. Cloudiness(03/20/20)')\n",
    "plt.grid()\n",
    "plt.show()\n",
    "print('''\n",
    "      The northern and southern hesispere with simliar cloudeiness;\n",
    "      Not too strong relationshiop between cloudeiness and latitude\n",
    "      ''')"
   ]
  },
  {
   "cell_type": "markdown",
   "metadata": {},
   "source": [
    "#### Latitude vs. Wind Speed Plot"
   ]
  },
  {
   "cell_type": "code",
   "execution_count": 130,
   "metadata": {},
   "outputs": [
    {
     "data": {
      "image/png": "[encoded data removed]",
      "text/plain": [
       "<Figure size 432x288 with 1 Axes>"
      ]
     },
     "metadata": {
      "needs_background": "light"
     },
     "output_type": "display_data"
    },
    {
     "name": "stdout",
     "output_type": "stream",
     "text": [
      "\n",
      "      The northern and southern hesispere with simliar wind speed when they are in same latitude;\n",
      "      Majority cities wind speed  between 0-5;\n",
      "      The cities far from equator with higher wind speed\n",
      "      \n"
     ]
    }
   ],
   "source": [
    "Latitude = final.Lat\n",
    "Wind_Speed = final['Wind Speed']\n",
    "plt.scatter(Latitude,Wind_Speed,c='darkblue')\n",
    "plt.xlabel(\"Latitude\")\n",
    "plt.ylabel(\"Wind Speed(mph)\")\n",
    "plt.title('City Latitude vs. Wind Speed(03/20/20)')\n",
    "plt.grid()\n",
    "plt.show()\n",
    "print('''\n",
    "      The northern and southern hesispere with simliar wind speed when they are in same latitude;\n",
    "      Majority cities wind speed  between 0-5;\n",
    "      The cities far from equator with higher wind speed\n",
    "      ''')"
   ]
  },
  {
   "cell_type": "markdown",
   "metadata": {},
   "source": [
    "## Linear Regression"
   ]
  },
  {
   "cell_type": "code",
   "execution_count": 131,
   "metadata": {},
   "outputs": [
    {
     "data": {
      "text/html": [
       "<div>\n",
       "<style scoped>\n",
       "    .dataframe tbody tr th:only-of-type {\n",
       "        vertical-align: middle;\n",
       "    }\n",
       "\n",
       "    .dataframe tbody tr th {\n",
       "        vertical-align: top;\n",
       "    }\n",
       "\n",
       "    .dataframe thead th {\n",
       "        text-align: right;\n",
       "    }\n",
       "</style>\n",
       "<table border=\"1\" class=\"dataframe\">\n",
       "  <thead>\n",
       "    <tr style=\"text-align: right;\">\n",
       "      <th></th>\n",
       "      <th>City</th>\n",
       "      <th>Cloudiness</th>\n",
       "      <th>Country</th>\n",
       "      <th>Date</th>\n",
       "      <th>Humidity</th>\n",
       "      <th>Lat</th>\n",
       "      <th>Lng</th>\n",
       "      <th>Max Temp</th>\n",
       "      <th>Wind Speed</th>\n",
       "    </tr>\n",
       "  </thead>\n",
       "  <tbody>\n",
       "    <tr>\n",
       "      <th>4</th>\n",
       "      <td>hermanus</td>\n",
       "      <td>0</td>\n",
       "      <td>ZA</td>\n",
       "      <td>1584721395</td>\n",
       "      <td>81</td>\n",
       "      <td>-34.42</td>\n",
       "      <td>19.23</td>\n",
       "      <td>293.71</td>\n",
       "      <td>2.24</td>\n",
       "    </tr>\n",
       "    <tr>\n",
       "      <th>5</th>\n",
       "      <td>mar del plata</td>\n",
       "      <td>20</td>\n",
       "      <td>AR</td>\n",
       "      <td>1584721262</td>\n",
       "      <td>64</td>\n",
       "      <td>-38.00</td>\n",
       "      <td>-57.56</td>\n",
       "      <td>293.71</td>\n",
       "      <td>4.60</td>\n",
       "    </tr>\n",
       "    <tr>\n",
       "      <th>6</th>\n",
       "      <td>cape town</td>\n",
       "      <td>40</td>\n",
       "      <td>ZA</td>\n",
       "      <td>1584720848</td>\n",
       "      <td>68</td>\n",
       "      <td>-33.93</td>\n",
       "      <td>18.42</td>\n",
       "      <td>295.93</td>\n",
       "      <td>4.10</td>\n",
       "    </tr>\n",
       "    <tr>\n",
       "      <th>7</th>\n",
       "      <td>port alfred</td>\n",
       "      <td>25</td>\n",
       "      <td>ZA</td>\n",
       "      <td>1584721395</td>\n",
       "      <td>88</td>\n",
       "      <td>-33.59</td>\n",
       "      <td>26.89</td>\n",
       "      <td>292.59</td>\n",
       "      <td>3.58</td>\n",
       "    </tr>\n",
       "    <tr>\n",
       "      <th>12</th>\n",
       "      <td>ushuaia</td>\n",
       "      <td>75</td>\n",
       "      <td>AR</td>\n",
       "      <td>1584721384</td>\n",
       "      <td>81</td>\n",
       "      <td>-54.80</td>\n",
       "      <td>-68.30</td>\n",
       "      <td>279.15</td>\n",
       "      <td>10.30</td>\n",
       "    </tr>\n",
       "  </tbody>\n",
       "</table>\n",
       "</div>"
      ],
      "text/plain": [
       "             City  Cloudiness Country        Date  Humidity    Lat    Lng  \\\n",
       "4        hermanus           0      ZA  1584721395        81 -34.42  19.23   \n",
       "5   mar del plata          20      AR  1584721262        64 -38.00 -57.56   \n",
       "6       cape town          40      ZA  1584720848        68 -33.93  18.42   \n",
       "7     port alfred          25      ZA  1584721395        88 -33.59  26.89   \n",
       "12        ushuaia          75      AR  1584721384        81 -54.80 -68.30   \n",
       "\n",
       "    Max Temp  Wind Speed  \n",
       "4     293.71        2.24  \n",
       "5     293.71        4.60  \n",
       "6     295.93        4.10  \n",
       "7     292.59        3.58  \n",
       "12    279.15       10.30  "
      ]
     },
     "execution_count": 131,
     "metadata": {},
     "output_type": "execute_result"
    }
   ],
   "source": [
    "# Create Northern and Southern Hemisphere DataFrames\n",
    "Northern=final.loc[final['Lat']>= 0]\n",
    "Southern=final.loc[final['Lat']< 0]\n",
    "Southern.head()"
   ]
  },
  {
   "cell_type": "markdown",
   "metadata": {},
   "source": [
    "####  Northern Hemisphere - Max Temp vs. Latitude Linear Regression"
   ]
  },
  {
   "cell_type": "code",
   "execution_count": 132,
   "metadata": {},
   "outputs": [
    {
     "name": "stdout",
     "output_type": "stream",
     "text": [
      "The r-squared is: -0.8704862938773731\n"
     ]
    },
    {
     "data": {
      "image/png": "[encoded data removed]",
      "text/plain": [
       "<Figure size 432x288 with 1 Axes>"
      ]
     },
     "metadata": {
      "needs_background": "light"
     },
     "output_type": "display_data"
    },
    {
     "name": "stdout",
     "output_type": "stream",
     "text": [
      "\n",
      "      For northern,Latitude and Max Tem shows negative relationship;\n",
      "      high r squared value, it's a good module;\n",
      "      \n"
     ]
    }
   ],
   "source": [
    "x_values = Northern['Lat']\n",
    "y_values = Northern['Max Temp']\n",
    "(slope, intercept, rvalue, pvalue, stderr) = linregress(x_values, y_values)\n",
    "regress_values = x_values * slope + intercept\n",
    "line_eq = \"y = \" + str(round(slope,2)) + \"x + \" + str(round(intercept,2))\n",
    "plt.scatter(x_values,y_values)\n",
    "plt.plot(x_values,regress_values,\"r-\")\n",
    "plt.annotate(line_eq,(10,260),fontsize=15,color=\"red\")\n",
    "plt.xlabel('Latitude')\n",
    "plt.ylabel('Max Temp')\n",
    "print(f\"The r-squared is: {rvalue}\")\n",
    "plt.show()\n",
    "print('''\n",
    "      For northern,Latitude and Max Tem shows negative relationship;\n",
    "      high r squared value, it's a good module;\n",
    "      ''')"
   ]
  },
  {
   "cell_type": "markdown",
   "metadata": {},
   "source": [
    "####  Southern Hemisphere - Max Temp vs. Latitude Linear Regression"
   ]
  },
  {
   "cell_type": "code",
   "execution_count": 134,
   "metadata": {},
   "outputs": [
    {
     "name": "stdout",
     "output_type": "stream",
     "text": [
      "The r-squared is: 0.5399400766051832\n"
     ]
    },
    {
     "data": {
      "image/png": "[encoded data removed]",
      "text/plain": [
       "<Figure size 432x288 with 1 Axes>"
      ]
     },
     "metadata": {
      "needs_background": "light"
     },
     "output_type": "display_data"
    },
    {
     "name": "stdout",
     "output_type": "stream",
     "text": [
      "\n",
      "      For southern, Latitude and Max Tem shows positive relationship;\n",
      "      r squared value is > 0.5, it's not a best but ok module;\n",
      "      \n"
     ]
    }
   ],
   "source": [
    "x_values = Southern['Lat']\n",
    "y_values = Southern['Max Temp']\n",
    "(slope, intercept, rvalue, pvalue, stderr) = linregress(x_values, y_values)\n",
    "regress_values = x_values * slope + intercept\n",
    "line_eq = \"y = \" + str(round(slope,2)) + \"x + \" + str(round(intercept,2))\n",
    "plt.scatter(x_values,y_values)\n",
    "plt.plot(x_values,regress_values,\"r-\")\n",
    "plt.annotate(line_eq,(-30,285),fontsize=15,color=\"red\")\n",
    "plt.xlabel('Latitude')\n",
    "plt.ylabel('Max Temp')\n",
    "print(f\"The r-squared is: {rvalue}\")\n",
    "plt.show()\n",
    "print('''\n",
    "      For southern, Latitude and Max Tem shows positive relationship;\n",
    "      r squared value is > 0.5, it's not a best but ok module;\n",
    "      ''')"
   ]
  },
  {
   "cell_type": "markdown",
   "metadata": {},
   "source": [
    "####  Northern Hemisphere - Humidity (%) vs. Latitude Linear Regression"
   ]
  },
  {
   "cell_type": "code",
   "execution_count": 135,
   "metadata": {},
   "outputs": [
    {
     "name": "stdout",
     "output_type": "stream",
     "text": [
      "The r-squared is: 0.3320421829363915\n"
     ]
    },
    {
     "data": {
      "image/png": "[encoded data removed]",
      "text/plain": [
       "<Figure size 432x288 with 1 Axes>"
      ]
     },
     "metadata": {
      "needs_background": "light"
     },
     "output_type": "display_data"
    },
    {
     "name": "stdout",
     "output_type": "stream",
     "text": [
      "\n",
      "      For northern, Latitude and humidity shows positive relationship;\n",
      "      r squared value is low, it's not a good module;\n",
      "      \n"
     ]
    }
   ],
   "source": [
    "x_values = Northern['Lat']\n",
    "y_values = Northern['Humidity']\n",
    "(slope, intercept, rvalue, pvalue, stderr) = linregress(x_values, y_values)\n",
    "regress_values = x_values * slope + intercept\n",
    "line_eq = \"y = \" + str(round(slope,2)) + \"x + \" + str(round(intercept,2))\n",
    "plt.scatter(x_values,y_values)\n",
    "plt.plot(x_values,regress_values,\"r-\")\n",
    "plt.annotate(line_eq,(40,10),fontsize=15,color=\"red\")\n",
    "plt.xlabel('Latitude')\n",
    "plt.ylabel('Humidity')\n",
    "print(f\"The r-squared is: {rvalue}\")\n",
    "plt.show()\n",
    "print('''\n",
    "      For northern, Latitude and humidity shows positive relationship;\n",
    "      r squared value is low, it's not a good module;\n",
    "      ''')"
   ]
  },
  {
   "cell_type": "markdown",
   "metadata": {},
   "source": [
    "####  Southern Hemisphere - Humidity (%) vs. Latitude Linear Regression"
   ]
  },
  {
   "cell_type": "code",
   "execution_count": 136,
   "metadata": {},
   "outputs": [
    {
     "name": "stdout",
     "output_type": "stream",
     "text": [
      "The r-squared is: 0.17753932073620965\n"
     ]
    },
    {
     "data": {
      "image/png": "[encoded data removed]",
      "text/plain": [
       "<Figure size 432x288 with 1 Axes>"
      ]
     },
     "metadata": {
      "needs_background": "light"
     },
     "output_type": "display_data"
    },
    {
     "name": "stdout",
     "output_type": "stream",
     "text": [
      "\n",
      "      For southern, Latitude and humidity shows positive relationship;\n",
      "      r squared value is low, it's not a good module;\n",
      "      \n"
     ]
    }
   ],
   "source": [
    "x_values = Southern['Lat']\n",
    "y_values = Southern['Humidity']\n",
    "(slope, intercept, rvalue, pvalue, stderr) = linregress(x_values, y_values)\n",
    "regress_values = x_values * slope + intercept\n",
    "line_eq = \"y = \" + str(round(slope,2)) + \"x + \" + str(round(intercept,2))\n",
    "plt.scatter(x_values,y_values)\n",
    "plt.plot(x_values,regress_values,\"r-\")\n",
    "plt.annotate(line_eq,(-50,30),fontsize=15,color=\"red\")\n",
    "plt.xlabel('Latitude')\n",
    "plt.ylabel('Humidity')\n",
    "print(f\"The r-squared is: {rvalue}\")\n",
    "plt.show()\n",
    "print('''\n",
    "      For southern, Latitude and humidity shows positive relationship;\n",
    "      r squared value is low, it's not a good module;\n",
    "      ''')"
   ]
  },
  {
   "cell_type": "markdown",
   "metadata": {},
   "source": [
    "####  Northern Hemisphere - Cloudiness (%) vs. Latitude Linear Regression"
   ]
  },
  {
   "cell_type": "code",
   "execution_count": 137,
   "metadata": {},
   "outputs": [
    {
     "name": "stdout",
     "output_type": "stream",
     "text": [
      "The r-squared is: 0.13102918393925372\n"
     ]
    },
    {
     "data": {
      "image/png": "[encoded data removed]",
      "text/plain": [
       "<Figure size 432x288 with 1 Axes>"
      ]
     },
     "metadata": {
      "needs_background": "light"
     },
     "output_type": "display_data"
    },
    {
     "name": "stdout",
     "output_type": "stream",
     "text": [
      "\n",
      "      For northern, Latitude and cloudiness shows positive relationship;\n",
      "      r squared value is low, it's not a good module;\n",
      "      Not too much relationship bettween them\n",
      "      \n"
     ]
    }
   ],
   "source": [
    "x_values = Northern['Lat']\n",
    "y_values = Northern['Cloudiness']\n",
    "(slope, intercept, rvalue, pvalue, stderr) = linregress(x_values, y_values)\n",
    "regress_values = x_values * slope + intercept\n",
    "line_eq = \"y = \" + str(round(slope,2)) + \"x + \" + str(round(intercept,2))\n",
    "plt.scatter(x_values,y_values)\n",
    "plt.plot(x_values,regress_values,\"r-\")\n",
    "plt.annotate(line_eq,(40,10),fontsize=15,color=\"red\")\n",
    "plt.xlabel('Latitude')\n",
    "plt.ylabel('Cloudiness')\n",
    "print(f\"The r-squared is: {rvalue}\")\n",
    "plt.show()\n",
    "print('''\n",
    "      For northern, Latitude and cloudiness shows positive relationship;\n",
    "      r squared value is low, it's not a good module;\n",
    "      Not too much relationship bettween them\n",
    "      ''')"
   ]
  },
  {
   "cell_type": "markdown",
   "metadata": {},
   "source": [
    "####  Southern Hemisphere - Cloudiness (%) vs. Latitude Linear Regression"
   ]
  },
  {
   "cell_type": "code",
   "execution_count": 138,
   "metadata": {},
   "outputs": [
    {
     "name": "stdout",
     "output_type": "stream",
     "text": [
      "The r-squared is: 0.3707329133068687\n"
     ]
    },
    {
     "data": {
      "image/png": "[encoded data removed]",
      "text/plain": [
       "<Figure size 432x288 with 1 Axes>"
      ]
     },
     "metadata": {
      "needs_background": "light"
     },
     "output_type": "display_data"
    },
    {
     "name": "stdout",
     "output_type": "stream",
     "text": [
      "\n",
      "      For southern, Latitude and clodiness shows positive relationship;\n",
      "      r squared value is low, it's not a good module;\n",
      "      \n"
     ]
    }
   ],
   "source": [
    "x_values = Southern['Lat']\n",
    "y_values = Southern['Cloudiness']\n",
    "(slope, intercept, rvalue, pvalue, stderr) = linregress(x_values, y_values)\n",
    "regress_values = x_values * slope + intercept\n",
    "line_eq = \"y = \" + str(round(slope,2)) + \"x + \" + str(round(intercept,2))\n",
    "plt.scatter(x_values,y_values)\n",
    "plt.plot(x_values,regress_values,\"r-\")\n",
    "plt.annotate(line_eq,(-30,30),fontsize=15,color=\"red\")\n",
    "plt.xlabel('Latitude')\n",
    "plt.ylabel('Cloudiness')\n",
    "print(f\"The r-squared is: {rvalue}\")\n",
    "plt.show()\n",
    "print('''\n",
    "      For southern, Latitude and clodiness shows positive relationship;\n",
    "      r squared value is low, it's not a good module;\n",
    "      ''')"
   ]
  },
  {
   "cell_type": "markdown",
   "metadata": {},
   "source": [
    "####  Northern Hemisphere - Wind Speed (mph) vs. Latitude Linear Regression"
   ]
  },
  {
   "cell_type": "code",
   "execution_count": 139,
   "metadata": {},
   "outputs": [
    {
     "name": "stdout",
     "output_type": "stream",
     "text": [
      "The r-squared is: 0.18811242455651667\n"
     ]
    },
    {
     "data": {
      "image/png": "[encoded data removed]",
      "text/plain": [
       "<Figure size 432x288 with 1 Axes>"
      ]
     },
     "metadata": {
      "needs_background": "light"
     },
     "output_type": "display_data"
    },
    {
     "name": "stdout",
     "output_type": "stream",
     "text": [
      "\n",
      "      For northern, Latitude and wind speed shows not strong positive relationship;\n",
      "      r squared value is low, it's not a good module;\n",
      "      \n"
     ]
    }
   ],
   "source": [
    "x_values = Northern['Lat']\n",
    "y_values = Northern['Wind Speed']\n",
    "(slope, intercept, rvalue, pvalue, stderr) = linregress(x_values, y_values)\n",
    "regress_values = x_values * slope + intercept\n",
    "line_eq = \"y = \" + str(round(slope,2)) + \"x + \" + str(round(intercept,2))\n",
    "plt.scatter(x_values,y_values)\n",
    "plt.plot(x_values,regress_values,\"r-\")\n",
    "plt.annotate(line_eq,(40,10),fontsize=15,color=\"red\")\n",
    "plt.xlabel('Latitude')\n",
    "plt.ylabel('Wind Speed')\n",
    "print(f\"The r-squared is: {rvalue}\")\n",
    "plt.show()\n",
    "print('''\n",
    "      For northern, Latitude and wind speed shows not strong positive relationship;\n",
    "      r squared value is low, it's not a good module;\n",
    "      ''')"
   ]
  },
  {
   "cell_type": "markdown",
   "metadata": {},
   "source": [
    "####  Southern Hemisphere - Wind Speed (mph) vs. Latitude Linear Regression"
   ]
  },
  {
   "cell_type": "code",
   "execution_count": 140,
   "metadata": {},
   "outputs": [
    {
     "name": "stdout",
     "output_type": "stream",
     "text": [
      "The r-squared is: -0.3280977113135381\n"
     ]
    },
    {
     "data": {
      "image/png": "[encoded data removed]",
      "text/plain": [
       "<Figure size 432x288 with 1 Axes>"
      ]
     },
     "metadata": {
      "needs_background": "light"
     },
     "output_type": "display_data"
    },
    {
     "name": "stdout",
     "output_type": "stream",
     "text": [
      "\n",
      "      For southern, Latitude and wind speed shows negtive relationship;\n",
      "      r squared value is low, it's not a good module;\n",
      "      \n"
     ]
    }
   ],
   "source": [
    "x_values = Southern['Lat']\n",
    "y_values = Southern['Wind Speed']\n",
    "(slope, intercept, rvalue, pvalue, stderr) = linregress(x_values, y_values)\n",
    "regress_values = x_values * slope + intercept\n",
    "line_eq = \"y = \" + str(round(slope,2)) + \"x + \" + str(round(intercept,2))\n",
    "plt.scatter(x_values,y_values)\n",
    "plt.plot(x_values,regress_values,\"r-\")\n",
    "plt.annotate(line_eq,(-30,10),fontsize=15,color=\"red\")\n",
    "plt.xlabel('Latitude')\n",
    "plt.ylabel('Wind Speed')\n",
    "print(f\"The r-squared is: {rvalue}\")\n",
    "plt.show()\n",
    "print('''\n",
    "      For southern, Latitude and wind speed shows negtive relationship;\n",
    "      r squared value is low, it's not a good module;\n",
    "      ''')"
   ]
  }
 ],
 "metadata": {
  "anaconda-cloud": {},
  "kernel_info": {
   "name": "python3"
  },
  "kernelspec": {
   "display_name": "Python 3",
   "language": "python",
   "name": "python3"
  },
  "language_info": {
   "codemirror_mode": {
    "name": "ipython",
    "version": 3
   },
   "file_extension": ".py",
   "mimetype": "text/x-python",
   "name": "python",
   "nbconvert_exporter": "python",
   "pygments_lexer": "ipython3",
   "version": "3.8.1"
  },
  "latex_envs": {
   "LaTeX_envs_menu_present": true,
   "autoclose": false,
   "autocomplete": true,
   "bibliofile": "biblio.bib",
   "cite_by": "apalike",
   "current_citInitial": 1,
   "eqLabelWithNumbers": true,
   "eqNumInitial": 1,
   "hotkeys": {
    "equation": "Ctrl-E",
    "itemize": "Ctrl-I"
   },
   "labels_anchors": false,
   "latex_user_defs": false,
   "report_style_numbering": false,
   "user_envs_cfg": false
  },
  "nteract": {
   "version": "0.12.3"
  }
 },
 "nbformat": 4,
 "nbformat_minor": 2
}
